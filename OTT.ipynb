{
  "cells": [
    {
      "cell_type": "markdown",
      "metadata": {
        "id": "view-in-github",
        "colab_type": "text"
      },
      "source": [
        "<a href=\"https://colab.research.google.com/github/piyushmways/Decoding-OTT-plateform/blob/main/OTT.ipynb\" target=\"_parent\"><img src=\"https://colab.research.google.com/assets/colab-badge.svg\" alt=\"Open In Colab\"/></a>"
      ]
    },
    {
      "cell_type": "markdown",
      "source": [
        "#  A. Introduction\n",
        "**DATASET:**  The data belongs to a company, which is a leading OTT plateform. They have a global presence and doing good business.\n",
        "\n",
        "\n",
        "**GOAL OF CASE STUDY:** The purpose of this business case is to delve into the mindset of the OTT audience , aiming to provide valuable insights and recommendations for the creation of new content.\n",
        "\n",
        "**KEY ASSUMPTION:** We have assumed that the company is already doing great business and thus their strategies are working."
      ],
      "metadata": {
        "id": "Hbkuzmeti8EB"
      }
    },
    {
      "cell_type": "code",
      "execution_count": 15,
      "metadata": {
        "id": "dJ8NuUgyNyCd"
      },
      "outputs": [],
      "source": [
        "import pandas as pd   #importing necessary libraries\n",
        "import numpy as np\n",
        "import matplotlib.pyplot as plt\n",
        "import seaborn as sns"
      ]
    },
    {
      "cell_type": "code",
      "execution_count": 16,
      "metadata": {
        "colab": {
          "base_uri": "https://localhost:8080/"
        },
        "id": "ehCqPCipW3cZ",
        "outputId": "6f6f03eb-aef3-4443-e9a8-bb6eb4b01e88"
      },
      "outputs": [
        {
          "output_type": "stream",
          "name": "stdout",
          "text": [
            "Downloading...\n",
            "From: https://drive.google.com/uc?id=18XO8Pbx0zj7DbhNlvkOk8hubERE6OcH5\n",
            "To: /content/Projectpandas.csv\n",
            "\r  0% 0.00/3.40M [00:00<?, ?B/s]\r 15% 524k/3.40M [00:00<00:00, 4.89MB/s]\r100% 3.40M/3.40M [00:00<00:00, 19.4MB/s]\n"
          ]
        }
      ],
      "source": [
        "!gdown 18XO8Pbx0zj7DbhNlvkOk8hubERE6OcH5          #loading the dataset\n",
        "data=pd.read_csv(\"/content/Projectpandas.csv\")"
      ]
    },
    {
      "cell_type": "code",
      "execution_count": 17,
      "metadata": {
        "id": "ATPNio7Q5Qd2",
        "colab": {
          "base_uri": "https://localhost:8080/",
          "height": 397
        },
        "outputId": "a12944be-f028-46ca-c0e1-9e40f8f46c55"
      },
      "outputs": [
        {
          "output_type": "execute_result",
          "data": {
            "text/plain": [
              "  show_id     type                  title         director  \\\n",
              "0      s1    Movie   Dick Johnson Is Dead  Kirsten Johnson   \n",
              "1      s2  TV Show          Blood & Water              NaN   \n",
              "2      s3  TV Show              Ganglands  Julien Leclercq   \n",
              "3      s4  TV Show  Jailbirds New Orleans              NaN   \n",
              "4      s5  TV Show           Kota Factory              NaN   \n",
              "\n",
              "                                                cast        country  \\\n",
              "0                                                NaN  United States   \n",
              "1  Ama Qamata, Khosi Ngema, Gail Mabalane, Thaban...   South Africa   \n",
              "2  Sami Bouajila, Tracy Gotoas, Samuel Jouy, Nabi...            NaN   \n",
              "3                                                NaN            NaN   \n",
              "4  Mayur More, Jitendra Kumar, Ranjan Raj, Alam K...          India   \n",
              "\n",
              "           date_added  release_year rating   duration  \\\n",
              "0  September 25, 2021          2020  PG-13     90 min   \n",
              "1  September 24, 2021          2021  TV-MA  2 Seasons   \n",
              "2  September 24, 2021          2021  TV-MA   1 Season   \n",
              "3  September 24, 2021          2021  TV-MA   1 Season   \n",
              "4  September 24, 2021          2021  TV-MA  2 Seasons   \n",
              "\n",
              "                                           listed_in  \\\n",
              "0                                      Documentaries   \n",
              "1    International TV Shows, TV Dramas, TV Mysteries   \n",
              "2  Crime TV Shows, International TV Shows, TV Act...   \n",
              "3                             Docuseries, Reality TV   \n",
              "4  International TV Shows, Romantic TV Shows, TV ...   \n",
              "\n",
              "                                         description  \n",
              "0  As her father nears the end of his life, filmm...  \n",
              "1  After crossing paths at a party, a Cape Town t...  \n",
              "2  To protect his family from a powerful drug lor...  \n",
              "3  Feuds, flirtations and toilet talk go down amo...  \n",
              "4  In a city of coaching centers known to train I...  "
            ],
            "text/html": [
              "\n",
              "  <div id=\"df-bc7091ac-bb0d-4f24-afe7-30e42fee35f4\" class=\"colab-df-container\">\n",
              "    <div>\n",
              "<style scoped>\n",
              "    .dataframe tbody tr th:only-of-type {\n",
              "        vertical-align: middle;\n",
              "    }\n",
              "\n",
              "    .dataframe tbody tr th {\n",
              "        vertical-align: top;\n",
              "    }\n",
              "\n",
              "    .dataframe thead th {\n",
              "        text-align: right;\n",
              "    }\n",
              "</style>\n",
              "<table border=\"1\" class=\"dataframe\">\n",
              "  <thead>\n",
              "    <tr style=\"text-align: right;\">\n",
              "      <th></th>\n",
              "      <th>show_id</th>\n",
              "      <th>type</th>\n",
              "      <th>title</th>\n",
              "      <th>director</th>\n",
              "      <th>cast</th>\n",
              "      <th>country</th>\n",
              "      <th>date_added</th>\n",
              "      <th>release_year</th>\n",
              "      <th>rating</th>\n",
              "      <th>duration</th>\n",
              "      <th>listed_in</th>\n",
              "      <th>description</th>\n",
              "    </tr>\n",
              "  </thead>\n",
              "  <tbody>\n",
              "    <tr>\n",
              "      <th>0</th>\n",
              "      <td>s1</td>\n",
              "      <td>Movie</td>\n",
              "      <td>Dick Johnson Is Dead</td>\n",
              "      <td>Kirsten Johnson</td>\n",
              "      <td>NaN</td>\n",
              "      <td>United States</td>\n",
              "      <td>September 25, 2021</td>\n",
              "      <td>2020</td>\n",
              "      <td>PG-13</td>\n",
              "      <td>90 min</td>\n",
              "      <td>Documentaries</td>\n",
              "      <td>As her father nears the end of his life, filmm...</td>\n",
              "    </tr>\n",
              "    <tr>\n",
              "      <th>1</th>\n",
              "      <td>s2</td>\n",
              "      <td>TV Show</td>\n",
              "      <td>Blood &amp; Water</td>\n",
              "      <td>NaN</td>\n",
              "      <td>Ama Qamata, Khosi Ngema, Gail Mabalane, Thaban...</td>\n",
              "      <td>South Africa</td>\n",
              "      <td>September 24, 2021</td>\n",
              "      <td>2021</td>\n",
              "      <td>TV-MA</td>\n",
              "      <td>2 Seasons</td>\n",
              "      <td>International TV Shows, TV Dramas, TV Mysteries</td>\n",
              "      <td>After crossing paths at a party, a Cape Town t...</td>\n",
              "    </tr>\n",
              "    <tr>\n",
              "      <th>2</th>\n",
              "      <td>s3</td>\n",
              "      <td>TV Show</td>\n",
              "      <td>Ganglands</td>\n",
              "      <td>Julien Leclercq</td>\n",
              "      <td>Sami Bouajila, Tracy Gotoas, Samuel Jouy, Nabi...</td>\n",
              "      <td>NaN</td>\n",
              "      <td>September 24, 2021</td>\n",
              "      <td>2021</td>\n",
              "      <td>TV-MA</td>\n",
              "      <td>1 Season</td>\n",
              "      <td>Crime TV Shows, International TV Shows, TV Act...</td>\n",
              "      <td>To protect his family from a powerful drug lor...</td>\n",
              "    </tr>\n",
              "    <tr>\n",
              "      <th>3</th>\n",
              "      <td>s4</td>\n",
              "      <td>TV Show</td>\n",
              "      <td>Jailbirds New Orleans</td>\n",
              "      <td>NaN</td>\n",
              "      <td>NaN</td>\n",
              "      <td>NaN</td>\n",
              "      <td>September 24, 2021</td>\n",
              "      <td>2021</td>\n",
              "      <td>TV-MA</td>\n",
              "      <td>1 Season</td>\n",
              "      <td>Docuseries, Reality TV</td>\n",
              "      <td>Feuds, flirtations and toilet talk go down amo...</td>\n",
              "    </tr>\n",
              "    <tr>\n",
              "      <th>4</th>\n",
              "      <td>s5</td>\n",
              "      <td>TV Show</td>\n",
              "      <td>Kota Factory</td>\n",
              "      <td>NaN</td>\n",
              "      <td>Mayur More, Jitendra Kumar, Ranjan Raj, Alam K...</td>\n",
              "      <td>India</td>\n",
              "      <td>September 24, 2021</td>\n",
              "      <td>2021</td>\n",
              "      <td>TV-MA</td>\n",
              "      <td>2 Seasons</td>\n",
              "      <td>International TV Shows, Romantic TV Shows, TV ...</td>\n",
              "      <td>In a city of coaching centers known to train I...</td>\n",
              "    </tr>\n",
              "  </tbody>\n",
              "</table>\n",
              "</div>\n",
              "    <div class=\"colab-df-buttons\">\n",
              "\n",
              "  <div class=\"colab-df-container\">\n",
              "    <button class=\"colab-df-convert\" onclick=\"convertToInteractive('df-bc7091ac-bb0d-4f24-afe7-30e42fee35f4')\"\n",
              "            title=\"Convert this dataframe to an interactive table.\"\n",
              "            style=\"display:none;\">\n",
              "\n",
              "  <svg xmlns=\"http://www.w3.org/2000/svg\" height=\"24px\" viewBox=\"0 -960 960 960\">\n",
              "    <path d=\"M120-120v-720h720v720H120Zm60-500h600v-160H180v160Zm220 220h160v-160H400v160Zm0 220h160v-160H400v160ZM180-400h160v-160H180v160Zm440 0h160v-160H620v160ZM180-180h160v-160H180v160Zm440 0h160v-160H620v160Z\"/>\n",
              "  </svg>\n",
              "    </button>\n",
              "\n",
              "  <style>\n",
              "    .colab-df-container {\n",
              "      display:flex;\n",
              "      gap: 12px;\n",
              "    }\n",
              "\n",
              "    .colab-df-convert {\n",
              "      background-color: #E8F0FE;\n",
              "      border: none;\n",
              "      border-radius: 50%;\n",
              "      cursor: pointer;\n",
              "      display: none;\n",
              "      fill: #1967D2;\n",
              "      height: 32px;\n",
              "      padding: 0 0 0 0;\n",
              "      width: 32px;\n",
              "    }\n",
              "\n",
              "    .colab-df-convert:hover {\n",
              "      background-color: #E2EBFA;\n",
              "      box-shadow: 0px 1px 2px rgba(60, 64, 67, 0.3), 0px 1px 3px 1px rgba(60, 64, 67, 0.15);\n",
              "      fill: #174EA6;\n",
              "    }\n",
              "\n",
              "    .colab-df-buttons div {\n",
              "      margin-bottom: 4px;\n",
              "    }\n",
              "\n",
              "    [theme=dark] .colab-df-convert {\n",
              "      background-color: #3B4455;\n",
              "      fill: #D2E3FC;\n",
              "    }\n",
              "\n",
              "    [theme=dark] .colab-df-convert:hover {\n",
              "      background-color: #434B5C;\n",
              "      box-shadow: 0px 1px 3px 1px rgba(0, 0, 0, 0.15);\n",
              "      filter: drop-shadow(0px 1px 2px rgba(0, 0, 0, 0.3));\n",
              "      fill: #FFFFFF;\n",
              "    }\n",
              "  </style>\n",
              "\n",
              "    <script>\n",
              "      const buttonEl =\n",
              "        document.querySelector('#df-bc7091ac-bb0d-4f24-afe7-30e42fee35f4 button.colab-df-convert');\n",
              "      buttonEl.style.display =\n",
              "        google.colab.kernel.accessAllowed ? 'block' : 'none';\n",
              "\n",
              "      async function convertToInteractive(key) {\n",
              "        const element = document.querySelector('#df-bc7091ac-bb0d-4f24-afe7-30e42fee35f4');\n",
              "        const dataTable =\n",
              "          await google.colab.kernel.invokeFunction('convertToInteractive',\n",
              "                                                    [key], {});\n",
              "        if (!dataTable) return;\n",
              "\n",
              "        const docLinkHtml = 'Like what you see? Visit the ' +\n",
              "          '<a target=\"_blank\" href=https://colab.research.google.com/notebooks/data_table.ipynb>data table notebook</a>'\n",
              "          + ' to learn more about interactive tables.';\n",
              "        element.innerHTML = '';\n",
              "        dataTable['output_type'] = 'display_data';\n",
              "        await google.colab.output.renderOutput(dataTable, element);\n",
              "        const docLink = document.createElement('div');\n",
              "        docLink.innerHTML = docLinkHtml;\n",
              "        element.appendChild(docLink);\n",
              "      }\n",
              "    </script>\n",
              "  </div>\n",
              "\n",
              "\n",
              "<div id=\"df-f1bf2ab4-affa-4ece-a62e-427b4f1eb3d5\">\n",
              "  <button class=\"colab-df-quickchart\" onclick=\"quickchart('df-f1bf2ab4-affa-4ece-a62e-427b4f1eb3d5')\"\n",
              "            title=\"Suggest charts\"\n",
              "            style=\"display:none;\">\n",
              "\n",
              "<svg xmlns=\"http://www.w3.org/2000/svg\" height=\"24px\"viewBox=\"0 0 24 24\"\n",
              "     width=\"24px\">\n",
              "    <g>\n",
              "        <path d=\"M19 3H5c-1.1 0-2 .9-2 2v14c0 1.1.9 2 2 2h14c1.1 0 2-.9 2-2V5c0-1.1-.9-2-2-2zM9 17H7v-7h2v7zm4 0h-2V7h2v10zm4 0h-2v-4h2v4z\"/>\n",
              "    </g>\n",
              "</svg>\n",
              "  </button>\n",
              "\n",
              "<style>\n",
              "  .colab-df-quickchart {\n",
              "      --bg-color: #E8F0FE;\n",
              "      --fill-color: #1967D2;\n",
              "      --hover-bg-color: #E2EBFA;\n",
              "      --hover-fill-color: #174EA6;\n",
              "      --disabled-fill-color: #AAA;\n",
              "      --disabled-bg-color: #DDD;\n",
              "  }\n",
              "\n",
              "  [theme=dark] .colab-df-quickchart {\n",
              "      --bg-color: #3B4455;\n",
              "      --fill-color: #D2E3FC;\n",
              "      --hover-bg-color: #434B5C;\n",
              "      --hover-fill-color: #FFFFFF;\n",
              "      --disabled-bg-color: #3B4455;\n",
              "      --disabled-fill-color: #666;\n",
              "  }\n",
              "\n",
              "  .colab-df-quickchart {\n",
              "    background-color: var(--bg-color);\n",
              "    border: none;\n",
              "    border-radius: 50%;\n",
              "    cursor: pointer;\n",
              "    display: none;\n",
              "    fill: var(--fill-color);\n",
              "    height: 32px;\n",
              "    padding: 0;\n",
              "    width: 32px;\n",
              "  }\n",
              "\n",
              "  .colab-df-quickchart:hover {\n",
              "    background-color: var(--hover-bg-color);\n",
              "    box-shadow: 0 1px 2px rgba(60, 64, 67, 0.3), 0 1px 3px 1px rgba(60, 64, 67, 0.15);\n",
              "    fill: var(--button-hover-fill-color);\n",
              "  }\n",
              "\n",
              "  .colab-df-quickchart-complete:disabled,\n",
              "  .colab-df-quickchart-complete:disabled:hover {\n",
              "    background-color: var(--disabled-bg-color);\n",
              "    fill: var(--disabled-fill-color);\n",
              "    box-shadow: none;\n",
              "  }\n",
              "\n",
              "  .colab-df-spinner {\n",
              "    border: 2px solid var(--fill-color);\n",
              "    border-color: transparent;\n",
              "    border-bottom-color: var(--fill-color);\n",
              "    animation:\n",
              "      spin 1s steps(1) infinite;\n",
              "  }\n",
              "\n",
              "  @keyframes spin {\n",
              "    0% {\n",
              "      border-color: transparent;\n",
              "      border-bottom-color: var(--fill-color);\n",
              "      border-left-color: var(--fill-color);\n",
              "    }\n",
              "    20% {\n",
              "      border-color: transparent;\n",
              "      border-left-color: var(--fill-color);\n",
              "      border-top-color: var(--fill-color);\n",
              "    }\n",
              "    30% {\n",
              "      border-color: transparent;\n",
              "      border-left-color: var(--fill-color);\n",
              "      border-top-color: var(--fill-color);\n",
              "      border-right-color: var(--fill-color);\n",
              "    }\n",
              "    40% {\n",
              "      border-color: transparent;\n",
              "      border-right-color: var(--fill-color);\n",
              "      border-top-color: var(--fill-color);\n",
              "    }\n",
              "    60% {\n",
              "      border-color: transparent;\n",
              "      border-right-color: var(--fill-color);\n",
              "    }\n",
              "    80% {\n",
              "      border-color: transparent;\n",
              "      border-right-color: var(--fill-color);\n",
              "      border-bottom-color: var(--fill-color);\n",
              "    }\n",
              "    90% {\n",
              "      border-color: transparent;\n",
              "      border-bottom-color: var(--fill-color);\n",
              "    }\n",
              "  }\n",
              "</style>\n",
              "\n",
              "  <script>\n",
              "    async function quickchart(key) {\n",
              "      const quickchartButtonEl =\n",
              "        document.querySelector('#' + key + ' button');\n",
              "      quickchartButtonEl.disabled = true;  // To prevent multiple clicks.\n",
              "      quickchartButtonEl.classList.add('colab-df-spinner');\n",
              "      try {\n",
              "        const charts = await google.colab.kernel.invokeFunction(\n",
              "            'suggestCharts', [key], {});\n",
              "      } catch (error) {\n",
              "        console.error('Error during call to suggestCharts:', error);\n",
              "      }\n",
              "      quickchartButtonEl.classList.remove('colab-df-spinner');\n",
              "      quickchartButtonEl.classList.add('colab-df-quickchart-complete');\n",
              "    }\n",
              "    (() => {\n",
              "      let quickchartButtonEl =\n",
              "        document.querySelector('#df-f1bf2ab4-affa-4ece-a62e-427b4f1eb3d5 button');\n",
              "      quickchartButtonEl.style.display =\n",
              "        google.colab.kernel.accessAllowed ? 'block' : 'none';\n",
              "    })();\n",
              "  </script>\n",
              "</div>\n",
              "\n",
              "    </div>\n",
              "  </div>\n"
            ]
          },
          "metadata": {},
          "execution_count": 17
        }
      ],
      "source": [
        "df=data.copy()     #creating a deep copy to avoid any wanted manupulation in original dataset\n",
        "pd.set_option('display.max_rows',None)\n",
        "df.head()"
      ]
    },
    {
      "cell_type": "code",
      "execution_count": 18,
      "metadata": {
        "colab": {
          "base_uri": "https://localhost:8080/"
        },
        "id": "P9m_zhyyVFJA",
        "outputId": "2d5f83a5-79fc-4c48-8a8f-7e39402fa188"
      },
      "outputs": [
        {
          "output_type": "execute_result",
          "data": {
            "text/plain": [
              "(8807, 12)"
            ]
          },
          "metadata": {},
          "execution_count": 18
        }
      ],
      "source": [
        "df.shape  #checking row and columns"
      ]
    },
    {
      "cell_type": "code",
      "execution_count": 19,
      "metadata": {
        "colab": {
          "base_uri": "https://localhost:8080/"
        },
        "id": "bMiXHNk5W3E9",
        "outputId": "d2b65c13-4218-4246-f1eb-cf88a278397a"
      },
      "outputs": [
        {
          "output_type": "stream",
          "name": "stdout",
          "text": [
            "<class 'pandas.core.frame.DataFrame'>\n",
            "RangeIndex: 8807 entries, 0 to 8806\n",
            "Data columns (total 12 columns):\n",
            " #   Column        Non-Null Count  Dtype \n",
            "---  ------        --------------  ----- \n",
            " 0   show_id       8807 non-null   object\n",
            " 1   type          8807 non-null   object\n",
            " 2   title         8807 non-null   object\n",
            " 3   director      6173 non-null   object\n",
            " 4   cast          7982 non-null   object\n",
            " 5   country       7976 non-null   object\n",
            " 6   date_added    8797 non-null   object\n",
            " 7   release_year  8807 non-null   int64 \n",
            " 8   rating        8803 non-null   object\n",
            " 9   duration      8804 non-null   object\n",
            " 10  listed_in     8807 non-null   object\n",
            " 11  description   8807 non-null   object\n",
            "dtypes: int64(1), object(11)\n",
            "memory usage: 825.8+ KB\n"
          ]
        }
      ],
      "source": [
        "df.info()   #checking basic details of data"
      ]
    },
    {
      "cell_type": "markdown",
      "source": [
        "Remarks:\n",
        "1.   Missing values are present in dataset\n",
        "2.   Datatypes conversion is required.\n",
        "\n",
        "\n",
        "\n",
        "\n"
      ],
      "metadata": {
        "id": "K7vSNzUIuQY4"
      }
    },
    {
      "cell_type": "markdown",
      "source": [
        "# B. Preprocessing"
      ],
      "metadata": {
        "id": "H2QI0XB07lkl"
      }
    },
    {
      "cell_type": "code",
      "source": [],
      "metadata": {
        "id": "x0Ocnb6Y8Bkn"
      },
      "execution_count": null,
      "outputs": []
    },
    {
      "cell_type": "markdown",
      "metadata": {
        "id": "ZnrwAe0BOwrh"
      },
      "source": [
        "# B.1 Checking the duplicate entries"
      ]
    },
    {
      "cell_type": "code",
      "execution_count": 20,
      "metadata": {
        "colab": {
          "base_uri": "https://localhost:8080/",
          "height": 53
        },
        "id": "lPvbr7hqZef3",
        "outputId": "f40f3829-d702-46fd-a834-04a06603f0ae"
      },
      "outputs": [
        {
          "output_type": "execute_result",
          "data": {
            "text/plain": [
              "Empty DataFrame\n",
              "Columns: [show_id, type, title, director, cast, country, date_added, release_year, rating, duration, listed_in, description]\n",
              "Index: []"
            ],
            "text/html": [
              "\n",
              "  <div id=\"df-cf2f82aa-5b9d-47b7-ab21-cad4f05eed2a\" class=\"colab-df-container\">\n",
              "    <div>\n",
              "<style scoped>\n",
              "    .dataframe tbody tr th:only-of-type {\n",
              "        vertical-align: middle;\n",
              "    }\n",
              "\n",
              "    .dataframe tbody tr th {\n",
              "        vertical-align: top;\n",
              "    }\n",
              "\n",
              "    .dataframe thead th {\n",
              "        text-align: right;\n",
              "    }\n",
              "</style>\n",
              "<table border=\"1\" class=\"dataframe\">\n",
              "  <thead>\n",
              "    <tr style=\"text-align: right;\">\n",
              "      <th></th>\n",
              "      <th>show_id</th>\n",
              "      <th>type</th>\n",
              "      <th>title</th>\n",
              "      <th>director</th>\n",
              "      <th>cast</th>\n",
              "      <th>country</th>\n",
              "      <th>date_added</th>\n",
              "      <th>release_year</th>\n",
              "      <th>rating</th>\n",
              "      <th>duration</th>\n",
              "      <th>listed_in</th>\n",
              "      <th>description</th>\n",
              "    </tr>\n",
              "  </thead>\n",
              "  <tbody>\n",
              "  </tbody>\n",
              "</table>\n",
              "</div>\n",
              "    <div class=\"colab-df-buttons\">\n",
              "\n",
              "  <div class=\"colab-df-container\">\n",
              "    <button class=\"colab-df-convert\" onclick=\"convertToInteractive('df-cf2f82aa-5b9d-47b7-ab21-cad4f05eed2a')\"\n",
              "            title=\"Convert this dataframe to an interactive table.\"\n",
              "            style=\"display:none;\">\n",
              "\n",
              "  <svg xmlns=\"http://www.w3.org/2000/svg\" height=\"24px\" viewBox=\"0 -960 960 960\">\n",
              "    <path d=\"M120-120v-720h720v720H120Zm60-500h600v-160H180v160Zm220 220h160v-160H400v160Zm0 220h160v-160H400v160ZM180-400h160v-160H180v160Zm440 0h160v-160H620v160ZM180-180h160v-160H180v160Zm440 0h160v-160H620v160Z\"/>\n",
              "  </svg>\n",
              "    </button>\n",
              "\n",
              "  <style>\n",
              "    .colab-df-container {\n",
              "      display:flex;\n",
              "      gap: 12px;\n",
              "    }\n",
              "\n",
              "    .colab-df-convert {\n",
              "      background-color: #E8F0FE;\n",
              "      border: none;\n",
              "      border-radius: 50%;\n",
              "      cursor: pointer;\n",
              "      display: none;\n",
              "      fill: #1967D2;\n",
              "      height: 32px;\n",
              "      padding: 0 0 0 0;\n",
              "      width: 32px;\n",
              "    }\n",
              "\n",
              "    .colab-df-convert:hover {\n",
              "      background-color: #E2EBFA;\n",
              "      box-shadow: 0px 1px 2px rgba(60, 64, 67, 0.3), 0px 1px 3px 1px rgba(60, 64, 67, 0.15);\n",
              "      fill: #174EA6;\n",
              "    }\n",
              "\n",
              "    .colab-df-buttons div {\n",
              "      margin-bottom: 4px;\n",
              "    }\n",
              "\n",
              "    [theme=dark] .colab-df-convert {\n",
              "      background-color: #3B4455;\n",
              "      fill: #D2E3FC;\n",
              "    }\n",
              "\n",
              "    [theme=dark] .colab-df-convert:hover {\n",
              "      background-color: #434B5C;\n",
              "      box-shadow: 0px 1px 3px 1px rgba(0, 0, 0, 0.15);\n",
              "      filter: drop-shadow(0px 1px 2px rgba(0, 0, 0, 0.3));\n",
              "      fill: #FFFFFF;\n",
              "    }\n",
              "  </style>\n",
              "\n",
              "    <script>\n",
              "      const buttonEl =\n",
              "        document.querySelector('#df-cf2f82aa-5b9d-47b7-ab21-cad4f05eed2a button.colab-df-convert');\n",
              "      buttonEl.style.display =\n",
              "        google.colab.kernel.accessAllowed ? 'block' : 'none';\n",
              "\n",
              "      async function convertToInteractive(key) {\n",
              "        const element = document.querySelector('#df-cf2f82aa-5b9d-47b7-ab21-cad4f05eed2a');\n",
              "        const dataTable =\n",
              "          await google.colab.kernel.invokeFunction('convertToInteractive',\n",
              "                                                    [key], {});\n",
              "        if (!dataTable) return;\n",
              "\n",
              "        const docLinkHtml = 'Like what you see? Visit the ' +\n",
              "          '<a target=\"_blank\" href=https://colab.research.google.com/notebooks/data_table.ipynb>data table notebook</a>'\n",
              "          + ' to learn more about interactive tables.';\n",
              "        element.innerHTML = '';\n",
              "        dataTable['output_type'] = 'display_data';\n",
              "        await google.colab.output.renderOutput(dataTable, element);\n",
              "        const docLink = document.createElement('div');\n",
              "        docLink.innerHTML = docLinkHtml;\n",
              "        element.appendChild(docLink);\n",
              "      }\n",
              "    </script>\n",
              "  </div>\n",
              "\n",
              "\n",
              "    </div>\n",
              "  </div>\n"
            ]
          },
          "metadata": {},
          "execution_count": 20
        }
      ],
      "source": [
        "df[df.duplicated()]"
      ]
    },
    {
      "cell_type": "markdown",
      "metadata": {
        "id": "XX4krS6J5Qd6"
      },
      "source": [
        "Remarks\n",
        "1. it may be noted that Dataset do not contains any duplicate entry"
      ]
    },
    {
      "cell_type": "markdown",
      "source": [
        "# B.2 Missing Value Detection"
      ],
      "metadata": {
        "id": "yTVz2Y_dmsuA"
      }
    },
    {
      "cell_type": "code",
      "source": [
        "#percentage of rows that contains missing value\n",
        "print(\"Percentage of rows with missing data:\",round(100*df.isnull().any(axis=1).sum()/df.shape[0]),\"%\")"
      ],
      "metadata": {
        "colab": {
          "base_uri": "https://localhost:8080/"
        },
        "id": "LZ06cA3YyAK1",
        "outputId": "f02bdcde-e5eb-46f7-c987-226b9275bff4"
      },
      "execution_count": 21,
      "outputs": [
        {
          "output_type": "stream",
          "name": "stdout",
          "text": [
            "Percentage of rows with missing data: 39 %\n"
          ]
        }
      ]
    },
    {
      "cell_type": "markdown",
      "source": [
        "Remarks:\n",
        "\n",
        "      1. The Dataset is not of Good quality.\n",
        "      2. 39% of entries in dataset are incomplete.\n",
        "      3. lets try to study nature of missing values to impute them"
      ],
      "metadata": {
        "id": "w38IJuvS2q7i"
      }
    },
    {
      "cell_type": "code",
      "execution_count": 22,
      "metadata": {
        "colab": {
          "base_uri": "https://localhost:8080/"
        },
        "id": "z86Zs4tftJNL",
        "outputId": "b123c52e-f236-46cf-ddf3-3913a571e21a"
      },
      "outputs": [
        {
          "output_type": "execute_result",
          "data": {
            "text/plain": [
              "show_id            0\n",
              "type               0\n",
              "title              0\n",
              "director        2634\n",
              "cast             825\n",
              "country          831\n",
              "date_added        10\n",
              "release_year       0\n",
              "rating             4\n",
              "duration           3\n",
              "listed_in          0\n",
              "description        0\n",
              "dtype: int64"
            ]
          },
          "metadata": {},
          "execution_count": 22
        }
      ],
      "source": [
        "df.isnull().sum()    #missing values in columns"
      ]
    },
    {
      "cell_type": "code",
      "execution_count": 23,
      "metadata": {
        "colab": {
          "base_uri": "https://localhost:8080/"
        },
        "id": "bn5o2B7E5Qd6",
        "outputId": "3791198f-af4b-4784-d7f7-2e8329ad7cf9"
      },
      "outputs": [
        {
          "output_type": "execute_result",
          "data": {
            "text/plain": [
              "show_id          0.000000\n",
              "type             0.000000\n",
              "title            0.000000\n",
              "director        42.669691\n",
              "cast            10.335755\n",
              "country         10.418756\n",
              "date_added       0.113675\n",
              "release_year     0.000000\n",
              "rating           0.045439\n",
              "duration         0.034075\n",
              "listed_in        0.000000\n",
              "description      0.000000\n",
              "dtype: float64"
            ]
          },
          "metadata": {},
          "execution_count": 23
        }
      ],
      "source": [
        "df.isnull().sum()*100/df.count()  #percentage of nulls in columns"
      ]
    },
    {
      "cell_type": "markdown",
      "metadata": {
        "id": "ITAysRAPqlJh"
      },
      "source": [
        "Remarks\n",
        "\n",
        "1. It must be noted that most of the features are string.\n",
        "   \n",
        "2. The Columns that contains null values are:\n",
        "    > 1. director Column\n",
        "    > 2. cast Column\n",
        "    > 3. country Column\n",
        "    > 4. date_added Column\n",
        "    > 5. rating Column\n",
        "    > 6. duration Column\n",
        "\n",
        "\n",
        "3. Some features have large number of null values."
      ]
    },
    {
      "cell_type": "markdown",
      "metadata": {
        "id": "Sqnebe0n9y-A"
      },
      "source": [
        "# B.3. Missing Value Imputation\n"
      ]
    },
    {
      "cell_type": "markdown",
      "metadata": {
        "id": "z4e6I2pYzZaE"
      },
      "source": [
        "1. Missing values Imputations: Rating Column"
      ]
    },
    {
      "cell_type": "code",
      "execution_count": 24,
      "metadata": {
        "colab": {
          "base_uri": "https://localhost:8080/"
        },
        "id": "wS4xtJ5Jh6lZ",
        "outputId": "bf75c5d0-ce64-41b5-85e4-4ab8c0ebec55"
      },
      "outputs": [
        {
          "output_type": "execute_result",
          "data": {
            "text/plain": [
              "TV-MA       3207\n",
              "TV-14       2160\n",
              "TV-PG        863\n",
              "R            799\n",
              "PG-13        490\n",
              "TV-Y7        334\n",
              "TV-Y         307\n",
              "PG           287\n",
              "TV-G         220\n",
              "NR            80\n",
              "G             41\n",
              "TV-Y7-FV       6\n",
              "NC-17          3\n",
              "UR             3\n",
              "74 min         1\n",
              "84 min         1\n",
              "66 min         1\n",
              "Name: rating, dtype: int64"
            ]
          },
          "metadata": {},
          "execution_count": 24
        }
      ],
      "source": [
        "df['rating'].value_counts()"
      ]
    },
    {
      "cell_type": "markdown",
      "metadata": {
        "id": "kcObaoAn5Qd7"
      },
      "source": [
        "Remarks:\n",
        "1. It must be noted that **min** can not be a rating, rather it is some mistake lets check the entry."
      ]
    },
    {
      "cell_type": "code",
      "execution_count": 25,
      "metadata": {
        "colab": {
          "base_uri": "https://localhost:8080/",
          "height": 195
        },
        "id": "z26qt43s5Qd7",
        "outputId": "ed2cc3af-35f4-488f-985e-0d89724010e2"
      },
      "outputs": [
        {
          "output_type": "execute_result",
          "data": {
            "text/plain": [
              "     show_id   type                                 title    director  \\\n",
              "5541   s5542  Movie                       Louis C.K. 2017  Louis C.K.   \n",
              "5794   s5795  Movie                 Louis C.K.: Hilarious  Louis C.K.   \n",
              "5813   s5814  Movie  Louis C.K.: Live at the Comedy Store  Louis C.K.   \n",
              "\n",
              "            cast        country          date_added  release_year  rating  \\\n",
              "5541  Louis C.K.  United States       April 4, 2017          2017  74 min   \n",
              "5794  Louis C.K.  United States  September 16, 2016          2010  84 min   \n",
              "5813  Louis C.K.  United States     August 15, 2016          2015  66 min   \n",
              "\n",
              "     duration listed_in                                        description  \n",
              "5541      NaN    Movies  Louis C.K. muses on religion, eternal love, gi...  \n",
              "5794      NaN    Movies  Emmy-winning comedy writer Louis C.K. brings h...  \n",
              "5813      NaN    Movies  The comic puts his trademark hilarious/thought...  "
            ],
            "text/html": [
              "\n",
              "  <div id=\"df-2fcc0ac6-995b-438d-a6c8-424f222220d9\" class=\"colab-df-container\">\n",
              "    <div>\n",
              "<style scoped>\n",
              "    .dataframe tbody tr th:only-of-type {\n",
              "        vertical-align: middle;\n",
              "    }\n",
              "\n",
              "    .dataframe tbody tr th {\n",
              "        vertical-align: top;\n",
              "    }\n",
              "\n",
              "    .dataframe thead th {\n",
              "        text-align: right;\n",
              "    }\n",
              "</style>\n",
              "<table border=\"1\" class=\"dataframe\">\n",
              "  <thead>\n",
              "    <tr style=\"text-align: right;\">\n",
              "      <th></th>\n",
              "      <th>show_id</th>\n",
              "      <th>type</th>\n",
              "      <th>title</th>\n",
              "      <th>director</th>\n",
              "      <th>cast</th>\n",
              "      <th>country</th>\n",
              "      <th>date_added</th>\n",
              "      <th>release_year</th>\n",
              "      <th>rating</th>\n",
              "      <th>duration</th>\n",
              "      <th>listed_in</th>\n",
              "      <th>description</th>\n",
              "    </tr>\n",
              "  </thead>\n",
              "  <tbody>\n",
              "    <tr>\n",
              "      <th>5541</th>\n",
              "      <td>s5542</td>\n",
              "      <td>Movie</td>\n",
              "      <td>Louis C.K. 2017</td>\n",
              "      <td>Louis C.K.</td>\n",
              "      <td>Louis C.K.</td>\n",
              "      <td>United States</td>\n",
              "      <td>April 4, 2017</td>\n",
              "      <td>2017</td>\n",
              "      <td>74 min</td>\n",
              "      <td>NaN</td>\n",
              "      <td>Movies</td>\n",
              "      <td>Louis C.K. muses on religion, eternal love, gi...</td>\n",
              "    </tr>\n",
              "    <tr>\n",
              "      <th>5794</th>\n",
              "      <td>s5795</td>\n",
              "      <td>Movie</td>\n",
              "      <td>Louis C.K.: Hilarious</td>\n",
              "      <td>Louis C.K.</td>\n",
              "      <td>Louis C.K.</td>\n",
              "      <td>United States</td>\n",
              "      <td>September 16, 2016</td>\n",
              "      <td>2010</td>\n",
              "      <td>84 min</td>\n",
              "      <td>NaN</td>\n",
              "      <td>Movies</td>\n",
              "      <td>Emmy-winning comedy writer Louis C.K. brings h...</td>\n",
              "    </tr>\n",
              "    <tr>\n",
              "      <th>5813</th>\n",
              "      <td>s5814</td>\n",
              "      <td>Movie</td>\n",
              "      <td>Louis C.K.: Live at the Comedy Store</td>\n",
              "      <td>Louis C.K.</td>\n",
              "      <td>Louis C.K.</td>\n",
              "      <td>United States</td>\n",
              "      <td>August 15, 2016</td>\n",
              "      <td>2015</td>\n",
              "      <td>66 min</td>\n",
              "      <td>NaN</td>\n",
              "      <td>Movies</td>\n",
              "      <td>The comic puts his trademark hilarious/thought...</td>\n",
              "    </tr>\n",
              "  </tbody>\n",
              "</table>\n",
              "</div>\n",
              "    <div class=\"colab-df-buttons\">\n",
              "\n",
              "  <div class=\"colab-df-container\">\n",
              "    <button class=\"colab-df-convert\" onclick=\"convertToInteractive('df-2fcc0ac6-995b-438d-a6c8-424f222220d9')\"\n",
              "            title=\"Convert this dataframe to an interactive table.\"\n",
              "            style=\"display:none;\">\n",
              "\n",
              "  <svg xmlns=\"http://www.w3.org/2000/svg\" height=\"24px\" viewBox=\"0 -960 960 960\">\n",
              "    <path d=\"M120-120v-720h720v720H120Zm60-500h600v-160H180v160Zm220 220h160v-160H400v160Zm0 220h160v-160H400v160ZM180-400h160v-160H180v160Zm440 0h160v-160H620v160ZM180-180h160v-160H180v160Zm440 0h160v-160H620v160Z\"/>\n",
              "  </svg>\n",
              "    </button>\n",
              "\n",
              "  <style>\n",
              "    .colab-df-container {\n",
              "      display:flex;\n",
              "      gap: 12px;\n",
              "    }\n",
              "\n",
              "    .colab-df-convert {\n",
              "      background-color: #E8F0FE;\n",
              "      border: none;\n",
              "      border-radius: 50%;\n",
              "      cursor: pointer;\n",
              "      display: none;\n",
              "      fill: #1967D2;\n",
              "      height: 32px;\n",
              "      padding: 0 0 0 0;\n",
              "      width: 32px;\n",
              "    }\n",
              "\n",
              "    .colab-df-convert:hover {\n",
              "      background-color: #E2EBFA;\n",
              "      box-shadow: 0px 1px 2px rgba(60, 64, 67, 0.3), 0px 1px 3px 1px rgba(60, 64, 67, 0.15);\n",
              "      fill: #174EA6;\n",
              "    }\n",
              "\n",
              "    .colab-df-buttons div {\n",
              "      margin-bottom: 4px;\n",
              "    }\n",
              "\n",
              "    [theme=dark] .colab-df-convert {\n",
              "      background-color: #3B4455;\n",
              "      fill: #D2E3FC;\n",
              "    }\n",
              "\n",
              "    [theme=dark] .colab-df-convert:hover {\n",
              "      background-color: #434B5C;\n",
              "      box-shadow: 0px 1px 3px 1px rgba(0, 0, 0, 0.15);\n",
              "      filter: drop-shadow(0px 1px 2px rgba(0, 0, 0, 0.3));\n",
              "      fill: #FFFFFF;\n",
              "    }\n",
              "  </style>\n",
              "\n",
              "    <script>\n",
              "      const buttonEl =\n",
              "        document.querySelector('#df-2fcc0ac6-995b-438d-a6c8-424f222220d9 button.colab-df-convert');\n",
              "      buttonEl.style.display =\n",
              "        google.colab.kernel.accessAllowed ? 'block' : 'none';\n",
              "\n",
              "      async function convertToInteractive(key) {\n",
              "        const element = document.querySelector('#df-2fcc0ac6-995b-438d-a6c8-424f222220d9');\n",
              "        const dataTable =\n",
              "          await google.colab.kernel.invokeFunction('convertToInteractive',\n",
              "                                                    [key], {});\n",
              "        if (!dataTable) return;\n",
              "\n",
              "        const docLinkHtml = 'Like what you see? Visit the ' +\n",
              "          '<a target=\"_blank\" href=https://colab.research.google.com/notebooks/data_table.ipynb>data table notebook</a>'\n",
              "          + ' to learn more about interactive tables.';\n",
              "        element.innerHTML = '';\n",
              "        dataTable['output_type'] = 'display_data';\n",
              "        await google.colab.output.renderOutput(dataTable, element);\n",
              "        const docLink = document.createElement('div');\n",
              "        docLink.innerHTML = docLinkHtml;\n",
              "        element.appendChild(docLink);\n",
              "      }\n",
              "    </script>\n",
              "  </div>\n",
              "\n",
              "\n",
              "<div id=\"df-98c9f0fd-6db3-4995-8d65-e3dde7756ac4\">\n",
              "  <button class=\"colab-df-quickchart\" onclick=\"quickchart('df-98c9f0fd-6db3-4995-8d65-e3dde7756ac4')\"\n",
              "            title=\"Suggest charts\"\n",
              "            style=\"display:none;\">\n",
              "\n",
              "<svg xmlns=\"http://www.w3.org/2000/svg\" height=\"24px\"viewBox=\"0 0 24 24\"\n",
              "     width=\"24px\">\n",
              "    <g>\n",
              "        <path d=\"M19 3H5c-1.1 0-2 .9-2 2v14c0 1.1.9 2 2 2h14c1.1 0 2-.9 2-2V5c0-1.1-.9-2-2-2zM9 17H7v-7h2v7zm4 0h-2V7h2v10zm4 0h-2v-4h2v4z\"/>\n",
              "    </g>\n",
              "</svg>\n",
              "  </button>\n",
              "\n",
              "<style>\n",
              "  .colab-df-quickchart {\n",
              "      --bg-color: #E8F0FE;\n",
              "      --fill-color: #1967D2;\n",
              "      --hover-bg-color: #E2EBFA;\n",
              "      --hover-fill-color: #174EA6;\n",
              "      --disabled-fill-color: #AAA;\n",
              "      --disabled-bg-color: #DDD;\n",
              "  }\n",
              "\n",
              "  [theme=dark] .colab-df-quickchart {\n",
              "      --bg-color: #3B4455;\n",
              "      --fill-color: #D2E3FC;\n",
              "      --hover-bg-color: #434B5C;\n",
              "      --hover-fill-color: #FFFFFF;\n",
              "      --disabled-bg-color: #3B4455;\n",
              "      --disabled-fill-color: #666;\n",
              "  }\n",
              "\n",
              "  .colab-df-quickchart {\n",
              "    background-color: var(--bg-color);\n",
              "    border: none;\n",
              "    border-radius: 50%;\n",
              "    cursor: pointer;\n",
              "    display: none;\n",
              "    fill: var(--fill-color);\n",
              "    height: 32px;\n",
              "    padding: 0;\n",
              "    width: 32px;\n",
              "  }\n",
              "\n",
              "  .colab-df-quickchart:hover {\n",
              "    background-color: var(--hover-bg-color);\n",
              "    box-shadow: 0 1px 2px rgba(60, 64, 67, 0.3), 0 1px 3px 1px rgba(60, 64, 67, 0.15);\n",
              "    fill: var(--button-hover-fill-color);\n",
              "  }\n",
              "\n",
              "  .colab-df-quickchart-complete:disabled,\n",
              "  .colab-df-quickchart-complete:disabled:hover {\n",
              "    background-color: var(--disabled-bg-color);\n",
              "    fill: var(--disabled-fill-color);\n",
              "    box-shadow: none;\n",
              "  }\n",
              "\n",
              "  .colab-df-spinner {\n",
              "    border: 2px solid var(--fill-color);\n",
              "    border-color: transparent;\n",
              "    border-bottom-color: var(--fill-color);\n",
              "    animation:\n",
              "      spin 1s steps(1) infinite;\n",
              "  }\n",
              "\n",
              "  @keyframes spin {\n",
              "    0% {\n",
              "      border-color: transparent;\n",
              "      border-bottom-color: var(--fill-color);\n",
              "      border-left-color: var(--fill-color);\n",
              "    }\n",
              "    20% {\n",
              "      border-color: transparent;\n",
              "      border-left-color: var(--fill-color);\n",
              "      border-top-color: var(--fill-color);\n",
              "    }\n",
              "    30% {\n",
              "      border-color: transparent;\n",
              "      border-left-color: var(--fill-color);\n",
              "      border-top-color: var(--fill-color);\n",
              "      border-right-color: var(--fill-color);\n",
              "    }\n",
              "    40% {\n",
              "      border-color: transparent;\n",
              "      border-right-color: var(--fill-color);\n",
              "      border-top-color: var(--fill-color);\n",
              "    }\n",
              "    60% {\n",
              "      border-color: transparent;\n",
              "      border-right-color: var(--fill-color);\n",
              "    }\n",
              "    80% {\n",
              "      border-color: transparent;\n",
              "      border-right-color: var(--fill-color);\n",
              "      border-bottom-color: var(--fill-color);\n",
              "    }\n",
              "    90% {\n",
              "      border-color: transparent;\n",
              "      border-bottom-color: var(--fill-color);\n",
              "    }\n",
              "  }\n",
              "</style>\n",
              "\n",
              "  <script>\n",
              "    async function quickchart(key) {\n",
              "      const quickchartButtonEl =\n",
              "        document.querySelector('#' + key + ' button');\n",
              "      quickchartButtonEl.disabled = true;  // To prevent multiple clicks.\n",
              "      quickchartButtonEl.classList.add('colab-df-spinner');\n",
              "      try {\n",
              "        const charts = await google.colab.kernel.invokeFunction(\n",
              "            'suggestCharts', [key], {});\n",
              "      } catch (error) {\n",
              "        console.error('Error during call to suggestCharts:', error);\n",
              "      }\n",
              "      quickchartButtonEl.classList.remove('colab-df-spinner');\n",
              "      quickchartButtonEl.classList.add('colab-df-quickchart-complete');\n",
              "    }\n",
              "    (() => {\n",
              "      let quickchartButtonEl =\n",
              "        document.querySelector('#df-98c9f0fd-6db3-4995-8d65-e3dde7756ac4 button');\n",
              "      quickchartButtonEl.style.display =\n",
              "        google.colab.kernel.accessAllowed ? 'block' : 'none';\n",
              "    })();\n",
              "  </script>\n",
              "</div>\n",
              "\n",
              "    </div>\n",
              "  </div>\n"
            ]
          },
          "metadata": {},
          "execution_count": 25
        }
      ],
      "source": [
        "df[(df['rating'].str.contains('min')) & (df['rating']!=np.nan)]"
      ]
    },
    {
      "cell_type": "markdown",
      "metadata": {
        "id": "TeWnN8mHkhT_"
      },
      "source": [
        "Note:\n",
        "\n",
        "1. It may be noted that the above 3 row have duration as NaN and rating is in min.\n",
        "\n",
        "2. It seems that \"rating\" column is mistaken and filled with \"duration\" column instead.\n",
        "\n",
        "3. To correct it, lets fill Nan with enries of rating in duration column and replace \"No rating\" in rating columns"
      ]
    },
    {
      "cell_type": "code",
      "execution_count": 26,
      "metadata": {
        "id": "PUNvpXTj5Qd8"
      },
      "outputs": [],
      "source": [
        "df.loc[df['duration'].isnull(),'duration']=df.loc[df['duration'].isnull(),'duration'].fillna(df['rating'])\n",
        "df.loc[df['rating'].str.contains('min', na=False),'rating']='NR' #NR stands for 'NO Rating'"
      ]
    },
    {
      "cell_type": "code",
      "execution_count": 27,
      "metadata": {
        "colab": {
          "base_uri": "https://localhost:8080/",
          "height": 195
        },
        "id": "PDJw4TD4m40z",
        "outputId": "9357ca9c-5262-4936-d4e3-95c70cf33ab5"
      },
      "outputs": [
        {
          "output_type": "execute_result",
          "data": {
            "text/plain": [
              "     show_id   type                                 title    director  \\\n",
              "5813   s5814  Movie  Louis C.K.: Live at the Comedy Store  Louis C.K.   \n",
              "5541   s5542  Movie                       Louis C.K. 2017  Louis C.K.   \n",
              "5794   s5795  Movie                 Louis C.K.: Hilarious  Louis C.K.   \n",
              "\n",
              "            cast        country          date_added  release_year rating  \\\n",
              "5813  Louis C.K.  United States     August 15, 2016          2015     NR   \n",
              "5541  Louis C.K.  United States       April 4, 2017          2017     NR   \n",
              "5794  Louis C.K.  United States  September 16, 2016          2010     NR   \n",
              "\n",
              "     duration listed_in                                        description  \n",
              "5813   66 min    Movies  The comic puts his trademark hilarious/thought...  \n",
              "5541   74 min    Movies  Louis C.K. muses on religion, eternal love, gi...  \n",
              "5794   84 min    Movies  Emmy-winning comedy writer Louis C.K. brings h...  "
            ],
            "text/html": [
              "\n",
              "  <div id=\"df-7914a317-4fa6-4de3-a655-22a0c78ae422\" class=\"colab-df-container\">\n",
              "    <div>\n",
              "<style scoped>\n",
              "    .dataframe tbody tr th:only-of-type {\n",
              "        vertical-align: middle;\n",
              "    }\n",
              "\n",
              "    .dataframe tbody tr th {\n",
              "        vertical-align: top;\n",
              "    }\n",
              "\n",
              "    .dataframe thead th {\n",
              "        text-align: right;\n",
              "    }\n",
              "</style>\n",
              "<table border=\"1\" class=\"dataframe\">\n",
              "  <thead>\n",
              "    <tr style=\"text-align: right;\">\n",
              "      <th></th>\n",
              "      <th>show_id</th>\n",
              "      <th>type</th>\n",
              "      <th>title</th>\n",
              "      <th>director</th>\n",
              "      <th>cast</th>\n",
              "      <th>country</th>\n",
              "      <th>date_added</th>\n",
              "      <th>release_year</th>\n",
              "      <th>rating</th>\n",
              "      <th>duration</th>\n",
              "      <th>listed_in</th>\n",
              "      <th>description</th>\n",
              "    </tr>\n",
              "  </thead>\n",
              "  <tbody>\n",
              "    <tr>\n",
              "      <th>5813</th>\n",
              "      <td>s5814</td>\n",
              "      <td>Movie</td>\n",
              "      <td>Louis C.K.: Live at the Comedy Store</td>\n",
              "      <td>Louis C.K.</td>\n",
              "      <td>Louis C.K.</td>\n",
              "      <td>United States</td>\n",
              "      <td>August 15, 2016</td>\n",
              "      <td>2015</td>\n",
              "      <td>NR</td>\n",
              "      <td>66 min</td>\n",
              "      <td>Movies</td>\n",
              "      <td>The comic puts his trademark hilarious/thought...</td>\n",
              "    </tr>\n",
              "    <tr>\n",
              "      <th>5541</th>\n",
              "      <td>s5542</td>\n",
              "      <td>Movie</td>\n",
              "      <td>Louis C.K. 2017</td>\n",
              "      <td>Louis C.K.</td>\n",
              "      <td>Louis C.K.</td>\n",
              "      <td>United States</td>\n",
              "      <td>April 4, 2017</td>\n",
              "      <td>2017</td>\n",
              "      <td>NR</td>\n",
              "      <td>74 min</td>\n",
              "      <td>Movies</td>\n",
              "      <td>Louis C.K. muses on religion, eternal love, gi...</td>\n",
              "    </tr>\n",
              "    <tr>\n",
              "      <th>5794</th>\n",
              "      <td>s5795</td>\n",
              "      <td>Movie</td>\n",
              "      <td>Louis C.K.: Hilarious</td>\n",
              "      <td>Louis C.K.</td>\n",
              "      <td>Louis C.K.</td>\n",
              "      <td>United States</td>\n",
              "      <td>September 16, 2016</td>\n",
              "      <td>2010</td>\n",
              "      <td>NR</td>\n",
              "      <td>84 min</td>\n",
              "      <td>Movies</td>\n",
              "      <td>Emmy-winning comedy writer Louis C.K. brings h...</td>\n",
              "    </tr>\n",
              "  </tbody>\n",
              "</table>\n",
              "</div>\n",
              "    <div class=\"colab-df-buttons\">\n",
              "\n",
              "  <div class=\"colab-df-container\">\n",
              "    <button class=\"colab-df-convert\" onclick=\"convertToInteractive('df-7914a317-4fa6-4de3-a655-22a0c78ae422')\"\n",
              "            title=\"Convert this dataframe to an interactive table.\"\n",
              "            style=\"display:none;\">\n",
              "\n",
              "  <svg xmlns=\"http://www.w3.org/2000/svg\" height=\"24px\" viewBox=\"0 -960 960 960\">\n",
              "    <path d=\"M120-120v-720h720v720H120Zm60-500h600v-160H180v160Zm220 220h160v-160H400v160Zm0 220h160v-160H400v160ZM180-400h160v-160H180v160Zm440 0h160v-160H620v160ZM180-180h160v-160H180v160Zm440 0h160v-160H620v160Z\"/>\n",
              "  </svg>\n",
              "    </button>\n",
              "\n",
              "  <style>\n",
              "    .colab-df-container {\n",
              "      display:flex;\n",
              "      gap: 12px;\n",
              "    }\n",
              "\n",
              "    .colab-df-convert {\n",
              "      background-color: #E8F0FE;\n",
              "      border: none;\n",
              "      border-radius: 50%;\n",
              "      cursor: pointer;\n",
              "      display: none;\n",
              "      fill: #1967D2;\n",
              "      height: 32px;\n",
              "      padding: 0 0 0 0;\n",
              "      width: 32px;\n",
              "    }\n",
              "\n",
              "    .colab-df-convert:hover {\n",
              "      background-color: #E2EBFA;\n",
              "      box-shadow: 0px 1px 2px rgba(60, 64, 67, 0.3), 0px 1px 3px 1px rgba(60, 64, 67, 0.15);\n",
              "      fill: #174EA6;\n",
              "    }\n",
              "\n",
              "    .colab-df-buttons div {\n",
              "      margin-bottom: 4px;\n",
              "    }\n",
              "\n",
              "    [theme=dark] .colab-df-convert {\n",
              "      background-color: #3B4455;\n",
              "      fill: #D2E3FC;\n",
              "    }\n",
              "\n",
              "    [theme=dark] .colab-df-convert:hover {\n",
              "      background-color: #434B5C;\n",
              "      box-shadow: 0px 1px 3px 1px rgba(0, 0, 0, 0.15);\n",
              "      filter: drop-shadow(0px 1px 2px rgba(0, 0, 0, 0.3));\n",
              "      fill: #FFFFFF;\n",
              "    }\n",
              "  </style>\n",
              "\n",
              "    <script>\n",
              "      const buttonEl =\n",
              "        document.querySelector('#df-7914a317-4fa6-4de3-a655-22a0c78ae422 button.colab-df-convert');\n",
              "      buttonEl.style.display =\n",
              "        google.colab.kernel.accessAllowed ? 'block' : 'none';\n",
              "\n",
              "      async function convertToInteractive(key) {\n",
              "        const element = document.querySelector('#df-7914a317-4fa6-4de3-a655-22a0c78ae422');\n",
              "        const dataTable =\n",
              "          await google.colab.kernel.invokeFunction('convertToInteractive',\n",
              "                                                    [key], {});\n",
              "        if (!dataTable) return;\n",
              "\n",
              "        const docLinkHtml = 'Like what you see? Visit the ' +\n",
              "          '<a target=\"_blank\" href=https://colab.research.google.com/notebooks/data_table.ipynb>data table notebook</a>'\n",
              "          + ' to learn more about interactive tables.';\n",
              "        element.innerHTML = '';\n",
              "        dataTable['output_type'] = 'display_data';\n",
              "        await google.colab.output.renderOutput(dataTable, element);\n",
              "        const docLink = document.createElement('div');\n",
              "        docLink.innerHTML = docLinkHtml;\n",
              "        element.appendChild(docLink);\n",
              "      }\n",
              "    </script>\n",
              "  </div>\n",
              "\n",
              "\n",
              "<div id=\"df-238eaba2-4c41-48be-92f8-3e813d5c3701\">\n",
              "  <button class=\"colab-df-quickchart\" onclick=\"quickchart('df-238eaba2-4c41-48be-92f8-3e813d5c3701')\"\n",
              "            title=\"Suggest charts\"\n",
              "            style=\"display:none;\">\n",
              "\n",
              "<svg xmlns=\"http://www.w3.org/2000/svg\" height=\"24px\"viewBox=\"0 0 24 24\"\n",
              "     width=\"24px\">\n",
              "    <g>\n",
              "        <path d=\"M19 3H5c-1.1 0-2 .9-2 2v14c0 1.1.9 2 2 2h14c1.1 0 2-.9 2-2V5c0-1.1-.9-2-2-2zM9 17H7v-7h2v7zm4 0h-2V7h2v10zm4 0h-2v-4h2v4z\"/>\n",
              "    </g>\n",
              "</svg>\n",
              "  </button>\n",
              "\n",
              "<style>\n",
              "  .colab-df-quickchart {\n",
              "      --bg-color: #E8F0FE;\n",
              "      --fill-color: #1967D2;\n",
              "      --hover-bg-color: #E2EBFA;\n",
              "      --hover-fill-color: #174EA6;\n",
              "      --disabled-fill-color: #AAA;\n",
              "      --disabled-bg-color: #DDD;\n",
              "  }\n",
              "\n",
              "  [theme=dark] .colab-df-quickchart {\n",
              "      --bg-color: #3B4455;\n",
              "      --fill-color: #D2E3FC;\n",
              "      --hover-bg-color: #434B5C;\n",
              "      --hover-fill-color: #FFFFFF;\n",
              "      --disabled-bg-color: #3B4455;\n",
              "      --disabled-fill-color: #666;\n",
              "  }\n",
              "\n",
              "  .colab-df-quickchart {\n",
              "    background-color: var(--bg-color);\n",
              "    border: none;\n",
              "    border-radius: 50%;\n",
              "    cursor: pointer;\n",
              "    display: none;\n",
              "    fill: var(--fill-color);\n",
              "    height: 32px;\n",
              "    padding: 0;\n",
              "    width: 32px;\n",
              "  }\n",
              "\n",
              "  .colab-df-quickchart:hover {\n",
              "    background-color: var(--hover-bg-color);\n",
              "    box-shadow: 0 1px 2px rgba(60, 64, 67, 0.3), 0 1px 3px 1px rgba(60, 64, 67, 0.15);\n",
              "    fill: var(--button-hover-fill-color);\n",
              "  }\n",
              "\n",
              "  .colab-df-quickchart-complete:disabled,\n",
              "  .colab-df-quickchart-complete:disabled:hover {\n",
              "    background-color: var(--disabled-bg-color);\n",
              "    fill: var(--disabled-fill-color);\n",
              "    box-shadow: none;\n",
              "  }\n",
              "\n",
              "  .colab-df-spinner {\n",
              "    border: 2px solid var(--fill-color);\n",
              "    border-color: transparent;\n",
              "    border-bottom-color: var(--fill-color);\n",
              "    animation:\n",
              "      spin 1s steps(1) infinite;\n",
              "  }\n",
              "\n",
              "  @keyframes spin {\n",
              "    0% {\n",
              "      border-color: transparent;\n",
              "      border-bottom-color: var(--fill-color);\n",
              "      border-left-color: var(--fill-color);\n",
              "    }\n",
              "    20% {\n",
              "      border-color: transparent;\n",
              "      border-left-color: var(--fill-color);\n",
              "      border-top-color: var(--fill-color);\n",
              "    }\n",
              "    30% {\n",
              "      border-color: transparent;\n",
              "      border-left-color: var(--fill-color);\n",
              "      border-top-color: var(--fill-color);\n",
              "      border-right-color: var(--fill-color);\n",
              "    }\n",
              "    40% {\n",
              "      border-color: transparent;\n",
              "      border-right-color: var(--fill-color);\n",
              "      border-top-color: var(--fill-color);\n",
              "    }\n",
              "    60% {\n",
              "      border-color: transparent;\n",
              "      border-right-color: var(--fill-color);\n",
              "    }\n",
              "    80% {\n",
              "      border-color: transparent;\n",
              "      border-right-color: var(--fill-color);\n",
              "      border-bottom-color: var(--fill-color);\n",
              "    }\n",
              "    90% {\n",
              "      border-color: transparent;\n",
              "      border-bottom-color: var(--fill-color);\n",
              "    }\n",
              "  }\n",
              "</style>\n",
              "\n",
              "  <script>\n",
              "    async function quickchart(key) {\n",
              "      const quickchartButtonEl =\n",
              "        document.querySelector('#' + key + ' button');\n",
              "      quickchartButtonEl.disabled = true;  // To prevent multiple clicks.\n",
              "      quickchartButtonEl.classList.add('colab-df-spinner');\n",
              "      try {\n",
              "        const charts = await google.colab.kernel.invokeFunction(\n",
              "            'suggestCharts', [key], {});\n",
              "      } catch (error) {\n",
              "        console.error('Error during call to suggestCharts:', error);\n",
              "      }\n",
              "      quickchartButtonEl.classList.remove('colab-df-spinner');\n",
              "      quickchartButtonEl.classList.add('colab-df-quickchart-complete');\n",
              "    }\n",
              "    (() => {\n",
              "      let quickchartButtonEl =\n",
              "        document.querySelector('#df-238eaba2-4c41-48be-92f8-3e813d5c3701 button');\n",
              "      quickchartButtonEl.style.display =\n",
              "        google.colab.kernel.accessAllowed ? 'block' : 'none';\n",
              "    })();\n",
              "  </script>\n",
              "</div>\n",
              "\n",
              "    </div>\n",
              "  </div>\n"
            ]
          },
          "metadata": {},
          "execution_count": 27
        }
      ],
      "source": [
        " df.loc[[5813,5541,5794]]"
      ]
    },
    {
      "cell_type": "code",
      "execution_count": 28,
      "metadata": {
        "id": "vKQ1P0uF5Qd8"
      },
      "outputs": [],
      "source": [
        "df['rating'].fillna('NR',inplace=True) #fill nan with NR: No rating"
      ]
    },
    {
      "cell_type": "markdown",
      "metadata": {
        "id": "CdgFbUiELvae"
      },
      "source": [
        "2. Missing value Imputation: date_added Column"
      ]
    },
    {
      "cell_type": "code",
      "execution_count": 29,
      "metadata": {
        "id": "5Ut_56pu5Qd8"
      },
      "outputs": [],
      "source": [
        "from datetime import datetime as dt"
      ]
    },
    {
      "cell_type": "code",
      "execution_count": 30,
      "metadata": {
        "id": "t0Ay0iHS54YT"
      },
      "outputs": [],
      "source": [
        "##The data type of date_added is str.\n",
        "#It will be better to convert it into datetime format\n",
        "df['date_added']=df['date_added'].astype('datetime64[ns]')\n",
        "\n",
        "\n",
        "df['month_of_upload']=df['date_added'].dt.month #creating year features\n",
        "df['year_of_upload']=df['date_added'].dt.year"
      ]
    },
    {
      "cell_type": "markdown",
      "metadata": {
        "id": "FJz6HUBT7NnR"
      },
      "source": [
        "Note:\n",
        "1. date_added is imputed on basis of mode of corrosponding release year\n",
        "2. example if release year is 2015 then we will find mode of date_added group of year 2015"
      ]
    },
    {
      "cell_type": "code",
      "execution_count": 31,
      "metadata": {
        "id": "p-EndhOM5Qd8"
      },
      "outputs": [],
      "source": [
        "for i in df[df['date_added'].isnull()]['release_year'].unique():\n",
        "    impute=df[df['release_year']==i]['date_added'].mode()[0]\n",
        "    df.loc[df['release_year']==i,'date_added']=df.loc[df['release_year']==i,'date_added'].fillna(impute)"
      ]
    },
    {
      "cell_type": "markdown",
      "metadata": {
        "id": "P8c52pH6QLR0",
        "outputId": "6e035bf2-9318-4e58-b141-f80b0181d4be"
      },
      "source": [
        "3. Missing value Imputation: Country column\n"
      ]
    },
    {
      "cell_type": "markdown",
      "metadata": {
        "id": "LUTjgW0rQL9e"
      },
      "source": [
        "Technique Used:\n",
        "1. A actor & director usually releases his movie in his own country.\n",
        "2. so we can find mode of country for director  and can use for imputation.\n",
        "3. then we can do the same using actor"
      ]
    },
    {
      "cell_type": "code",
      "execution_count": 32,
      "metadata": {
        "colab": {
          "base_uri": "https://localhost:8080/"
        },
        "id": "oFS7bTee5Qd9",
        "outputId": "fdf1dc48-8da0-4578-907d-c6eb9e184198"
      },
      "outputs": [
        {
          "output_type": "execute_result",
          "data": {
            "text/plain": [
              "array(['United States', 'South Africa', nan, 'India',\n",
              "       'United States, Ghana, Burkina Faso, United Kingdom, Germany, Ethiopia',\n",
              "       'United Kingdom', 'Germany, Czech Republic', 'Mexico', 'Turkey',\n",
              "       'Australia', 'United States, India, France', 'Finland',\n",
              "       'China, Canada, United States',\n",
              "       'South Africa, United States, Japan', 'Nigeria', 'Japan',\n",
              "       'Spain, United States', 'France', 'Belgium',\n",
              "       'United Kingdom, United States', 'United States, United Kingdom',\n",
              "       'France, United States', 'South Korea', 'Spain',\n",
              "       'United States, Singapore', 'United Kingdom, Australia, France',\n",
              "       'United Kingdom, Australia, France, United States',\n",
              "       'United States, Canada', 'Germany, United States',\n",
              "       'South Africa, United States', 'United States, Mexico',\n",
              "       'United States, Italy, France, Japan',\n",
              "       'United States, Italy, Romania, United Kingdom',\n",
              "       'Australia, United States', 'Argentina, Venezuela',\n",
              "       'United States, United Kingdom, Canada', 'China, Hong Kong',\n",
              "       'Russia', 'Canada', 'Hong Kong', 'United States, China, Hong Kong',\n",
              "       'Italy, United States', 'United States, Germany',\n",
              "       'United Kingdom, Canada, United States', ', South Korea',\n",
              "       'Ireland', 'India, Nepal',\n",
              "       'New Zealand, Australia, France, United States', 'Italy',\n",
              "       'Italy, Brazil, Greece', 'Argentina', 'Jordan', 'Colombia',\n",
              "       'United States, Japan', 'Belgium, United Kingdom',\n",
              "       'Switzerland, United Kingdom, Australia', 'Israel, United States',\n",
              "       'Canada, United States', 'Brazil', 'Argentina, Spain', 'Taiwan',\n",
              "       'United States, Nigeria', 'Bulgaria, United States',\n",
              "       'Spain, United Kingdom, United States', 'United States, China',\n",
              "       'United States, France',\n",
              "       'Spain, France, United Kingdom, United States',\n",
              "       ', France, Algeria', 'Poland', 'Germany',\n",
              "       'France, Israel, Germany, United States, United Kingdom',\n",
              "       'New Zealand', 'Saudi Arabia', 'Thailand', 'Indonesia',\n",
              "       'Egypt, Denmark, Germany', 'United States, Switzerland',\n",
              "       'Hong Kong, Canada, United States', 'Kuwait, United States',\n",
              "       'France, Canada, United States, Spain',\n",
              "       'France, Netherlands, Singapore', 'France, Belgium',\n",
              "       'Ireland, United States, United Kingdom', 'Egypt', 'Malaysia',\n",
              "       'Israel', 'Australia, New Zealand', 'United Kingdom, Germany',\n",
              "       'Belgium, Netherlands', 'South Korea, Czech Republic',\n",
              "       'Australia, Germany', 'Vietnam', 'United Kingdom, Belgium',\n",
              "       'United Kingdom, Australia, United States',\n",
              "       'France, Japan, United States',\n",
              "       'United Kingdom, Germany, Spain, United States',\n",
              "       'United Kingdom, United States, France, Italy',\n",
              "       'United States, Germany, Canada',\n",
              "       'United States, France, Italy, United Kingdom',\n",
              "       'United States, United Kingdom, Germany, Hungary',\n",
              "       'United States, New Zealand', 'Sweden', 'China', 'Lebanon',\n",
              "       'Romania', 'Finland, Germany', 'Lebanon, Syria', 'Philippines',\n",
              "       'Iceland', 'Denmark', 'United States, India',\n",
              "       'Philippines, Singapore, Indonesia',\n",
              "       'China, United States, Canada', 'Lebanon, United Arab Emirates',\n",
              "       'Canada, United States, Denmark', 'United Arab Emirates',\n",
              "       'Mexico, France, Colombia', 'Netherlands',\n",
              "       'Germany, United States, France', 'United States, Bulgaria',\n",
              "       'United Kingdom, France, Germany, United States',\n",
              "       'Norway, Denmark', 'Syria, France, Lebanon, Qatar',\n",
              "       'United States, Czech Republic', 'Mauritius',\n",
              "       'Canada, South Africa', 'Austria', 'Mexico, Brazil',\n",
              "       'Germany, France', 'Mexico, United States',\n",
              "       'United Kingdom, France, Spain, United States',\n",
              "       'United States, Australia',\n",
              "       'United States, United Kingdom, France', 'United States, Russia',\n",
              "       'United States, United Kingdom, New Zealand',\n",
              "       'Australia, United Kingdom', 'Canada, Nigeria, United States',\n",
              "       'France, United States, United Kingdom, Canada',\n",
              "       'France, United Kingdom', 'India, United Kingdom',\n",
              "       'Canada, United States, Mexico',\n",
              "       'United Kingdom, Germany, United States',\n",
              "       'Czech Republic, United Kingdom, United States',\n",
              "       'China, United Kingdom', 'Italy, United Kingdom', 'China, Taiwan',\n",
              "       'United States, Brazil, Japan, Spain, India',\n",
              "       'United States, China, United Kingdom', 'Cameroon',\n",
              "       'Lebanon, Palestine, Denmark, Qatar', 'Japan, United States',\n",
              "       'Uruguay, Germany', 'Egypt, Saudi Arabia',\n",
              "       'United Kingdom, France, Poland, Germany, United States',\n",
              "       'Ireland, Switzerland, United Kingdom, France, United States',\n",
              "       'United Kingdom, South Africa, France',\n",
              "       'Ireland, United Kingdom, France, Germany',\n",
              "       'Russia, United States', 'United Kingdom, United States, France',\n",
              "       'United Kingdom,', 'United States, India, United Kingdom', 'Kenya',\n",
              "       'Spain, Argentina', 'India, United Kingdom, France, Qatar',\n",
              "       'Belgium, France', 'Argentina, Chile', 'United States, Thailand',\n",
              "       'Chile, Brazil', 'United States, Colombia',\n",
              "       'Canada, United States, United Kingdom', 'Uruguay', 'Luxembourg',\n",
              "       'United States, Cambodia, Romania', 'Bangladesh',\n",
              "       'Spain, Belgium, United States',\n",
              "       'United Kingdom, United States, Australia',\n",
              "       'Canada, United States, France', 'Portugal, United States',\n",
              "       'Portugal, Spain', 'India, United States',\n",
              "       'United Kingdom, Ireland', 'United Kingdom, Spain, United States',\n",
              "       'Hungary, United States', 'United States, South Korea',\n",
              "       'Canada, United States, Cayman Islands', 'India, France',\n",
              "       'France, Canada', 'Canada, Hungary, United States', 'Norway',\n",
              "       'Canada, United Kingdom, United States',\n",
              "       'United Kingdom, Germany, France, United States',\n",
              "       'Denmark, United States', 'Senegal', 'France, Algeria',\n",
              "       'United Kingdom, Finland, Germany, United States, Australia, Japan, France, Ireland',\n",
              "       'Philippines, Canada, United Kingdom, United States',\n",
              "       'Ireland, France, Iceland, United States, Mexico, Belgium, United Kingdom, Hong Kong',\n",
              "       'Singapore', 'Kuwait', 'United States, France, Serbia',\n",
              "       'United States, Italy', 'Spain, Italy',\n",
              "       'United States, Ireland, United Kingdom, India',\n",
              "       'United Kingdom, Singapore', 'Hong Kong, United States',\n",
              "       'United States, Malta, France, United Kingdom',\n",
              "       'United States, China, Canada', 'Canada, United States, Ireland',\n",
              "       'Lebanon, Canada, France', 'Japan, Canada, United States',\n",
              "       'Spain, France, Canada',\n",
              "       'Denmark, Singapore, Canada, United States',\n",
              "       'United States, France, Denmark', 'United States, China, Colombia',\n",
              "       'Spain, Thailand, United States', 'Mexico, Spain',\n",
              "       'Ireland, Luxembourg, Belgium', 'China, United States',\n",
              "       'Canada, Belgium', 'Canada, United Kingdom',\n",
              "       'Lebanon, United Arab Emirates, France, Switzerland, Germany',\n",
              "       'France, Belgium, Italy',\n",
              "       'Lebanon, United States, United Arab Emirates', 'Lebanon, France',\n",
              "       'France, Lebanon', 'France, Lebanon, United Kingdom',\n",
              "       'France, Norway, Lebanon, Belgium',\n",
              "       'Sweden, Czech Republic, United Kingdom, Denmark, Netherlands',\n",
              "       'United States, United Kingdom, India', 'Indonesia, Netherlands',\n",
              "       'Turkey, South Korea', 'Serbia, United States', 'Namibia',\n",
              "       'United Kingdom, Kenya', 'United Kingdom, France, Germany, Spain',\n",
              "       'United Kingdom, France, United States, Belgium, Luxembourg, China, Germany',\n",
              "       'Thailand, United States',\n",
              "       'United States, France, Canada, Belgium', 'United Kingdom, China',\n",
              "       'Germany, China, United Kingdom',\n",
              "       'Australia, New Zealand, United States',\n",
              "       'Hong Kong, Iceland, United States', 'France, Australia, Germany',\n",
              "       'United States, Belgium, Canada, France', 'South Africa, Angola',\n",
              "       'United States, Philippines',\n",
              "       'United States, United Kingdom, Canada, China',\n",
              "       'United States, Canada, United Kingdom', 'Turkey, United States',\n",
              "       'Peru, Germany, Norway', 'Mozambique', 'Brazil, France',\n",
              "       'China, Spain, South Korea, United States', 'Spain, Germany',\n",
              "       'Hong Kong, China', 'France, Belgium, Luxembourg, Cambodia,',\n",
              "       'United Kingdom, Australia', 'Belarus',\n",
              "       'Indonesia, United Kingdom',\n",
              "       'Switzerland, France, Belgium, United States', 'Ghana',\n",
              "       'Spain, France, Canada, United States', 'Chile, Italy',\n",
              "       'United Kingdom, Nigeria', 'Chile', 'France, Egypt',\n",
              "       'Egypt, France', 'France, Brazil, Spain, Belgium',\n",
              "       'Egypt, Algeria', 'Canada, South Korea, United States',\n",
              "       'Nigeria, United Kingdom', 'United States, France, Canada',\n",
              "       'Poland, United States',\n",
              "       'United Arab Emirates, Jordan, Lebanon, Saudi Arabia',\n",
              "       'United States, Mexico, Spain, Malta',\n",
              "       'Saudi Arabia, United Arab Emirates', 'Zimbabwe',\n",
              "       'United Kingdom, Germany, United Arab Emirates, New Zealand',\n",
              "       'Romania, United States', 'Canada, Nigeria',\n",
              "       'Saudi Arabia, Netherlands, Germany, Jordan, United Arab Emirates, United States',\n",
              "       'United Kingdom, Spain', 'Finland, France',\n",
              "       'United Kingdom, Germany, United States, France',\n",
              "       'India, United Kingdom, China, Canada, Japan, South Korea, United States',\n",
              "       'Italy, United Kingdom, France', 'United States, Mexico, Colombia',\n",
              "       'Turkey, India', 'Italy, Turkey',\n",
              "       'United Kingdom, United States, Japan',\n",
              "       'France, Belgium, United States',\n",
              "       'Puerto Rico, United States, Colombia', 'Uruguay, Argentina',\n",
              "       'United States, United Kingdom, Japan', 'United States, Argentina',\n",
              "       'United Kingdom, Italy', 'Ireland, United Kingdom',\n",
              "       'United Kingdom, France, Belgium, Canada, United States',\n",
              "       'Netherlands, Germany, Denmark, United Kingdom', 'Hungary',\n",
              "       'Austria, Germany', 'Taiwan, China',\n",
              "       'United Kingdom, United States, Ireland',\n",
              "       'South Korea, United States', 'Brazil, United Kingdom',\n",
              "       'Pakistan, United States', 'Romania, France, Switzerland, Germany',\n",
              "       'Romania, United Kingdom', 'France, Malta, United States',\n",
              "       'Cyprus',\n",
              "       'United Kingdom, France, Belgium, Ireland, United States',\n",
              "       'United States, Norway, Canada', 'Kenya, United States',\n",
              "       'France, South Korea, Japan, United States', 'Taiwan, Malaysia',\n",
              "       'Uruguay, Argentina, Germany, Spain',\n",
              "       'United States, United Kingdom, France, Germany, Japan',\n",
              "       'United States, France, Japan',\n",
              "       'United Kingdom, France, United States',\n",
              "       'Spain, France, United States',\n",
              "       'Indonesia, South Korea, Singapore', 'United States, Spain',\n",
              "       'Netherlands, Germany, Italy, Canada',\n",
              "       'Spain, Germany, Denmark, United States', 'Norway, Sweden',\n",
              "       'South Korea, Canada, United States, China',\n",
              "       'Argentina, Uruguay, Serbia', 'France, Japan',\n",
              "       'Mauritius, South Africa', 'United States, Poland',\n",
              "       'United Kingdom, United States, Germany, Denmark, Belgium, Japan',\n",
              "       'India, Germany', 'India, United Kingdom, Canada, United States',\n",
              "       'Philippines, United States', 'Romania, Bulgaria, Hungary',\n",
              "       'Uruguay, Guatemala', 'France, Senegal, Belgium',\n",
              "       'United Kingdom, Canada', 'Mexico, United States, Spain, Colombia',\n",
              "       'Canada, Norway', 'Singapore, United States',\n",
              "       'Finland, Germany, Belgium', 'United Kingdom, France',\n",
              "       'United States, Chile', 'United Kingdom, Japan, United States',\n",
              "       'Spain, United Kingdom', 'Argentina, United States, Mexico',\n",
              "       'United States, South Korea, Japan', 'Canada, Australia',\n",
              "       'United Kingdom, Hungary, Australia', 'Italy, Belgium',\n",
              "       'United States, United Kingdom, Germany', 'Switzerland',\n",
              "       'Singapore, Malaysia',\n",
              "       'France, Belgium, Luxembourg, Romania, Canada, United States',\n",
              "       'South Africa, Nigeria', 'Spain, France',\n",
              "       'United Kingdom, Hong Kong', 'Pakistan', 'Brazil, United States',\n",
              "       'Denmark, Brazil, France, Portugal, Sweden', 'India, Turkey',\n",
              "       'Malaysia, Singapore, Hong Kong', 'Philippines, Singapore',\n",
              "       'Australia, Canada', 'Taiwan, China, France, United States',\n",
              "       'Germany, Italy', 'Colombia, Peru, United Kingdom',\n",
              "       'Thailand, China, United States', 'Argentina, United States',\n",
              "       'Sweden, United States', 'Uruguay, Spain, Mexico',\n",
              "       'France, Luxembourg, Canada', 'Denmark, Spain', 'Chile, Argentina',\n",
              "       'United Kingdom, Belgium, Sweden', 'Canada, Brazil',\n",
              "       'Italy, France', 'Canada, Germany',\n",
              "       'Pakistan, United Arab Emirates', 'Ghana, United States',\n",
              "       'Mexico, Finland', 'United Arab Emirates, United Kingdom, India',\n",
              "       'Netherlands, Belgium', 'United States, Taiwan',\n",
              "       'Austria, Iraq, United States', 'United Kingdom, Malawi',\n",
              "       'Paraguay, Argentina', 'United Kingdom, Russia, United States',\n",
              "       'India, Pakistan', 'Indonesia, Singapore', 'Spain, Belgium',\n",
              "       'Iceland, Sweden, Belgium', 'Croatia', 'Uruguay, Argentina, Spain',\n",
              "       'United Kingdom, Ireland, United States',\n",
              "       'Canada, Germany, France, United States', 'United Kingdom, Japan',\n",
              "       'Norway, Denmark, Netherlands, Sweden',\n",
              "       'Hong Kong, China, United States', 'Ireland, Canada',\n",
              "       'Italy, Switzerland, France, Germany', 'Mexico, Netherlands',\n",
              "       'United States, Sweden', 'Germany, France, Russia',\n",
              "       'France, Iran, United States', 'United Kingdom, India',\n",
              "       'Russia, Poland, Serbia', 'Spain, Portugal', 'Peru',\n",
              "       'Mexico, Argentina',\n",
              "       'United Kingdom, Canada, United States, Cayman Islands',\n",
              "       'Indonesia, United States',\n",
              "       'United States, Israel, United Kingdom, Canada',\n",
              "       'Norway, Iceland, United States', 'Czech Republic, United States',\n",
              "       'United Kingdom, India, United States',\n",
              "       'United Kingdom, West Germany', 'India, Australia',\n",
              "       'United States,', 'Belgium, United Kingdom, United States',\n",
              "       'India, Germany, Austria',\n",
              "       'United States, Brazil, South Korea, Mexico, Japan, Germany',\n",
              "       'Spain, Mexico', 'China, Japan', 'Argentina, France',\n",
              "       'China, United States, United Kingdom',\n",
              "       'France, Luxembourg, United States',\n",
              "       'China, United States, Australia', 'Colombia, Mexico',\n",
              "       'United States, Canada, Ireland', 'Chile, Peru',\n",
              "       'Argentina, Italy', 'Canada, Japan, United States',\n",
              "       'United Kingdom, Canada, United States, Germany',\n",
              "       'Italy, Switzerland, Albania, Poland',\n",
              "       'United States, Japan, Canada', 'Cambodia',\n",
              "       'Italy, United States, Argentina',\n",
              "       'Saudi Arabia, Syria, Egypt, Lebanon, Kuwait',\n",
              "       'United States, Canada, Indonesia, United Kingdom, China, Singapore',\n",
              "       'Spain, Colombia',\n",
              "       'United Kingdom, South Africa, Australia, United States',\n",
              "       'Bulgaria', 'Argentina, Brazil, France, Poland, Germany, Denmark',\n",
              "       'United Kingdom, Spain, United States, Germany',\n",
              "       'Philippines, Qatar', 'Netherlands, Belgium, Germany, Jordan',\n",
              "       'United Arab Emirates, United States', 'Norway, Germany, Sweden',\n",
              "       'South Korea, China', 'Georgia', 'Soviet Union, India',\n",
              "       'Australia, United Arab Emirates', 'Canada, Germany, South Africa',\n",
              "       'South Korea, China, United States', 'India, Soviet Union',\n",
              "       'India, Mexico', 'Georgia, Germany, France',\n",
              "       'United Arab Emirates, Romania', 'India, Malaysia',\n",
              "       'Germany, Jordan, Netherlands', 'Turkey, France, Germany, Poland',\n",
              "       'Greece, United States', 'France, United Kingdom, United States',\n",
              "       'Norway, Germany', 'France, Morocco', 'Cambodia, United States',\n",
              "       'United States, Denmark', 'United States, Colombia, Mexico',\n",
              "       'United Kingdom, Italy, Israel, Peru, United States',\n",
              "       'Argentina, Uruguay, Spain, France',\n",
              "       'United Kingdom, France, United States, Belgium',\n",
              "       'France, Canada, China, Cambodia',\n",
              "       'United Kingdom, France, Belgium, United States', 'Chile, France',\n",
              "       'Netherlands, United States', 'France, United Kingdom, India',\n",
              "       'Czech Republic, Slovakia', 'Singapore, France',\n",
              "       'Spain, Switzerland', 'United States, Australia, China',\n",
              "       'South Africa, United States, Germany',\n",
              "       'United States, United Kingdom, Australia',\n",
              "       'Spain, Italy, Argentina', 'Chile, Spain, Argentina, Germany',\n",
              "       'West Germany', 'Austria, Czech Republic', 'Lebanon, Qatar',\n",
              "       'United Kingdom, Jordan, Qatar, Iran',\n",
              "       'France, South Korea, Japan', 'Israel, Germany, France',\n",
              "       'Canada, Japan, Netherlands', 'United States, Hungary',\n",
              "       'France, Germany', 'France, Qatar',\n",
              "       'United Kingdom, Germany, Canada', 'Ireland, South Africa',\n",
              "       'Chile, United States, France', 'Belgium, France, Netherlands',\n",
              "       'United Kingdom, Ukraine, United States',\n",
              "       'Germany, Australia, France, China', 'Norway, United States',\n",
              "       'United States, Bermuda, Ecuador',\n",
              "       'United States, Hungary, Ireland, Canada',\n",
              "       'United Kingdom, Egypt, United States',\n",
              "       'United States, France, United Kingdom', 'Spain, Mexico, France',\n",
              "       'United States, South Africa', 'Hong Kong, China, Singapore',\n",
              "       'South Africa, China, United States', 'Denmark, France, Poland',\n",
              "       'New Zealand, United Kingdom',\n",
              "       'Netherlands, Denmark, South Africa', 'Iran, France',\n",
              "       'United Kingdom, United States, France, Germany',\n",
              "       'Australia, France', 'Ireland, United Kingdom, United States',\n",
              "       'United Kingdom, France, Germany', 'Canada, Luxembourg',\n",
              "       'Brazil, Netherlands, United States, Colombia, Austria, Germany',\n",
              "       'France, Canada, Belgium', 'Canada, France',\n",
              "       'Bulgaria, United States, Spain, Canada', 'Sweden, Netherlands',\n",
              "       'France, United States, Mexico',\n",
              "       'Australia, United Kingdom, United Arab Emirates, Canada',\n",
              "       'Australia, Armenia, Japan, Jordan, Mexico, Mongolia, New Zealand, Philippines, South Africa, Sweden, United States, Uruguay',\n",
              "       'India, Iran', 'France, Belgium, Spain',\n",
              "       'Denmark, Sweden, Israel, United States', 'United States, Iceland',\n",
              "       'United Kingdom, Russia',\n",
              "       'United States, Israel, Italy, South Africa',\n",
              "       'Netherlands, Denmark, France, Germany', 'South Korea, Japan',\n",
              "       'United Kingdom, Pakistan', 'France, New Zealand',\n",
              "       'United Kingdom, Czech Republic, United States, Germany, Bahamas',\n",
              "       'China, Germany, India, United States', 'Germany, Sri Lanka',\n",
              "       'United States, India, Bangladesh',\n",
              "       'United States, Canada, France', 'Brazil, France, Germany',\n",
              "       'Germany, United States, Hong Kong, Singapore',\n",
              "       'France, Germany, Switzerland',\n",
              "       'Germany, France, Luxembourg, United Kingdom, United States',\n",
              "       'United Kingdom, Canada, Italy', 'Czech Republic, France',\n",
              "       'Taiwan, Hong Kong, United States, China', 'Germany, Australia',\n",
              "       'United Kingdom, Poland, United States', 'Denmark, Zimbabwe',\n",
              "       'United Kingdom, South Africa',\n",
              "       'Finland, Sweden, Norway, Latvia, Germany',\n",
              "       'South Africa, United States, New Zealand, Canada',\n",
              "       'United States, Italy, United Kingdom, Liechtenstein',\n",
              "       'Denmark, France, Belgium, Italy, Netherlands, United States, United Kingdom',\n",
              "       'United States, Australia, Mexico',\n",
              "       'United Kingdom, Czech Republic, Germany, United States',\n",
              "       'France, China, Japan, United States',\n",
              "       'United States, South Korea, China', 'Germany, Belgium',\n",
              "       'Pakistan, Norway, United States',\n",
              "       'United States, Canada, Belgium, United Kingdom', 'Venezuela',\n",
              "       'Canada, France, Italy, Morocco, United States',\n",
              "       'Canada, Spain, France', 'United States, Indonesia',\n",
              "       'Spain, France, Italy',\n",
              "       'United Arab Emirates, United States, United Kingdom',\n",
              "       'United Kingdom, Israel, Russia', 'Spain, Cuba',\n",
              "       'United States, Brazil', 'United States, France, Mexico',\n",
              "       'United States, Nicaragua',\n",
              "       'United Kingdom, United States, Spain, Germany, Greece, Canada',\n",
              "       'Italy, Canada, France',\n",
              "       'United Kingdom, Denmark, Canada, Croatia', 'Italy, Germany',\n",
              "       'United States, France, United Kingdom, Japan',\n",
              "       'United States, United Kingdom, Denmark, Sweden',\n",
              "       'United States, United Kingdom, Italy',\n",
              "       'United States, France, Canada, Spain',\n",
              "       'Russia, United States, China', 'United States, Canada, Germany',\n",
              "       'Ireland, United States', 'United States, United Arab Emirates',\n",
              "       'United States, Ireland',\n",
              "       'Ireland, United Kingdom, Italy, United States', 'Poland,',\n",
              "       'Slovenia, Croatia, Germany, Czech Republic, Qatar',\n",
              "       'Canada, United Kingdom, Netherlands',\n",
              "       'United States, Spain, Germany', 'India, Japan',\n",
              "       'China, South Korea, United States',\n",
              "       'United Kingdom, France, Belgium',\n",
              "       'Canada, Ireland, United States',\n",
              "       'United Kingdom, United States, Dominican Republic',\n",
              "       'United States, Senegal', 'Germany, United Kingdom, United States',\n",
              "       'South Africa, Germany, Netherlands, France',\n",
              "       'Canada, United States, United Kingdom, France, Luxembourg',\n",
              "       'Ireland, United States, France', 'Germany, United States, Canada',\n",
              "       'United Kingdom, Germany, Canada, United States',\n",
              "       'United States, France, Canada, Lebanon, Qatar',\n",
              "       'Netherlands, Belgium, United Kingdom, United States',\n",
              "       'France, Belgium, China, United States',\n",
              "       'United States, Chile, Israel',\n",
              "       'United Kingdom, Norway, Denmark, Germany, Sweden',\n",
              "       'Norway, Denmark, Sweden', 'China, India, Nepal',\n",
              "       'Colombia, Mexico, United States', 'United Kingdom, South Korea',\n",
              "       'Denmark, China', 'United States, Greece, Brazil',\n",
              "       'South Korea, France',\n",
              "       'United States, Australia, Samoa, United Kingdom',\n",
              "       'Germany, United Kingdom', 'Argentina, Chile, Peru',\n",
              "       'Turkey, Azerbaijan', 'Poland, West Germany',\n",
              "       'Germany, United States, Sweden', 'Canada, Spain',\n",
              "       'United States, Cambodia', 'United States, Greece',\n",
              "       'Norway, United Kingdom, France, Ireland',\n",
              "       'United Kingdom, Poland', 'Israel, Sweden, Germany, Netherlands',\n",
              "       'Switzerland, France', 'Italy, India', 'United States, Botswana',\n",
              "       'Chile, Argentina, France, Spain, United States',\n",
              "       'United States, India, South Korea, China',\n",
              "       'Denmark, Germany, Belgium, United Kingdom, France',\n",
              "       'Denmark, Germany, Belgium, United Kingdom, France, Sweden',\n",
              "       'France, Switzerland, Spain, United States, United Arab Emirates',\n",
              "       'Brazil, India, China, United States',\n",
              "       'Denmark, France, United States, Sweden', 'Australia, Iraq',\n",
              "       'China, Morocco, Hong Kong', 'Canada, United States, Germany',\n",
              "       'United Kingdom, Thailand', 'Venezuela, Colombia',\n",
              "       'Colombia, United States',\n",
              "       'France, Germany, Czech Republic, Belgium',\n",
              "       'Switzerland, Vatican City, Italy, Germany, France',\n",
              "       'Portugal, France, Poland, United States',\n",
              "       'United States, New Zealand, Japan',\n",
              "       'United States, Netherlands, Japan, France', 'India, Switzerland',\n",
              "       'Canada, India', 'United States, Morocco',\n",
              "       'Singapore, Japan, France',\n",
              "       'Canada, Mexico, Germany, South Africa',\n",
              "       'United Kingdom, United States, Canada',\n",
              "       'Germany, France, United States, Canada, United Kingdom',\n",
              "       'United States, Uruguay', 'India, Canada',\n",
              "       'Ireland, Canada, United Kingdom, United States',\n",
              "       'United States, Germany, Australia', 'Australia, France, Ireland',\n",
              "       'Australia, India', 'United States, United Kingdom, Canada, Japan',\n",
              "       'Sweden, United Kingdom, Finland', 'Hong Kong, Taiwan',\n",
              "       'United States, United Kingdom, Spain, South Korea', 'Guatemala',\n",
              "       'Ukraine',\n",
              "       'Italy, South Africa, West Germany, Australia, United States',\n",
              "       'United States, Germany, United Kingdom, Australia',\n",
              "       'Italy, France, Switzerland', 'Canada, France, United States',\n",
              "       'Switzerland, United States', 'Thailand, Canada, United States',\n",
              "       'China, Hong Kong, United States', 'United Kingdom, New Zealand',\n",
              "       'Czech Republic, United Kingdom, France',\n",
              "       'Australia, United Kingdom, Canada', 'Jamaica, United States',\n",
              "       'Australia, United Kingdom, United States, New Zealand, Italy, France',\n",
              "       'France, United States, Canada',\n",
              "       'United Kingdom, France, Canada, Belgium, United States',\n",
              "       'Denmark, United Kingdom, Sweden', 'United States, Hong Kong',\n",
              "       'United States, Kazakhstan',\n",
              "       'Argentina, France, United States, Germany, Qatar',\n",
              "       'United States, Germany, United Kingdom',\n",
              "       'United States, Germany, United Kingdom, Italy',\n",
              "       'United States, New Zealand, United Kingdom',\n",
              "       'Finland, United States', 'Spain, France, Uruguay',\n",
              "       'France, Canada, United States', 'United States, Canada, China',\n",
              "       'Ireland, Canada, Luxembourg, United States, United Kingdom, Philippines, India',\n",
              "       'United States, Czech Republic, United Kingdom', 'Israel, Germany',\n",
              "       'Mexico, France',\n",
              "       'Israel, Germany, Poland, Luxembourg, Belgium, France, United States',\n",
              "       'Austria, United States', 'United Kingdom, Lithuania',\n",
              "       'United States, Greece, United Kingdom',\n",
              "       'United Kingdom, China, United States, India',\n",
              "       'United States, Sweden, Norway',\n",
              "       'United Kingdom, United States, Morocco',\n",
              "       'United States, United Kingdom, Morocco',\n",
              "       'Spain, Canada, United States',\n",
              "       'United States, India, United Arab Emirates',\n",
              "       'United Kingdom, Canada, France, United States',\n",
              "       'India, Germany, France',\n",
              "       'Belgium, Ireland, Netherlands, Germany, Afghanistan',\n",
              "       'France, Canada, Italy, United States, China',\n",
              "       'Ireland, United Kingdom, Greece, France, Netherlands',\n",
              "       'Denmark, Indonesia, Finland, Norway, United Kingdom, Israel, France, United States, Germany, Netherlands',\n",
              "       'New Zealand, United States',\n",
              "       'United States, Australia, South Africa, United Kingdom',\n",
              "       'United States, Germany, Mexico',\n",
              "       'Somalia, Kenya, Sudan, South Africa, United States',\n",
              "       'United States, Canada, Japan, Panama',\n",
              "       'United Kingdom, Spain, Belgium', 'Serbia, South Korea, Slovenia',\n",
              "       'Denmark, United Kingdom, South Africa, Sweden, Belgium',\n",
              "       'Germany, Canada, United States',\n",
              "       'Ireland, Canada, United States, United Kingdom',\n",
              "       'New Zealand, United Kingdom, Australia',\n",
              "       'United Kingdom, Australia, Canada, United States',\n",
              "       'Germany, United States, Italy', 'United States, Venezuela',\n",
              "       'United Kingdom, Canada, Japan',\n",
              "       'United Kingdom, United States, Czech Republic',\n",
              "       'United Kingdom, China, United States',\n",
              "       'United Kingdom, Brazil, Germany',\n",
              "       'United Kingdom, Namibia, South Africa, Zimbabwe, United States',\n",
              "       'Canada, United States, India, United Kingdom',\n",
              "       'Switzerland, United Kingdom, United States',\n",
              "       'United Kingdom, India, Sweden',\n",
              "       'United States, Brazil, India, Uganda, China',\n",
              "       'Peru, United States, United Kingdom',\n",
              "       'Germany, United States, United Kingdom, Canada',\n",
              "       'Canada, India, Thailand, United States, United Arab Emirates',\n",
              "       'United States, East Germany, West Germany',\n",
              "       'France, Netherlands, South Africa, Finland',\n",
              "       'Egypt, Austria, United States', 'Russia, Spain',\n",
              "       'Croatia, Slovenia, Serbia, Montenegro', 'Japan, Canada',\n",
              "       'United States, France, South Korea, Indonesia',\n",
              "       'United Arab Emirates, Jordan'], dtype=object)"
            ]
          },
          "metadata": {},
          "execution_count": 32
        }
      ],
      "source": [
        "df['country'].unique()"
      ]
    },
    {
      "cell_type": "markdown",
      "metadata": {
        "id": "rDRzUyAM5Qd9"
      },
      "source": [
        "Remarks:\n",
        "1. Country name are present as Nested list.\n",
        "2. we need to find mode of country for each director/cast\n",
        "3. hence lets unnest in a seperate variable"
      ]
    },
    {
      "cell_type": "code",
      "execution_count": 33,
      "metadata": {
        "colab": {
          "base_uri": "https://localhost:8080/",
          "height": 206
        },
        "id": "Nb-767omMuFD",
        "outputId": "b6fdd86a-dba9-48df-c822-7c3be3970358"
      },
      "outputs": [
        {
          "output_type": "execute_result",
          "data": {
            "text/plain": [
              "          director          country\n",
              "0  Kirsten Johnson  [United States]\n",
              "1              NaN   [South Africa]\n",
              "2  Julien Leclercq              NaN\n",
              "3              NaN              NaN\n",
              "4              NaN          [India]"
            ],
            "text/html": [
              "\n",
              "  <div id=\"df-fd36b2f7-8e2b-4dea-88f8-c3bc8529b745\" class=\"colab-df-container\">\n",
              "    <div>\n",
              "<style scoped>\n",
              "    .dataframe tbody tr th:only-of-type {\n",
              "        vertical-align: middle;\n",
              "    }\n",
              "\n",
              "    .dataframe tbody tr th {\n",
              "        vertical-align: top;\n",
              "    }\n",
              "\n",
              "    .dataframe thead th {\n",
              "        text-align: right;\n",
              "    }\n",
              "</style>\n",
              "<table border=\"1\" class=\"dataframe\">\n",
              "  <thead>\n",
              "    <tr style=\"text-align: right;\">\n",
              "      <th></th>\n",
              "      <th>director</th>\n",
              "      <th>country</th>\n",
              "    </tr>\n",
              "  </thead>\n",
              "  <tbody>\n",
              "    <tr>\n",
              "      <th>0</th>\n",
              "      <td>Kirsten Johnson</td>\n",
              "      <td>[United States]</td>\n",
              "    </tr>\n",
              "    <tr>\n",
              "      <th>1</th>\n",
              "      <td>NaN</td>\n",
              "      <td>[South Africa]</td>\n",
              "    </tr>\n",
              "    <tr>\n",
              "      <th>2</th>\n",
              "      <td>Julien Leclercq</td>\n",
              "      <td>NaN</td>\n",
              "    </tr>\n",
              "    <tr>\n",
              "      <th>3</th>\n",
              "      <td>NaN</td>\n",
              "      <td>NaN</td>\n",
              "    </tr>\n",
              "    <tr>\n",
              "      <th>4</th>\n",
              "      <td>NaN</td>\n",
              "      <td>[India]</td>\n",
              "    </tr>\n",
              "  </tbody>\n",
              "</table>\n",
              "</div>\n",
              "    <div class=\"colab-df-buttons\">\n",
              "\n",
              "  <div class=\"colab-df-container\">\n",
              "    <button class=\"colab-df-convert\" onclick=\"convertToInteractive('df-fd36b2f7-8e2b-4dea-88f8-c3bc8529b745')\"\n",
              "            title=\"Convert this dataframe to an interactive table.\"\n",
              "            style=\"display:none;\">\n",
              "\n",
              "  <svg xmlns=\"http://www.w3.org/2000/svg\" height=\"24px\" viewBox=\"0 -960 960 960\">\n",
              "    <path d=\"M120-120v-720h720v720H120Zm60-500h600v-160H180v160Zm220 220h160v-160H400v160Zm0 220h160v-160H400v160ZM180-400h160v-160H180v160Zm440 0h160v-160H620v160ZM180-180h160v-160H180v160Zm440 0h160v-160H620v160Z\"/>\n",
              "  </svg>\n",
              "    </button>\n",
              "\n",
              "  <style>\n",
              "    .colab-df-container {\n",
              "      display:flex;\n",
              "      gap: 12px;\n",
              "    }\n",
              "\n",
              "    .colab-df-convert {\n",
              "      background-color: #E8F0FE;\n",
              "      border: none;\n",
              "      border-radius: 50%;\n",
              "      cursor: pointer;\n",
              "      display: none;\n",
              "      fill: #1967D2;\n",
              "      height: 32px;\n",
              "      padding: 0 0 0 0;\n",
              "      width: 32px;\n",
              "    }\n",
              "\n",
              "    .colab-df-convert:hover {\n",
              "      background-color: #E2EBFA;\n",
              "      box-shadow: 0px 1px 2px rgba(60, 64, 67, 0.3), 0px 1px 3px 1px rgba(60, 64, 67, 0.15);\n",
              "      fill: #174EA6;\n",
              "    }\n",
              "\n",
              "    .colab-df-buttons div {\n",
              "      margin-bottom: 4px;\n",
              "    }\n",
              "\n",
              "    [theme=dark] .colab-df-convert {\n",
              "      background-color: #3B4455;\n",
              "      fill: #D2E3FC;\n",
              "    }\n",
              "\n",
              "    [theme=dark] .colab-df-convert:hover {\n",
              "      background-color: #434B5C;\n",
              "      box-shadow: 0px 1px 3px 1px rgba(0, 0, 0, 0.15);\n",
              "      filter: drop-shadow(0px 1px 2px rgba(0, 0, 0, 0.3));\n",
              "      fill: #FFFFFF;\n",
              "    }\n",
              "  </style>\n",
              "\n",
              "    <script>\n",
              "      const buttonEl =\n",
              "        document.querySelector('#df-fd36b2f7-8e2b-4dea-88f8-c3bc8529b745 button.colab-df-convert');\n",
              "      buttonEl.style.display =\n",
              "        google.colab.kernel.accessAllowed ? 'block' : 'none';\n",
              "\n",
              "      async function convertToInteractive(key) {\n",
              "        const element = document.querySelector('#df-fd36b2f7-8e2b-4dea-88f8-c3bc8529b745');\n",
              "        const dataTable =\n",
              "          await google.colab.kernel.invokeFunction('convertToInteractive',\n",
              "                                                    [key], {});\n",
              "        if (!dataTable) return;\n",
              "\n",
              "        const docLinkHtml = 'Like what you see? Visit the ' +\n",
              "          '<a target=\"_blank\" href=https://colab.research.google.com/notebooks/data_table.ipynb>data table notebook</a>'\n",
              "          + ' to learn more about interactive tables.';\n",
              "        element.innerHTML = '';\n",
              "        dataTable['output_type'] = 'display_data';\n",
              "        await google.colab.output.renderOutput(dataTable, element);\n",
              "        const docLink = document.createElement('div');\n",
              "        docLink.innerHTML = docLinkHtml;\n",
              "        element.appendChild(docLink);\n",
              "      }\n",
              "    </script>\n",
              "  </div>\n",
              "\n",
              "\n",
              "<div id=\"df-2627c2ce-3e34-47d0-acab-5c3791db0074\">\n",
              "  <button class=\"colab-df-quickchart\" onclick=\"quickchart('df-2627c2ce-3e34-47d0-acab-5c3791db0074')\"\n",
              "            title=\"Suggest charts\"\n",
              "            style=\"display:none;\">\n",
              "\n",
              "<svg xmlns=\"http://www.w3.org/2000/svg\" height=\"24px\"viewBox=\"0 0 24 24\"\n",
              "     width=\"24px\">\n",
              "    <g>\n",
              "        <path d=\"M19 3H5c-1.1 0-2 .9-2 2v14c0 1.1.9 2 2 2h14c1.1 0 2-.9 2-2V5c0-1.1-.9-2-2-2zM9 17H7v-7h2v7zm4 0h-2V7h2v10zm4 0h-2v-4h2v4z\"/>\n",
              "    </g>\n",
              "</svg>\n",
              "  </button>\n",
              "\n",
              "<style>\n",
              "  .colab-df-quickchart {\n",
              "      --bg-color: #E8F0FE;\n",
              "      --fill-color: #1967D2;\n",
              "      --hover-bg-color: #E2EBFA;\n",
              "      --hover-fill-color: #174EA6;\n",
              "      --disabled-fill-color: #AAA;\n",
              "      --disabled-bg-color: #DDD;\n",
              "  }\n",
              "\n",
              "  [theme=dark] .colab-df-quickchart {\n",
              "      --bg-color: #3B4455;\n",
              "      --fill-color: #D2E3FC;\n",
              "      --hover-bg-color: #434B5C;\n",
              "      --hover-fill-color: #FFFFFF;\n",
              "      --disabled-bg-color: #3B4455;\n",
              "      --disabled-fill-color: #666;\n",
              "  }\n",
              "\n",
              "  .colab-df-quickchart {\n",
              "    background-color: var(--bg-color);\n",
              "    border: none;\n",
              "    border-radius: 50%;\n",
              "    cursor: pointer;\n",
              "    display: none;\n",
              "    fill: var(--fill-color);\n",
              "    height: 32px;\n",
              "    padding: 0;\n",
              "    width: 32px;\n",
              "  }\n",
              "\n",
              "  .colab-df-quickchart:hover {\n",
              "    background-color: var(--hover-bg-color);\n",
              "    box-shadow: 0 1px 2px rgba(60, 64, 67, 0.3), 0 1px 3px 1px rgba(60, 64, 67, 0.15);\n",
              "    fill: var(--button-hover-fill-color);\n",
              "  }\n",
              "\n",
              "  .colab-df-quickchart-complete:disabled,\n",
              "  .colab-df-quickchart-complete:disabled:hover {\n",
              "    background-color: var(--disabled-bg-color);\n",
              "    fill: var(--disabled-fill-color);\n",
              "    box-shadow: none;\n",
              "  }\n",
              "\n",
              "  .colab-df-spinner {\n",
              "    border: 2px solid var(--fill-color);\n",
              "    border-color: transparent;\n",
              "    border-bottom-color: var(--fill-color);\n",
              "    animation:\n",
              "      spin 1s steps(1) infinite;\n",
              "  }\n",
              "\n",
              "  @keyframes spin {\n",
              "    0% {\n",
              "      border-color: transparent;\n",
              "      border-bottom-color: var(--fill-color);\n",
              "      border-left-color: var(--fill-color);\n",
              "    }\n",
              "    20% {\n",
              "      border-color: transparent;\n",
              "      border-left-color: var(--fill-color);\n",
              "      border-top-color: var(--fill-color);\n",
              "    }\n",
              "    30% {\n",
              "      border-color: transparent;\n",
              "      border-left-color: var(--fill-color);\n",
              "      border-top-color: var(--fill-color);\n",
              "      border-right-color: var(--fill-color);\n",
              "    }\n",
              "    40% {\n",
              "      border-color: transparent;\n",
              "      border-right-color: var(--fill-color);\n",
              "      border-top-color: var(--fill-color);\n",
              "    }\n",
              "    60% {\n",
              "      border-color: transparent;\n",
              "      border-right-color: var(--fill-color);\n",
              "    }\n",
              "    80% {\n",
              "      border-color: transparent;\n",
              "      border-right-color: var(--fill-color);\n",
              "      border-bottom-color: var(--fill-color);\n",
              "    }\n",
              "    90% {\n",
              "      border-color: transparent;\n",
              "      border-bottom-color: var(--fill-color);\n",
              "    }\n",
              "  }\n",
              "</style>\n",
              "\n",
              "  <script>\n",
              "    async function quickchart(key) {\n",
              "      const quickchartButtonEl =\n",
              "        document.querySelector('#' + key + ' button');\n",
              "      quickchartButtonEl.disabled = true;  // To prevent multiple clicks.\n",
              "      quickchartButtonEl.classList.add('colab-df-spinner');\n",
              "      try {\n",
              "        const charts = await google.colab.kernel.invokeFunction(\n",
              "            'suggestCharts', [key], {});\n",
              "      } catch (error) {\n",
              "        console.error('Error during call to suggestCharts:', error);\n",
              "      }\n",
              "      quickchartButtonEl.classList.remove('colab-df-spinner');\n",
              "      quickchartButtonEl.classList.add('colab-df-quickchart-complete');\n",
              "    }\n",
              "    (() => {\n",
              "      let quickchartButtonEl =\n",
              "        document.querySelector('#df-2627c2ce-3e34-47d0-acab-5c3791db0074 button');\n",
              "      quickchartButtonEl.style.display =\n",
              "        google.colab.kernel.accessAllowed ? 'block' : 'none';\n",
              "    })();\n",
              "  </script>\n",
              "</div>\n",
              "\n",
              "    </div>\n",
              "  </div>\n"
            ]
          },
          "metadata": {},
          "execution_count": 33
        }
      ],
      "source": [
        "df1=df[['director','country']].copy()   #creating a seperate variable for calculation of mode.\n",
        "df1['country']=df1['country'].str.split(', ')\n",
        "df1.head()"
      ]
    },
    {
      "cell_type": "code",
      "execution_count": 34,
      "metadata": {
        "colab": {
          "base_uri": "https://localhost:8080/",
          "height": 206
        },
        "id": "Vzjt3UhgEeS-",
        "outputId": "d0a09a67-ee30-410d-8e14-0d8fb89f07ad"
      },
      "outputs": [
        {
          "output_type": "execute_result",
          "data": {
            "text/plain": [
              "          director        country\n",
              "0  Kirsten Johnson  United States\n",
              "1              NaN   South Africa\n",
              "2  Julien Leclercq            NaN\n",
              "3              NaN            NaN\n",
              "4              NaN          India"
            ],
            "text/html": [
              "\n",
              "  <div id=\"df-5476be3e-cda0-4029-a6db-54ddd7d04765\" class=\"colab-df-container\">\n",
              "    <div>\n",
              "<style scoped>\n",
              "    .dataframe tbody tr th:only-of-type {\n",
              "        vertical-align: middle;\n",
              "    }\n",
              "\n",
              "    .dataframe tbody tr th {\n",
              "        vertical-align: top;\n",
              "    }\n",
              "\n",
              "    .dataframe thead th {\n",
              "        text-align: right;\n",
              "    }\n",
              "</style>\n",
              "<table border=\"1\" class=\"dataframe\">\n",
              "  <thead>\n",
              "    <tr style=\"text-align: right;\">\n",
              "      <th></th>\n",
              "      <th>director</th>\n",
              "      <th>country</th>\n",
              "    </tr>\n",
              "  </thead>\n",
              "  <tbody>\n",
              "    <tr>\n",
              "      <th>0</th>\n",
              "      <td>Kirsten Johnson</td>\n",
              "      <td>United States</td>\n",
              "    </tr>\n",
              "    <tr>\n",
              "      <th>1</th>\n",
              "      <td>NaN</td>\n",
              "      <td>South Africa</td>\n",
              "    </tr>\n",
              "    <tr>\n",
              "      <th>2</th>\n",
              "      <td>Julien Leclercq</td>\n",
              "      <td>NaN</td>\n",
              "    </tr>\n",
              "    <tr>\n",
              "      <th>3</th>\n",
              "      <td>NaN</td>\n",
              "      <td>NaN</td>\n",
              "    </tr>\n",
              "    <tr>\n",
              "      <th>4</th>\n",
              "      <td>NaN</td>\n",
              "      <td>India</td>\n",
              "    </tr>\n",
              "  </tbody>\n",
              "</table>\n",
              "</div>\n",
              "    <div class=\"colab-df-buttons\">\n",
              "\n",
              "  <div class=\"colab-df-container\">\n",
              "    <button class=\"colab-df-convert\" onclick=\"convertToInteractive('df-5476be3e-cda0-4029-a6db-54ddd7d04765')\"\n",
              "            title=\"Convert this dataframe to an interactive table.\"\n",
              "            style=\"display:none;\">\n",
              "\n",
              "  <svg xmlns=\"http://www.w3.org/2000/svg\" height=\"24px\" viewBox=\"0 -960 960 960\">\n",
              "    <path d=\"M120-120v-720h720v720H120Zm60-500h600v-160H180v160Zm220 220h160v-160H400v160Zm0 220h160v-160H400v160ZM180-400h160v-160H180v160Zm440 0h160v-160H620v160ZM180-180h160v-160H180v160Zm440 0h160v-160H620v160Z\"/>\n",
              "  </svg>\n",
              "    </button>\n",
              "\n",
              "  <style>\n",
              "    .colab-df-container {\n",
              "      display:flex;\n",
              "      gap: 12px;\n",
              "    }\n",
              "\n",
              "    .colab-df-convert {\n",
              "      background-color: #E8F0FE;\n",
              "      border: none;\n",
              "      border-radius: 50%;\n",
              "      cursor: pointer;\n",
              "      display: none;\n",
              "      fill: #1967D2;\n",
              "      height: 32px;\n",
              "      padding: 0 0 0 0;\n",
              "      width: 32px;\n",
              "    }\n",
              "\n",
              "    .colab-df-convert:hover {\n",
              "      background-color: #E2EBFA;\n",
              "      box-shadow: 0px 1px 2px rgba(60, 64, 67, 0.3), 0px 1px 3px 1px rgba(60, 64, 67, 0.15);\n",
              "      fill: #174EA6;\n",
              "    }\n",
              "\n",
              "    .colab-df-buttons div {\n",
              "      margin-bottom: 4px;\n",
              "    }\n",
              "\n",
              "    [theme=dark] .colab-df-convert {\n",
              "      background-color: #3B4455;\n",
              "      fill: #D2E3FC;\n",
              "    }\n",
              "\n",
              "    [theme=dark] .colab-df-convert:hover {\n",
              "      background-color: #434B5C;\n",
              "      box-shadow: 0px 1px 3px 1px rgba(0, 0, 0, 0.15);\n",
              "      filter: drop-shadow(0px 1px 2px rgba(0, 0, 0, 0.3));\n",
              "      fill: #FFFFFF;\n",
              "    }\n",
              "  </style>\n",
              "\n",
              "    <script>\n",
              "      const buttonEl =\n",
              "        document.querySelector('#df-5476be3e-cda0-4029-a6db-54ddd7d04765 button.colab-df-convert');\n",
              "      buttonEl.style.display =\n",
              "        google.colab.kernel.accessAllowed ? 'block' : 'none';\n",
              "\n",
              "      async function convertToInteractive(key) {\n",
              "        const element = document.querySelector('#df-5476be3e-cda0-4029-a6db-54ddd7d04765');\n",
              "        const dataTable =\n",
              "          await google.colab.kernel.invokeFunction('convertToInteractive',\n",
              "                                                    [key], {});\n",
              "        if (!dataTable) return;\n",
              "\n",
              "        const docLinkHtml = 'Like what you see? Visit the ' +\n",
              "          '<a target=\"_blank\" href=https://colab.research.google.com/notebooks/data_table.ipynb>data table notebook</a>'\n",
              "          + ' to learn more about interactive tables.';\n",
              "        element.innerHTML = '';\n",
              "        dataTable['output_type'] = 'display_data';\n",
              "        await google.colab.output.renderOutput(dataTable, element);\n",
              "        const docLink = document.createElement('div');\n",
              "        docLink.innerHTML = docLinkHtml;\n",
              "        element.appendChild(docLink);\n",
              "      }\n",
              "    </script>\n",
              "  </div>\n",
              "\n",
              "\n",
              "<div id=\"df-1667ebb5-b4e3-405b-9d9d-9b99c6478b1c\">\n",
              "  <button class=\"colab-df-quickchart\" onclick=\"quickchart('df-1667ebb5-b4e3-405b-9d9d-9b99c6478b1c')\"\n",
              "            title=\"Suggest charts\"\n",
              "            style=\"display:none;\">\n",
              "\n",
              "<svg xmlns=\"http://www.w3.org/2000/svg\" height=\"24px\"viewBox=\"0 0 24 24\"\n",
              "     width=\"24px\">\n",
              "    <g>\n",
              "        <path d=\"M19 3H5c-1.1 0-2 .9-2 2v14c0 1.1.9 2 2 2h14c1.1 0 2-.9 2-2V5c0-1.1-.9-2-2-2zM9 17H7v-7h2v7zm4 0h-2V7h2v10zm4 0h-2v-4h2v4z\"/>\n",
              "    </g>\n",
              "</svg>\n",
              "  </button>\n",
              "\n",
              "<style>\n",
              "  .colab-df-quickchart {\n",
              "      --bg-color: #E8F0FE;\n",
              "      --fill-color: #1967D2;\n",
              "      --hover-bg-color: #E2EBFA;\n",
              "      --hover-fill-color: #174EA6;\n",
              "      --disabled-fill-color: #AAA;\n",
              "      --disabled-bg-color: #DDD;\n",
              "  }\n",
              "\n",
              "  [theme=dark] .colab-df-quickchart {\n",
              "      --bg-color: #3B4455;\n",
              "      --fill-color: #D2E3FC;\n",
              "      --hover-bg-color: #434B5C;\n",
              "      --hover-fill-color: #FFFFFF;\n",
              "      --disabled-bg-color: #3B4455;\n",
              "      --disabled-fill-color: #666;\n",
              "  }\n",
              "\n",
              "  .colab-df-quickchart {\n",
              "    background-color: var(--bg-color);\n",
              "    border: none;\n",
              "    border-radius: 50%;\n",
              "    cursor: pointer;\n",
              "    display: none;\n",
              "    fill: var(--fill-color);\n",
              "    height: 32px;\n",
              "    padding: 0;\n",
              "    width: 32px;\n",
              "  }\n",
              "\n",
              "  .colab-df-quickchart:hover {\n",
              "    background-color: var(--hover-bg-color);\n",
              "    box-shadow: 0 1px 2px rgba(60, 64, 67, 0.3), 0 1px 3px 1px rgba(60, 64, 67, 0.15);\n",
              "    fill: var(--button-hover-fill-color);\n",
              "  }\n",
              "\n",
              "  .colab-df-quickchart-complete:disabled,\n",
              "  .colab-df-quickchart-complete:disabled:hover {\n",
              "    background-color: var(--disabled-bg-color);\n",
              "    fill: var(--disabled-fill-color);\n",
              "    box-shadow: none;\n",
              "  }\n",
              "\n",
              "  .colab-df-spinner {\n",
              "    border: 2px solid var(--fill-color);\n",
              "    border-color: transparent;\n",
              "    border-bottom-color: var(--fill-color);\n",
              "    animation:\n",
              "      spin 1s steps(1) infinite;\n",
              "  }\n",
              "\n",
              "  @keyframes spin {\n",
              "    0% {\n",
              "      border-color: transparent;\n",
              "      border-bottom-color: var(--fill-color);\n",
              "      border-left-color: var(--fill-color);\n",
              "    }\n",
              "    20% {\n",
              "      border-color: transparent;\n",
              "      border-left-color: var(--fill-color);\n",
              "      border-top-color: var(--fill-color);\n",
              "    }\n",
              "    30% {\n",
              "      border-color: transparent;\n",
              "      border-left-color: var(--fill-color);\n",
              "      border-top-color: var(--fill-color);\n",
              "      border-right-color: var(--fill-color);\n",
              "    }\n",
              "    40% {\n",
              "      border-color: transparent;\n",
              "      border-right-color: var(--fill-color);\n",
              "      border-top-color: var(--fill-color);\n",
              "    }\n",
              "    60% {\n",
              "      border-color: transparent;\n",
              "      border-right-color: var(--fill-color);\n",
              "    }\n",
              "    80% {\n",
              "      border-color: transparent;\n",
              "      border-right-color: var(--fill-color);\n",
              "      border-bottom-color: var(--fill-color);\n",
              "    }\n",
              "    90% {\n",
              "      border-color: transparent;\n",
              "      border-bottom-color: var(--fill-color);\n",
              "    }\n",
              "  }\n",
              "</style>\n",
              "\n",
              "  <script>\n",
              "    async function quickchart(key) {\n",
              "      const quickchartButtonEl =\n",
              "        document.querySelector('#' + key + ' button');\n",
              "      quickchartButtonEl.disabled = true;  // To prevent multiple clicks.\n",
              "      quickchartButtonEl.classList.add('colab-df-spinner');\n",
              "      try {\n",
              "        const charts = await google.colab.kernel.invokeFunction(\n",
              "            'suggestCharts', [key], {});\n",
              "      } catch (error) {\n",
              "        console.error('Error during call to suggestCharts:', error);\n",
              "      }\n",
              "      quickchartButtonEl.classList.remove('colab-df-spinner');\n",
              "      quickchartButtonEl.classList.add('colab-df-quickchart-complete');\n",
              "    }\n",
              "    (() => {\n",
              "      let quickchartButtonEl =\n",
              "        document.querySelector('#df-1667ebb5-b4e3-405b-9d9d-9b99c6478b1c button');\n",
              "      quickchartButtonEl.style.display =\n",
              "        google.colab.kernel.accessAllowed ? 'block' : 'none';\n",
              "    })();\n",
              "  </script>\n",
              "</div>\n",
              "\n",
              "    </div>\n",
              "  </div>\n"
            ]
          },
          "metadata": {},
          "execution_count": 34
        }
      ],
      "source": [
        "df1=df1.explode('country')\n",
        "df1.head()"
      ]
    },
    {
      "cell_type": "code",
      "execution_count": 35,
      "metadata": {
        "colab": {
          "base_uri": "https://localhost:8080/",
          "height": 206
        },
        "id": "L30WX1pQOEJV",
        "outputId": "3415eafd-146e-4653-a1ed-d3348076a5c9"
      },
      "outputs": [
        {
          "output_type": "execute_result",
          "data": {
            "text/plain": [
              "          director         country\n",
              "0  Kirsten Johnson   United States\n",
              "7     Haile Gerima   United States\n",
              "7     Haile Gerima           Ghana\n",
              "7     Haile Gerima    Burkina Faso\n",
              "7     Haile Gerima  United Kingdom"
            ],
            "text/html": [
              "\n",
              "  <div id=\"df-316f046b-98a7-4089-aac1-4c587b8cace5\" class=\"colab-df-container\">\n",
              "    <div>\n",
              "<style scoped>\n",
              "    .dataframe tbody tr th:only-of-type {\n",
              "        vertical-align: middle;\n",
              "    }\n",
              "\n",
              "    .dataframe tbody tr th {\n",
              "        vertical-align: top;\n",
              "    }\n",
              "\n",
              "    .dataframe thead th {\n",
              "        text-align: right;\n",
              "    }\n",
              "</style>\n",
              "<table border=\"1\" class=\"dataframe\">\n",
              "  <thead>\n",
              "    <tr style=\"text-align: right;\">\n",
              "      <th></th>\n",
              "      <th>director</th>\n",
              "      <th>country</th>\n",
              "    </tr>\n",
              "  </thead>\n",
              "  <tbody>\n",
              "    <tr>\n",
              "      <th>0</th>\n",
              "      <td>Kirsten Johnson</td>\n",
              "      <td>United States</td>\n",
              "    </tr>\n",
              "    <tr>\n",
              "      <th>7</th>\n",
              "      <td>Haile Gerima</td>\n",
              "      <td>United States</td>\n",
              "    </tr>\n",
              "    <tr>\n",
              "      <th>7</th>\n",
              "      <td>Haile Gerima</td>\n",
              "      <td>Ghana</td>\n",
              "    </tr>\n",
              "    <tr>\n",
              "      <th>7</th>\n",
              "      <td>Haile Gerima</td>\n",
              "      <td>Burkina Faso</td>\n",
              "    </tr>\n",
              "    <tr>\n",
              "      <th>7</th>\n",
              "      <td>Haile Gerima</td>\n",
              "      <td>United Kingdom</td>\n",
              "    </tr>\n",
              "  </tbody>\n",
              "</table>\n",
              "</div>\n",
              "    <div class=\"colab-df-buttons\">\n",
              "\n",
              "  <div class=\"colab-df-container\">\n",
              "    <button class=\"colab-df-convert\" onclick=\"convertToInteractive('df-316f046b-98a7-4089-aac1-4c587b8cace5')\"\n",
              "            title=\"Convert this dataframe to an interactive table.\"\n",
              "            style=\"display:none;\">\n",
              "\n",
              "  <svg xmlns=\"http://www.w3.org/2000/svg\" height=\"24px\" viewBox=\"0 -960 960 960\">\n",
              "    <path d=\"M120-120v-720h720v720H120Zm60-500h600v-160H180v160Zm220 220h160v-160H400v160Zm0 220h160v-160H400v160ZM180-400h160v-160H180v160Zm440 0h160v-160H620v160ZM180-180h160v-160H180v160Zm440 0h160v-160H620v160Z\"/>\n",
              "  </svg>\n",
              "    </button>\n",
              "\n",
              "  <style>\n",
              "    .colab-df-container {\n",
              "      display:flex;\n",
              "      gap: 12px;\n",
              "    }\n",
              "\n",
              "    .colab-df-convert {\n",
              "      background-color: #E8F0FE;\n",
              "      border: none;\n",
              "      border-radius: 50%;\n",
              "      cursor: pointer;\n",
              "      display: none;\n",
              "      fill: #1967D2;\n",
              "      height: 32px;\n",
              "      padding: 0 0 0 0;\n",
              "      width: 32px;\n",
              "    }\n",
              "\n",
              "    .colab-df-convert:hover {\n",
              "      background-color: #E2EBFA;\n",
              "      box-shadow: 0px 1px 2px rgba(60, 64, 67, 0.3), 0px 1px 3px 1px rgba(60, 64, 67, 0.15);\n",
              "      fill: #174EA6;\n",
              "    }\n",
              "\n",
              "    .colab-df-buttons div {\n",
              "      margin-bottom: 4px;\n",
              "    }\n",
              "\n",
              "    [theme=dark] .colab-df-convert {\n",
              "      background-color: #3B4455;\n",
              "      fill: #D2E3FC;\n",
              "    }\n",
              "\n",
              "    [theme=dark] .colab-df-convert:hover {\n",
              "      background-color: #434B5C;\n",
              "      box-shadow: 0px 1px 3px 1px rgba(0, 0, 0, 0.15);\n",
              "      filter: drop-shadow(0px 1px 2px rgba(0, 0, 0, 0.3));\n",
              "      fill: #FFFFFF;\n",
              "    }\n",
              "  </style>\n",
              "\n",
              "    <script>\n",
              "      const buttonEl =\n",
              "        document.querySelector('#df-316f046b-98a7-4089-aac1-4c587b8cace5 button.colab-df-convert');\n",
              "      buttonEl.style.display =\n",
              "        google.colab.kernel.accessAllowed ? 'block' : 'none';\n",
              "\n",
              "      async function convertToInteractive(key) {\n",
              "        const element = document.querySelector('#df-316f046b-98a7-4089-aac1-4c587b8cace5');\n",
              "        const dataTable =\n",
              "          await google.colab.kernel.invokeFunction('convertToInteractive',\n",
              "                                                    [key], {});\n",
              "        if (!dataTable) return;\n",
              "\n",
              "        const docLinkHtml = 'Like what you see? Visit the ' +\n",
              "          '<a target=\"_blank\" href=https://colab.research.google.com/notebooks/data_table.ipynb>data table notebook</a>'\n",
              "          + ' to learn more about interactive tables.';\n",
              "        element.innerHTML = '';\n",
              "        dataTable['output_type'] = 'display_data';\n",
              "        await google.colab.output.renderOutput(dataTable, element);\n",
              "        const docLink = document.createElement('div');\n",
              "        docLink.innerHTML = docLinkHtml;\n",
              "        element.appendChild(docLink);\n",
              "      }\n",
              "    </script>\n",
              "  </div>\n",
              "\n",
              "\n",
              "<div id=\"df-9d0230ec-2fb4-4790-aa76-a1e32f817d94\">\n",
              "  <button class=\"colab-df-quickchart\" onclick=\"quickchart('df-9d0230ec-2fb4-4790-aa76-a1e32f817d94')\"\n",
              "            title=\"Suggest charts\"\n",
              "            style=\"display:none;\">\n",
              "\n",
              "<svg xmlns=\"http://www.w3.org/2000/svg\" height=\"24px\"viewBox=\"0 0 24 24\"\n",
              "     width=\"24px\">\n",
              "    <g>\n",
              "        <path d=\"M19 3H5c-1.1 0-2 .9-2 2v14c0 1.1.9 2 2 2h14c1.1 0 2-.9 2-2V5c0-1.1-.9-2-2-2zM9 17H7v-7h2v7zm4 0h-2V7h2v10zm4 0h-2v-4h2v4z\"/>\n",
              "    </g>\n",
              "</svg>\n",
              "  </button>\n",
              "\n",
              "<style>\n",
              "  .colab-df-quickchart {\n",
              "      --bg-color: #E8F0FE;\n",
              "      --fill-color: #1967D2;\n",
              "      --hover-bg-color: #E2EBFA;\n",
              "      --hover-fill-color: #174EA6;\n",
              "      --disabled-fill-color: #AAA;\n",
              "      --disabled-bg-color: #DDD;\n",
              "  }\n",
              "\n",
              "  [theme=dark] .colab-df-quickchart {\n",
              "      --bg-color: #3B4455;\n",
              "      --fill-color: #D2E3FC;\n",
              "      --hover-bg-color: #434B5C;\n",
              "      --hover-fill-color: #FFFFFF;\n",
              "      --disabled-bg-color: #3B4455;\n",
              "      --disabled-fill-color: #666;\n",
              "  }\n",
              "\n",
              "  .colab-df-quickchart {\n",
              "    background-color: var(--bg-color);\n",
              "    border: none;\n",
              "    border-radius: 50%;\n",
              "    cursor: pointer;\n",
              "    display: none;\n",
              "    fill: var(--fill-color);\n",
              "    height: 32px;\n",
              "    padding: 0;\n",
              "    width: 32px;\n",
              "  }\n",
              "\n",
              "  .colab-df-quickchart:hover {\n",
              "    background-color: var(--hover-bg-color);\n",
              "    box-shadow: 0 1px 2px rgba(60, 64, 67, 0.3), 0 1px 3px 1px rgba(60, 64, 67, 0.15);\n",
              "    fill: var(--button-hover-fill-color);\n",
              "  }\n",
              "\n",
              "  .colab-df-quickchart-complete:disabled,\n",
              "  .colab-df-quickchart-complete:disabled:hover {\n",
              "    background-color: var(--disabled-bg-color);\n",
              "    fill: var(--disabled-fill-color);\n",
              "    box-shadow: none;\n",
              "  }\n",
              "\n",
              "  .colab-df-spinner {\n",
              "    border: 2px solid var(--fill-color);\n",
              "    border-color: transparent;\n",
              "    border-bottom-color: var(--fill-color);\n",
              "    animation:\n",
              "      spin 1s steps(1) infinite;\n",
              "  }\n",
              "\n",
              "  @keyframes spin {\n",
              "    0% {\n",
              "      border-color: transparent;\n",
              "      border-bottom-color: var(--fill-color);\n",
              "      border-left-color: var(--fill-color);\n",
              "    }\n",
              "    20% {\n",
              "      border-color: transparent;\n",
              "      border-left-color: var(--fill-color);\n",
              "      border-top-color: var(--fill-color);\n",
              "    }\n",
              "    30% {\n",
              "      border-color: transparent;\n",
              "      border-left-color: var(--fill-color);\n",
              "      border-top-color: var(--fill-color);\n",
              "      border-right-color: var(--fill-color);\n",
              "    }\n",
              "    40% {\n",
              "      border-color: transparent;\n",
              "      border-right-color: var(--fill-color);\n",
              "      border-top-color: var(--fill-color);\n",
              "    }\n",
              "    60% {\n",
              "      border-color: transparent;\n",
              "      border-right-color: var(--fill-color);\n",
              "    }\n",
              "    80% {\n",
              "      border-color: transparent;\n",
              "      border-right-color: var(--fill-color);\n",
              "      border-bottom-color: var(--fill-color);\n",
              "    }\n",
              "    90% {\n",
              "      border-color: transparent;\n",
              "      border-bottom-color: var(--fill-color);\n",
              "    }\n",
              "  }\n",
              "</style>\n",
              "\n",
              "  <script>\n",
              "    async function quickchart(key) {\n",
              "      const quickchartButtonEl =\n",
              "        document.querySelector('#' + key + ' button');\n",
              "      quickchartButtonEl.disabled = true;  // To prevent multiple clicks.\n",
              "      quickchartButtonEl.classList.add('colab-df-spinner');\n",
              "      try {\n",
              "        const charts = await google.colab.kernel.invokeFunction(\n",
              "            'suggestCharts', [key], {});\n",
              "      } catch (error) {\n",
              "        console.error('Error during call to suggestCharts:', error);\n",
              "      }\n",
              "      quickchartButtonEl.classList.remove('colab-df-spinner');\n",
              "      quickchartButtonEl.classList.add('colab-df-quickchart-complete');\n",
              "    }\n",
              "    (() => {\n",
              "      let quickchartButtonEl =\n",
              "        document.querySelector('#df-9d0230ec-2fb4-4790-aa76-a1e32f817d94 button');\n",
              "      quickchartButtonEl.style.display =\n",
              "        google.colab.kernel.accessAllowed ? 'block' : 'none';\n",
              "    })();\n",
              "  </script>\n",
              "</div>\n",
              "\n",
              "    </div>\n",
              "  </div>\n"
            ]
          },
          "metadata": {},
          "execution_count": 35
        }
      ],
      "source": [
        "df1=df1.dropna()\n",
        "df1.head()"
      ]
    },
    {
      "cell_type": "code",
      "execution_count": 36,
      "metadata": {
        "colab": {
          "base_uri": "https://localhost:8080/"
        },
        "id": "8AJH5Y5RHfes",
        "outputId": "4756976c-a860-41f7-e254-dcb111f45a55"
      },
      "outputs": [
        {
          "output_type": "execute_result",
          "data": {
            "text/plain": [
              "831"
            ]
          },
          "metadata": {},
          "execution_count": 36
        }
      ],
      "source": [
        "df['country'].isnull().sum()"
      ]
    },
    {
      "cell_type": "code",
      "execution_count": 37,
      "metadata": {
        "id": "LUIqFlSqh7gB"
      },
      "outputs": [],
      "source": [
        "#this will fill some missing values accurately.\n",
        "for i in df[(df['country'].isnull()) & (~df['director'].isnull())]['director'].unique():\n",
        "  impute=df1[df1['director']==i]['country'].mode()\n",
        "  if len(impute)==0:\n",
        "    pass\n",
        "  else:\n",
        "    impute=impute[0]\n",
        "  df.loc[df['director']==i,'country']=df.loc[df['director']==i,'country'].fillna(impute) ##imputation"
      ]
    },
    {
      "cell_type": "code",
      "execution_count": 38,
      "metadata": {
        "colab": {
          "base_uri": "https://localhost:8080/"
        },
        "id": "HQyuVJ7HH6Lv",
        "outputId": "f99f73d0-314f-40a7-bf39-096287c08235"
      },
      "outputs": [
        {
          "output_type": "execute_result",
          "data": {
            "text/plain": [
              "683"
            ]
          },
          "metadata": {},
          "execution_count": 38
        }
      ],
      "source": [
        "df['country'].isnull().sum()"
      ]
    },
    {
      "cell_type": "markdown",
      "metadata": {
        "id": "PXGt7iUGOv7R"
      },
      "source": [
        "Imputation in country column is completed using director. now lets try to impute using counties of actors."
      ]
    },
    {
      "cell_type": "code",
      "execution_count": 39,
      "metadata": {
        "id": "ExdzrZBqmM6R"
      },
      "outputs": [],
      "source": [
        "#creating a dataframe df3 to calculate mode of actors\n",
        "df2=df[['cast','country']].copy()\n",
        "\n",
        "df2['cast']=df2['cast'].str.split(\", \")\n",
        "df2['country']=df2['country'].str.split(\", \")\n",
        "df2=df2.explode('cast')\n",
        "df3=df2.explode('country')"
      ]
    },
    {
      "cell_type": "code",
      "execution_count": 40,
      "metadata": {
        "id": "yuIK6jXJWpVj"
      },
      "outputs": [],
      "source": [
        "#finding list of unique cast in missing entries of original dataframe i.e. df\n",
        "imp=df[df['country'].isnull() & (~df['cast'].isnull())].index\n",
        "imp=imp.unique()\n",
        "imp=df3.loc[imp]['cast'].unique()"
      ]
    },
    {
      "cell_type": "code",
      "execution_count": 41,
      "metadata": {
        "colab": {
          "base_uri": "https://localhost:8080/"
        },
        "id": "F87oX6yyLuM7",
        "outputId": "dddf7132-6ed6-4e1d-c6b4-282e2564fc75"
      },
      "outputs": [
        {
          "output_type": "execute_result",
          "data": {
            "text/plain": [
              "3267"
            ]
          },
          "metadata": {},
          "execution_count": 41
        }
      ],
      "source": [
        "len(imp)"
      ]
    },
    {
      "cell_type": "code",
      "execution_count": 42,
      "metadata": {
        "id": "OO3PgoySdf2Z"
      },
      "outputs": [],
      "source": [
        "df3=df3.dropna()   #removing nulls to reduce computation"
      ]
    },
    {
      "cell_type": "code",
      "execution_count": 43,
      "metadata": {
        "colab": {
          "base_uri": "https://localhost:8080/"
        },
        "id": "KfzK-a08H0JR",
        "outputId": "f7ce2fcc-e00c-4536-f904-941e802f169b"
      },
      "outputs": [
        {
          "output_type": "stream",
          "name": "stderr",
          "text": [
            "<ipython-input-43-81df3416cd63>:7: UserWarning: This pattern is interpreted as a regular expression, and has match groups. To actually get the groups, use str.extract.\n",
            "  df.loc[df['cast'].str.contains(i) & (~df['cast'].isnull()),'country']=df.loc[ (~df['cast'].isnull()) & df['cast'].str.contains(i),'country'].fillna(impute) ##imputation\n"
          ]
        }
      ],
      "source": [
        "for i in imp:\n",
        "  impute=df3[df3['cast']==i]['country'].mode()  #finding country of actor as mode\n",
        "  if len(impute)==0:\n",
        "    pass\n",
        "  else:\n",
        "    impute=impute[0]\n",
        "  df.loc[df['cast'].str.contains(i) & (~df['cast'].isnull()),'country']=df.loc[ (~df['cast'].isnull()) & df['cast'].str.contains(i),'country'].fillna(impute) ##imputation\n"
      ]
    },
    {
      "cell_type": "code",
      "execution_count": 44,
      "metadata": {
        "colab": {
          "base_uri": "https://localhost:8080/"
        },
        "id": "kNMpM7KAY5AB",
        "outputId": "d9fbbe62-512a-46cf-ee78-237b452b9566"
      },
      "outputs": [
        {
          "output_type": "execute_result",
          "data": {
            "text/plain": [
              "250"
            ]
          },
          "metadata": {},
          "execution_count": 44
        }
      ],
      "source": [
        "df['country'].isnull().sum()"
      ]
    },
    {
      "cell_type": "code",
      "execution_count": 45,
      "metadata": {
        "id": "lsKNytT1Qu1U"
      },
      "outputs": [],
      "source": [
        "#if there are still any nulls we can replace by unknown country\n",
        "df['country'].fillna('unknown country', inplace=True)"
      ]
    },
    {
      "cell_type": "markdown",
      "metadata": {
        "id": "znnJNZQ2XubT"
      },
      "source": [
        "4. Missing value Imputation:: Director  & cast column"
      ]
    },
    {
      "cell_type": "code",
      "execution_count": 46,
      "metadata": {
        "id": "lw_5BreSYRPr"
      },
      "outputs": [],
      "source": [
        "df.fillna({'director':'unknown director','cast':'unknown cast'},inplace=True)"
      ]
    },
    {
      "cell_type": "code",
      "execution_count": 47,
      "metadata": {
        "colab": {
          "base_uri": "https://localhost:8080/"
        },
        "id": "wmnsuBEF9MwG",
        "outputId": "2c1c2c42-bbd3-4226-c535-80ed872dfaab"
      },
      "outputs": [
        {
          "output_type": "execute_result",
          "data": {
            "text/plain": [
              "show_id             0\n",
              "type                0\n",
              "title               0\n",
              "director            0\n",
              "cast                0\n",
              "country             0\n",
              "date_added          0\n",
              "release_year        0\n",
              "rating              0\n",
              "duration            0\n",
              "listed_in           0\n",
              "description         0\n",
              "month_of_upload    10\n",
              "year_of_upload     10\n",
              "dtype: int64"
            ]
          },
          "metadata": {},
          "execution_count": 47
        }
      ],
      "source": [
        "df.isnull().sum()"
      ]
    },
    {
      "cell_type": "markdown",
      "metadata": {
        "id": "BuIeu9hq9KQj"
      },
      "source": [
        "# C. Exploratory Data Analysis"
      ]
    },
    {
      "cell_type": "code",
      "source": [
        "red=sns.color_palette()[3] #setting my colors for further analysis"
      ],
      "metadata": {
        "id": "YU99hn67UrzE"
      },
      "execution_count": 48,
      "outputs": []
    },
    {
      "cell_type": "markdown",
      "metadata": {
        "id": "XnMXMkjTo-IK"
      },
      "source": [
        "1. **Time Frame of dataset:** First and lastest upload dates"
      ]
    },
    {
      "cell_type": "code",
      "execution_count": 49,
      "metadata": {
        "colab": {
          "base_uri": "https://localhost:8080/"
        },
        "id": "pFdzjJaxpKtP",
        "outputId": "7763cafc-2c21-4b57-ed24-09fe7820a836"
      },
      "outputs": [
        {
          "output_type": "stream",
          "name": "stdout",
          "text": [
            "starting date: 2008-01-01 00:00:00\n",
            "latest date: 2021-09-25 00:00:00\n"
          ]
        }
      ],
      "source": [
        "print('starting date:',df['date_added'].min())\n",
        "print('latest date:',df['date_added'].max())"
      ]
    },
    {
      "cell_type": "markdown",
      "source": [
        "# C.1 Content wise Exploration"
      ],
      "metadata": {
        "id": "k5Hmj1-3nJET"
      }
    },
    {
      "cell_type": "markdown",
      "metadata": {
        "id": "2yQ7psdG-_I4"
      },
      "source": [
        "2. What is the ratio of movies and TV shows on the plateform?"
      ]
    },
    {
      "cell_type": "code",
      "execution_count": 50,
      "metadata": {
        "colab": {
          "base_uri": "https://localhost:8080/"
        },
        "id": "vDsYCw2SSM_-",
        "outputId": "5bee6b34-2edf-43f3-f51b-2d818aebc8ec"
      },
      "outputs": [
        {
          "output_type": "execute_result",
          "data": {
            "text/plain": [
              "Movie      6131\n",
              "TV Show    2676\n",
              "Name: type, dtype: int64"
            ]
          },
          "metadata": {},
          "execution_count": 50
        }
      ],
      "source": [
        "df['type'].value_counts()"
      ]
    },
    {
      "cell_type": "code",
      "execution_count": 51,
      "metadata": {
        "id": "rsjAE4ctCviW",
        "colab": {
          "base_uri": "https://localhost:8080/"
        },
        "outputId": "58c4b134-89d7-4fdc-b064-3a9bb43db4ac"
      },
      "outputs": [
        {
          "output_type": "execute_result",
          "data": {
            "text/plain": [
              "2.2911061285500747"
            ]
          },
          "metadata": {},
          "execution_count": 51
        }
      ],
      "source": [
        "movie_tvshow_ratio=df['type'].value_counts()[0]/df['type'].value_counts()[1]\n",
        "movie_tvshow_ratio"
      ]
    },
    {
      "cell_type": "code",
      "execution_count": 52,
      "metadata": {
        "colab": {
          "base_uri": "https://localhost:8080/",
          "height": 428
        },
        "id": "j0zouNLNCvwS",
        "outputId": "e4bb4f52-00a7-49a5-985c-d62377a907db"
      },
      "outputs": [
        {
          "output_type": "display_data",
          "data": {
            "text/plain": [
              "<Figure size 640x480 with 1 Axes>"
            ],
            "image/png": "[encoded data removed]"
          },
          "metadata": {}
        }
      ],
      "source": [
        "plt.pie(df['type'].value_counts(),labels=['Movies','Tv-shows'],\n",
        "        colors=[red,\"k\"],autopct='%.0f%%',explode=(0.05,0.05),pctdistance=1.1,labeldistance=1.25)\n",
        "\n",
        "plt.title('Movie & Tv-shows Distribution', fontsize=12)\n",
        "plt.show()"
      ]
    },
    {
      "cell_type": "markdown",
      "metadata": {
        "id": "s0WsSIlNWFfL"
      },
      "source": [
        "3. Visualize the Distribution of ratings on OTT?"
      ]
    },
    {
      "cell_type": "code",
      "execution_count": 53,
      "metadata": {
        "colab": {
          "base_uri": "https://localhost:8080/",
          "height": 607
        },
        "id": "83e--GB_WOJd",
        "outputId": "95cb0821-a167-4059-ceb2-8b3ad9e76e38"
      },
      "outputs": [
        {
          "output_type": "display_data",
          "data": {
            "text/plain": [
              "<Figure size 1000x600 with 1 Axes>"
            ],
            "image/png": "[encoded data removed]"
          },
          "metadata": {}
        }
      ],
      "source": [
        "plt.figure(figsize=(10,6))\n",
        "\n",
        "x=sns.countplot(data=df,x='rating',order=df['rating'].value_counts().index,palette=[red,red,'black','black','black','black','black','black','black','black','black','black','black','black',])\n",
        "plt.xticks(rotation=90)\n",
        "plt.bar_label(x.containers[0])\n",
        "plt.title('Rating Distribution by Movies & TV-shows')\n",
        "plt.text(x=2,y=3000,s=\"INSIGHT: Most of the content is serving Mature audience, typically 14 year and above \",color=\"blue\")\n",
        "\n",
        "plt.tight_layout()\n",
        "plt.show()"
      ]
    },
    {
      "cell_type": "markdown",
      "metadata": {
        "id": "D6va3vKPfH-d"
      },
      "source": [
        "Insights:\n",
        "1. we have data available from january 2008 to september 2021\n",
        "2. The ratio of movies to tv_show is 7:3\n",
        "3. Most of the content is tailored for mature audience typically 14 year and above."
      ]
    },
    {
      "cell_type": "markdown",
      "metadata": {
        "id": "HVji2IBl-zXQ"
      },
      "source": [
        "**4. Visulaize uploading pattern**\n",
        "\n",
        "\n"
      ]
    },
    {
      "cell_type": "code",
      "execution_count": 54,
      "metadata": {
        "colab": {
          "base_uri": "https://localhost:8080/",
          "height": 431
        },
        "id": "faIc6X8LBgJo",
        "outputId": "1c64de8e-5423-4d6c-823c-6988a4380dd2"
      },
      "outputs": [
        {
          "output_type": "display_data",
          "data": {
            "text/plain": [
              "<Figure size 1000x400 with 1 Axes>"
            ],
            "image/png": "[encoded data removed]"
          },
          "metadata": {}
        }
      ],
      "source": [
        "plt.figure(figsize=(10,4))\n",
        "\n",
        "\n",
        "x=sns.countplot(data=df,x=df['date_added'].dt.year,palette=[red,\"black\"],hue='type')\n",
        "plt.xticks(rotation=90)\n",
        "plt.xlabel('Year of uploading')\n",
        "plt.ylabel('Number of uploads')\n",
        "plt.bar_label(x.containers[0],fontsize=8)\n",
        "plt.bar_label(x.containers[1],fontsize=8)\n",
        "plt.title('year wise uploading')\n",
        "\n",
        "plt.show()"
      ]
    },
    {
      "cell_type": "markdown",
      "metadata": {
        "id": "CV7Rb1m7EpB_"
      },
      "source": [
        "**5. How content has been added over the years**"
      ]
    },
    {
      "cell_type": "code",
      "execution_count": 55,
      "metadata": {
        "id": "oRmpEohvt92R"
      },
      "outputs": [],
      "source": [
        "df['month_of_upload']=df['date_added'].dt.month\n",
        "df['year_of_upload']=df['date_added'].dt.year"
      ]
    },
    {
      "cell_type": "code",
      "source": [
        "from datetime import datetime as dt\n",
        "df['month_year']=df['date_added'].dt.strftime(\"%Y-%m\")"
      ],
      "metadata": {
        "id": "R4Q-ErH9PwQH"
      },
      "execution_count": 56,
      "outputs": []
    },
    {
      "cell_type": "code",
      "source": [
        "plt.figure(figsize=(12,4))\n",
        "upload_per_year=df.groupby(by=[\"year_of_upload\"])['type'].count()\n",
        "\n",
        "\n",
        "y=sns.lineplot(y=upload_per_year.values,x=upload_per_year.index,color='red')\n",
        "plt.xticks(rotation=90)\n",
        "plt.title('Year on Year uploads')\n",
        "plt.xlabel('Year')\n",
        "plt.ylabel('Numer of uploads')\n",
        "plt.annotate('Global peak in 2019',xy=(2019,2000))\n",
        "plt.annotate('INSIGHT:',xy=(2008,2000),color='blue')\n",
        "plt.annotate('We observe a slow start till 2015.',xy=(2009,1850))\n",
        "plt.annotate('Rapid increase from 2016 onwards',xy=(2009,1750))\n",
        "plt.annotate('There is downfall in curve near 2020, possibly due to COVID',xy=(2009,1600))\n",
        "\n",
        "plt.show()"
      ],
      "metadata": {
        "colab": {
          "base_uri": "https://localhost:8080/",
          "height": 431
        },
        "id": "FGe57ZLhWAYT",
        "outputId": "eb6fa80d-ac65-489c-8f0c-aef2b65f4405"
      },
      "execution_count": 57,
      "outputs": [
        {
          "output_type": "display_data",
          "data": {
            "text/plain": [
              "<Figure size 1200x400 with 1 Axes>"
            ],
            "image/png": "[encoded data removed]"
          },
          "metadata": {}
        }
      ]
    },
    {
      "cell_type": "code",
      "execution_count": 58,
      "metadata": {
        "colab": {
          "base_uri": "https://localhost:8080/",
          "height": 419
        },
        "id": "LMFkl8eHvsa6",
        "outputId": "e1876215-b247-43d4-8cf2-117d215adeef"
      },
      "outputs": [
        {
          "output_type": "display_data",
          "data": {
            "text/plain": [
              "<Figure size 1600x400 with 1 Axes>"
            ],
            "image/png": "[encoded data removed]"
          },
          "metadata": {}
        }
      ],
      "source": [
        "plt.figure(figsize=(16,4))\n",
        "\n",
        "upload_per_month=df.groupby(by=['month_year'])['type'].count()\n",
        "x=sns.lineplot(y=upload_per_month.values,x=upload_per_month.index,color='red')\n",
        "plt.xticks(rotation=90)\n",
        "plt.xlim(left=12)\n",
        "plt.title('Month on month uploads')\n",
        "plt.xticks(fontsize=7)\n",
        "plt.xlabel('Timeline')\n",
        "\n",
        "#Annotations\n",
        "plt.annotate('Insight:',xy=(15,220))\n",
        "plt.annotate('There is continous rise in uploads per month',xy=(19,208),color='blue')\n",
        "\n",
        "plt.show()"
      ]
    },
    {
      "cell_type": "code",
      "source": [
        "df.rename(columns={'listed_in':'genre'},inplace=True)"
      ],
      "metadata": {
        "id": "ZrJvYxBnkPAW"
      },
      "execution_count": 59,
      "outputs": []
    },
    {
      "cell_type": "code",
      "source": [
        "df4=df[['country','genre']].copy()\n",
        "df4['genre']=df4['genre'].str.split(\", \")\n",
        "df4=df4.explode('genre')\n",
        "df4.head()"
      ],
      "metadata": {
        "colab": {
          "base_uri": "https://localhost:8080/",
          "height": 206
        },
        "id": "MuD5nBH4j91I",
        "outputId": "c70ebc5d-88a9-46f8-e82b-06c3d26686fc"
      },
      "execution_count": 60,
      "outputs": [
        {
          "output_type": "execute_result",
          "data": {
            "text/plain": [
              "         country                   genre\n",
              "0  United States           Documentaries\n",
              "1   South Africa  International TV Shows\n",
              "1   South Africa               TV Dramas\n",
              "1   South Africa            TV Mysteries\n",
              "2         France          Crime TV Shows"
            ],
            "text/html": [
              "\n",
              "  <div id=\"df-1bebcd18-dbd8-4fcc-9f27-cd660c21088b\" class=\"colab-df-container\">\n",
              "    <div>\n",
              "<style scoped>\n",
              "    .dataframe tbody tr th:only-of-type {\n",
              "        vertical-align: middle;\n",
              "    }\n",
              "\n",
              "    .dataframe tbody tr th {\n",
              "        vertical-align: top;\n",
              "    }\n",
              "\n",
              "    .dataframe thead th {\n",
              "        text-align: right;\n",
              "    }\n",
              "</style>\n",
              "<table border=\"1\" class=\"dataframe\">\n",
              "  <thead>\n",
              "    <tr style=\"text-align: right;\">\n",
              "      <th></th>\n",
              "      <th>country</th>\n",
              "      <th>genre</th>\n",
              "    </tr>\n",
              "  </thead>\n",
              "  <tbody>\n",
              "    <tr>\n",
              "      <th>0</th>\n",
              "      <td>United States</td>\n",
              "      <td>Documentaries</td>\n",
              "    </tr>\n",
              "    <tr>\n",
              "      <th>1</th>\n",
              "      <td>South Africa</td>\n",
              "      <td>International TV Shows</td>\n",
              "    </tr>\n",
              "    <tr>\n",
              "      <th>1</th>\n",
              "      <td>South Africa</td>\n",
              "      <td>TV Dramas</td>\n",
              "    </tr>\n",
              "    <tr>\n",
              "      <th>1</th>\n",
              "      <td>South Africa</td>\n",
              "      <td>TV Mysteries</td>\n",
              "    </tr>\n",
              "    <tr>\n",
              "      <th>2</th>\n",
              "      <td>France</td>\n",
              "      <td>Crime TV Shows</td>\n",
              "    </tr>\n",
              "  </tbody>\n",
              "</table>\n",
              "</div>\n",
              "    <div class=\"colab-df-buttons\">\n",
              "\n",
              "  <div class=\"colab-df-container\">\n",
              "    <button class=\"colab-df-convert\" onclick=\"convertToInteractive('df-1bebcd18-dbd8-4fcc-9f27-cd660c21088b')\"\n",
              "            title=\"Convert this dataframe to an interactive table.\"\n",
              "            style=\"display:none;\">\n",
              "\n",
              "  <svg xmlns=\"http://www.w3.org/2000/svg\" height=\"24px\" viewBox=\"0 -960 960 960\">\n",
              "    <path d=\"M120-120v-720h720v720H120Zm60-500h600v-160H180v160Zm220 220h160v-160H400v160Zm0 220h160v-160H400v160ZM180-400h160v-160H180v160Zm440 0h160v-160H620v160ZM180-180h160v-160H180v160Zm440 0h160v-160H620v160Z\"/>\n",
              "  </svg>\n",
              "    </button>\n",
              "\n",
              "  <style>\n",
              "    .colab-df-container {\n",
              "      display:flex;\n",
              "      gap: 12px;\n",
              "    }\n",
              "\n",
              "    .colab-df-convert {\n",
              "      background-color: #E8F0FE;\n",
              "      border: none;\n",
              "      border-radius: 50%;\n",
              "      cursor: pointer;\n",
              "      display: none;\n",
              "      fill: #1967D2;\n",
              "      height: 32px;\n",
              "      padding: 0 0 0 0;\n",
              "      width: 32px;\n",
              "    }\n",
              "\n",
              "    .colab-df-convert:hover {\n",
              "      background-color: #E2EBFA;\n",
              "      box-shadow: 0px 1px 2px rgba(60, 64, 67, 0.3), 0px 1px 3px 1px rgba(60, 64, 67, 0.15);\n",
              "      fill: #174EA6;\n",
              "    }\n",
              "\n",
              "    .colab-df-buttons div {\n",
              "      margin-bottom: 4px;\n",
              "    }\n",
              "\n",
              "    [theme=dark] .colab-df-convert {\n",
              "      background-color: #3B4455;\n",
              "      fill: #D2E3FC;\n",
              "    }\n",
              "\n",
              "    [theme=dark] .colab-df-convert:hover {\n",
              "      background-color: #434B5C;\n",
              "      box-shadow: 0px 1px 3px 1px rgba(0, 0, 0, 0.15);\n",
              "      filter: drop-shadow(0px 1px 2px rgba(0, 0, 0, 0.3));\n",
              "      fill: #FFFFFF;\n",
              "    }\n",
              "  </style>\n",
              "\n",
              "    <script>\n",
              "      const buttonEl =\n",
              "        document.querySelector('#df-1bebcd18-dbd8-4fcc-9f27-cd660c21088b button.colab-df-convert');\n",
              "      buttonEl.style.display =\n",
              "        google.colab.kernel.accessAllowed ? 'block' : 'none';\n",
              "\n",
              "      async function convertToInteractive(key) {\n",
              "        const element = document.querySelector('#df-1bebcd18-dbd8-4fcc-9f27-cd660c21088b');\n",
              "        const dataTable =\n",
              "          await google.colab.kernel.invokeFunction('convertToInteractive',\n",
              "                                                    [key], {});\n",
              "        if (!dataTable) return;\n",
              "\n",
              "        const docLinkHtml = 'Like what you see? Visit the ' +\n",
              "          '<a target=\"_blank\" href=https://colab.research.google.com/notebooks/data_table.ipynb>data table notebook</a>'\n",
              "          + ' to learn more about interactive tables.';\n",
              "        element.innerHTML = '';\n",
              "        dataTable['output_type'] = 'display_data';\n",
              "        await google.colab.output.renderOutput(dataTable, element);\n",
              "        const docLink = document.createElement('div');\n",
              "        docLink.innerHTML = docLinkHtml;\n",
              "        element.appendChild(docLink);\n",
              "      }\n",
              "    </script>\n",
              "  </div>\n",
              "\n",
              "\n",
              "<div id=\"df-6604a73d-f75b-4f51-9ae3-5f30fe9e075c\">\n",
              "  <button class=\"colab-df-quickchart\" onclick=\"quickchart('df-6604a73d-f75b-4f51-9ae3-5f30fe9e075c')\"\n",
              "            title=\"Suggest charts\"\n",
              "            style=\"display:none;\">\n",
              "\n",
              "<svg xmlns=\"http://www.w3.org/2000/svg\" height=\"24px\"viewBox=\"0 0 24 24\"\n",
              "     width=\"24px\">\n",
              "    <g>\n",
              "        <path d=\"M19 3H5c-1.1 0-2 .9-2 2v14c0 1.1.9 2 2 2h14c1.1 0 2-.9 2-2V5c0-1.1-.9-2-2-2zM9 17H7v-7h2v7zm4 0h-2V7h2v10zm4 0h-2v-4h2v4z\"/>\n",
              "    </g>\n",
              "</svg>\n",
              "  </button>\n",
              "\n",
              "<style>\n",
              "  .colab-df-quickchart {\n",
              "      --bg-color: #E8F0FE;\n",
              "      --fill-color: #1967D2;\n",
              "      --hover-bg-color: #E2EBFA;\n",
              "      --hover-fill-color: #174EA6;\n",
              "      --disabled-fill-color: #AAA;\n",
              "      --disabled-bg-color: #DDD;\n",
              "  }\n",
              "\n",
              "  [theme=dark] .colab-df-quickchart {\n",
              "      --bg-color: #3B4455;\n",
              "      --fill-color: #D2E3FC;\n",
              "      --hover-bg-color: #434B5C;\n",
              "      --hover-fill-color: #FFFFFF;\n",
              "      --disabled-bg-color: #3B4455;\n",
              "      --disabled-fill-color: #666;\n",
              "  }\n",
              "\n",
              "  .colab-df-quickchart {\n",
              "    background-color: var(--bg-color);\n",
              "    border: none;\n",
              "    border-radius: 50%;\n",
              "    cursor: pointer;\n",
              "    display: none;\n",
              "    fill: var(--fill-color);\n",
              "    height: 32px;\n",
              "    padding: 0;\n",
              "    width: 32px;\n",
              "  }\n",
              "\n",
              "  .colab-df-quickchart:hover {\n",
              "    background-color: var(--hover-bg-color);\n",
              "    box-shadow: 0 1px 2px rgba(60, 64, 67, 0.3), 0 1px 3px 1px rgba(60, 64, 67, 0.15);\n",
              "    fill: var(--button-hover-fill-color);\n",
              "  }\n",
              "\n",
              "  .colab-df-quickchart-complete:disabled,\n",
              "  .colab-df-quickchart-complete:disabled:hover {\n",
              "    background-color: var(--disabled-bg-color);\n",
              "    fill: var(--disabled-fill-color);\n",
              "    box-shadow: none;\n",
              "  }\n",
              "\n",
              "  .colab-df-spinner {\n",
              "    border: 2px solid var(--fill-color);\n",
              "    border-color: transparent;\n",
              "    border-bottom-color: var(--fill-color);\n",
              "    animation:\n",
              "      spin 1s steps(1) infinite;\n",
              "  }\n",
              "\n",
              "  @keyframes spin {\n",
              "    0% {\n",
              "      border-color: transparent;\n",
              "      border-bottom-color: var(--fill-color);\n",
              "      border-left-color: var(--fill-color);\n",
              "    }\n",
              "    20% {\n",
              "      border-color: transparent;\n",
              "      border-left-color: var(--fill-color);\n",
              "      border-top-color: var(--fill-color);\n",
              "    }\n",
              "    30% {\n",
              "      border-color: transparent;\n",
              "      border-left-color: var(--fill-color);\n",
              "      border-top-color: var(--fill-color);\n",
              "      border-right-color: var(--fill-color);\n",
              "    }\n",
              "    40% {\n",
              "      border-color: transparent;\n",
              "      border-right-color: var(--fill-color);\n",
              "      border-top-color: var(--fill-color);\n",
              "    }\n",
              "    60% {\n",
              "      border-color: transparent;\n",
              "      border-right-color: var(--fill-color);\n",
              "    }\n",
              "    80% {\n",
              "      border-color: transparent;\n",
              "      border-right-color: var(--fill-color);\n",
              "      border-bottom-color: var(--fill-color);\n",
              "    }\n",
              "    90% {\n",
              "      border-color: transparent;\n",
              "      border-bottom-color: var(--fill-color);\n",
              "    }\n",
              "  }\n",
              "</style>\n",
              "\n",
              "  <script>\n",
              "    async function quickchart(key) {\n",
              "      const quickchartButtonEl =\n",
              "        document.querySelector('#' + key + ' button');\n",
              "      quickchartButtonEl.disabled = true;  // To prevent multiple clicks.\n",
              "      quickchartButtonEl.classList.add('colab-df-spinner');\n",
              "      try {\n",
              "        const charts = await google.colab.kernel.invokeFunction(\n",
              "            'suggestCharts', [key], {});\n",
              "      } catch (error) {\n",
              "        console.error('Error during call to suggestCharts:', error);\n",
              "      }\n",
              "      quickchartButtonEl.classList.remove('colab-df-spinner');\n",
              "      quickchartButtonEl.classList.add('colab-df-quickchart-complete');\n",
              "    }\n",
              "    (() => {\n",
              "      let quickchartButtonEl =\n",
              "        document.querySelector('#df-6604a73d-f75b-4f51-9ae3-5f30fe9e075c button');\n",
              "      quickchartButtonEl.style.display =\n",
              "        google.colab.kernel.accessAllowed ? 'block' : 'none';\n",
              "    })();\n",
              "  </script>\n",
              "</div>\n",
              "\n",
              "    </div>\n",
              "  </div>\n"
            ]
          },
          "metadata": {},
          "execution_count": 60
        }
      ]
    },
    {
      "cell_type": "code",
      "source": [],
      "metadata": {
        "id": "FFu3-DEKqIMA"
      },
      "execution_count": 60,
      "outputs": []
    },
    {
      "cell_type": "code",
      "source": [],
      "metadata": {
        "id": "lWyOAqVhroZD"
      },
      "execution_count": 60,
      "outputs": []
    },
    {
      "cell_type": "markdown",
      "metadata": {
        "id": "9IRpth-IovH2"
      },
      "source": [
        "**Insights:**\n",
        "4. OTT platform got significant uploads from 2016 onwards.\n",
        "5. There is continous rise in number of uploads, although 2019 got most uploads which might be because of covid-19 breakout & lockdowns.\n",
        "6. The number of uploads per months since 2016 onwards are continously rising with peak in 2019. (note: year 2021 have data of 9 months only)\n",
        "\n",
        "---\n",
        "\n"
      ]
    },
    {
      "cell_type": "markdown",
      "metadata": {
        "id": "M8w3drDOJhI4"
      },
      "source": [
        "**6. What is the common duration of movies?**"
      ]
    },
    {
      "cell_type": "markdown",
      "metadata": {
        "id": "bAWdWu0wRPNw"
      },
      "source": [
        "Issue:\n",
        "1. First issue here is duration is not numerical--> we can remove words like min,seasons\n",
        "2. For effective visualisation, we need to create bins of duration."
      ]
    },
    {
      "cell_type": "code",
      "execution_count": 61,
      "metadata": {
        "id": "x9bOYOQUJ9KC"
      },
      "outputs": [],
      "source": [
        "df['duration']=df['duration'].str.replace(' min','')\n",
        "df['duration']=df['duration'].str.replace(' Seasons','')\n",
        "df['duration']=df['duration'].str.replace(' Season','')\n"
      ]
    },
    {
      "cell_type": "code",
      "execution_count": 62,
      "metadata": {
        "id": "FTxxhJHDJQWH"
      },
      "outputs": [],
      "source": [
        "df['duration']=df['duration'].astype('int64')  #converting the datatype to integer"
      ]
    },
    {
      "cell_type": "code",
      "execution_count": 63,
      "metadata": {
        "colab": {
          "base_uri": "https://localhost:8080/"
        },
        "id": "aMTatzgHJQZd",
        "outputId": "6025a642-954c-42c1-e530-bcc5fb25098e"
      },
      "outputs": [
        {
          "output_type": "stream",
          "name": "stdout",
          "text": [
            "maximum duration of movies:  312\n",
            "minimum duration of movies:  3\n"
          ]
        }
      ],
      "source": [
        "print('maximum duration of movies: ',df[df['type']==\"Movie\"]['duration'].max())\n",
        "print('minimum duration of movies: ',df[df['type']=='Movie']['duration'].min())"
      ]
    },
    {
      "cell_type": "code",
      "execution_count": 64,
      "metadata": {
        "colab": {
          "base_uri": "https://localhost:8080/",
          "height": 410
        },
        "id": "1a2imEoHYiol",
        "outputId": "f6ba5e5c-a74b-45f5-fc9b-5b68fdb52351"
      },
      "outputs": [
        {
          "output_type": "display_data",
          "data": {
            "text/plain": [
              "<Figure size 1200x400 with 2 Axes>"
            ],
            "image/png": "[encoded data removed]"
          },
          "metadata": {}
        }
      ],
      "source": [
        "plt.figure(figsize=(12,4))\n",
        "\n",
        "plt.subplot(1,2,1)\n",
        "bin=[0,30,60,90,120,150,180,210,360]\n",
        "x=sns.histplot(data=df[df['type']=='Movie'],x='duration',bins=bin,color=red)\n",
        "x.bar_label(x.containers[0],fontsize=8)\n",
        "plt.xticks(ticks=bin)\n",
        "plt.title('movie vs duration plot')\n",
        "\n",
        "\n",
        "plt.subplot(1,2,2)\n",
        "x=sns.countplot(data=df[df['type']=='TV Show'],x='duration',color=red)\n",
        "x.bar_label(x.containers[0],fontsize=8)\n",
        "plt.title('tvshows vs no of seasons')\n",
        "plt.show()"
      ]
    },
    {
      "cell_type": "markdown",
      "metadata": {
        "id": "ycbB7uFvDZiB"
      },
      "source": [
        "**7. Identify the countries with most content?**"
      ]
    },
    {
      "cell_type": "code",
      "execution_count": 65,
      "metadata": {
        "id": "yDfVHRV_XZJQ"
      },
      "outputs": [],
      "source": [
        "top_countries=df1['country'].value_counts()[:5].index        #top 5 countries with most content/business"
      ]
    },
    {
      "cell_type": "code",
      "source": [
        "sns.barplot(x=df1['country'].value_counts().index[:10],y=df1['country'].value_counts().values[:10],palette=[red,red,red,red,red,'k','k','k','k','k'])\n",
        "plt.xticks(rotation=90)\n",
        "plt.ylabel('Number of Movies/Tv-shows')\n",
        "plt.xlabel('Countries')\n",
        "plt.title('Top 10 Countries on OTT')\n",
        "plt.show()"
      ],
      "metadata": {
        "colab": {
          "base_uri": "https://localhost:8080/",
          "height": 569
        },
        "id": "l64os1pGJMT6",
        "outputId": "9feaca06-30b7-4c8a-e3cb-85bb87fe4920"
      },
      "execution_count": 66,
      "outputs": [
        {
          "output_type": "display_data",
          "data": {
            "text/plain": [
              "<Figure size 640x480 with 1 Axes>"
            ],
            "image/png": "[encoded data removed]"
          },
          "metadata": {}
        }
      ]
    },
    {
      "cell_type": "markdown",
      "metadata": {
        "id": "Z_5STS8B6FDI"
      },
      "source": [
        "**8. What are the Most frequent genre ?**\n"
      ]
    },
    {
      "cell_type": "code",
      "execution_count": 67,
      "metadata": {
        "id": "6xITq6jU6Cpf"
      },
      "outputs": [],
      "source": [
        "genres=df['genre'].copy()\n",
        "genres=genres.str.split(\", \")    #we have to unnest the series and explode.\n",
        "genres=genres.explode()"
      ]
    },
    {
      "cell_type": "code",
      "execution_count": 68,
      "metadata": {
        "colab": {
          "base_uri": "https://localhost:8080/"
        },
        "id": "Cgpbxj-E7yRC",
        "outputId": "da0dd2d4-e984-4081-c51f-e67275340f49"
      },
      "outputs": [
        {
          "output_type": "execute_result",
          "data": {
            "text/plain": [
              "42"
            ]
          },
          "metadata": {},
          "execution_count": 68
        }
      ],
      "source": [
        "genres.nunique()"
      ]
    },
    {
      "cell_type": "code",
      "execution_count": 69,
      "metadata": {
        "colab": {
          "base_uri": "https://localhost:8080/"
        },
        "id": "oEHAkCBL7yT6",
        "outputId": "68138103-8599-4980-c6ad-017958afcce1"
      },
      "outputs": [
        {
          "output_type": "execute_result",
          "data": {
            "text/plain": [
              "International Movies        2752\n",
              "Dramas                      2427\n",
              "Comedies                    1674\n",
              "International TV Shows      1351\n",
              "Documentaries                869\n",
              "Action & Adventure           859\n",
              "TV Dramas                    763\n",
              "Independent Movies           756\n",
              "Children & Family Movies     641\n",
              "Romantic Movies              616\n",
              "Name: genre, dtype: int64"
            ]
          },
          "metadata": {},
          "execution_count": 69
        }
      ],
      "source": [
        "genres.value_counts()[:10]   ##top 10 genres"
      ]
    },
    {
      "cell_type": "code",
      "execution_count": 70,
      "metadata": {
        "colab": {
          "base_uri": "https://localhost:8080/"
        },
        "id": "JyOSCG387yXi",
        "outputId": "7f1605e4-b122-4b39-bde4-b562bcb0fb91"
      },
      "outputs": [
        {
          "output_type": "execute_result",
          "data": {
            "text/plain": [
              "TV Horror                       75\n",
              "Anime Features                  71\n",
              "Cult Movies                     71\n",
              "Teen TV Shows                   69\n",
              "Faith & Spirituality            65\n",
              "TV Thrillers                    57\n",
              "Movies                          57\n",
              "Stand-Up Comedy & Talk Shows    56\n",
              "Classic & Cult TV               28\n",
              "Name: genre, dtype: int64"
            ]
          },
          "metadata": {},
          "execution_count": 70
        }
      ],
      "source": [
        "genres.value_counts()[-10:-1]    #bottom 10 genres"
      ]
    },
    {
      "cell_type": "code",
      "source": [
        "plt.figure(figsize=(12,4))\n",
        "\n",
        "list_color=[]  #creating a list for colors\n",
        "for i in range(42):\n",
        "  if i<4:\n",
        "    list_color.append(red)\n",
        "  else:\n",
        "    list_color.append('black')\n",
        "\n",
        "#plot\n",
        "x=sns.countplot(data=df4,x='genre',order=df4['genre'].value_counts().index,palette=list_color)\n",
        "plt.xticks(rotation=90,fontsize=8)\n",
        "plt.title('Distribution of genre')\n",
        "plt.show()"
      ],
      "metadata": {
        "colab": {
          "base_uri": "https://localhost:8080/",
          "height": 574
        },
        "id": "Kol6QPUBNbmx",
        "outputId": "dd05c042-378a-4dcf-898c-10d2164b2634"
      },
      "execution_count": 71,
      "outputs": [
        {
          "output_type": "display_data",
          "data": {
            "text/plain": [
              "<Figure size 1200x400 with 1 Axes>"
            ],
            "image/png": "[encoded data removed]"
          },
          "metadata": {}
        }
      ]
    },
    {
      "cell_type": "markdown",
      "source": [
        "# C.2 Rising Choice of Genre"
      ],
      "metadata": {
        "id": "6LZW7tTVjN5a"
      }
    },
    {
      "cell_type": "code",
      "source": [
        "df5=df[['country','genre','year_of_upload']].copy()\n",
        "df5['country']=df5['country'].str.split(\", \")\n",
        "df5['genre']=df['genre'].str.split(\", \")\n",
        "df5=df5.explode('country')\n",
        "df5=df5.explode('genre')\n",
        "shift_analysis=df5.groupby(['genre','year_of_upload']).count().reset_index()\n",
        "shift_analysis.rename(columns={'country':'uploads'},inplace=True)\n",
        "shift_analysis['lagged1']=shift_analysis.groupby('genre')['uploads'].shift(1)\n",
        "shift_analysis['lagged2']=shift_analysis.groupby('genre')['uploads'].shift(2)\n",
        "shift_analysis['lagged3']=shift_analysis.groupby('genre')['uploads'].shift(3)\n",
        "\n",
        "#genre preference which is rising continously since last 3 consecutive years\n",
        "shift_analysis[(shift_analysis['year_of_upload']==2021) & ((shift_analysis['uploads']>shift_analysis['lagged1']) &\n",
        " ((shift_analysis['lagged1']>shift_analysis['lagged2']) & (shift_analysis['lagged2']>shift_analysis['lagged3'])))]"
      ],
      "metadata": {
        "colab": {
          "base_uri": "https://localhost:8080/",
          "height": 81
        },
        "id": "vnPQ0At5K3zt",
        "outputId": "d227a6ca-c5be-4ba2-f7b2-b3e4465c1214"
      },
      "execution_count": 72,
      "outputs": [
        {
          "output_type": "execute_result",
          "data": {
            "text/plain": [
              "             genre  year_of_upload  uploads  lagged1  lagged2  lagged3\n",
              "13  Anime Features            2021       24     17.0     14.0      8.0"
            ],
            "text/html": [
              "\n",
              "  <div id=\"df-ed2b8dd1-ccc8-471b-a429-ddba6f8877f7\" class=\"colab-df-container\">\n",
              "    <div>\n",
              "<style scoped>\n",
              "    .dataframe tbody tr th:only-of-type {\n",
              "        vertical-align: middle;\n",
              "    }\n",
              "\n",
              "    .dataframe tbody tr th {\n",
              "        vertical-align: top;\n",
              "    }\n",
              "\n",
              "    .dataframe thead th {\n",
              "        text-align: right;\n",
              "    }\n",
              "</style>\n",
              "<table border=\"1\" class=\"dataframe\">\n",
              "  <thead>\n",
              "    <tr style=\"text-align: right;\">\n",
              "      <th></th>\n",
              "      <th>genre</th>\n",
              "      <th>year_of_upload</th>\n",
              "      <th>uploads</th>\n",
              "      <th>lagged1</th>\n",
              "      <th>lagged2</th>\n",
              "      <th>lagged3</th>\n",
              "    </tr>\n",
              "  </thead>\n",
              "  <tbody>\n",
              "    <tr>\n",
              "      <th>13</th>\n",
              "      <td>Anime Features</td>\n",
              "      <td>2021</td>\n",
              "      <td>24</td>\n",
              "      <td>17.0</td>\n",
              "      <td>14.0</td>\n",
              "      <td>8.0</td>\n",
              "    </tr>\n",
              "  </tbody>\n",
              "</table>\n",
              "</div>\n",
              "    <div class=\"colab-df-buttons\">\n",
              "\n",
              "  <div class=\"colab-df-container\">\n",
              "    <button class=\"colab-df-convert\" onclick=\"convertToInteractive('df-ed2b8dd1-ccc8-471b-a429-ddba6f8877f7')\"\n",
              "            title=\"Convert this dataframe to an interactive table.\"\n",
              "            style=\"display:none;\">\n",
              "\n",
              "  <svg xmlns=\"http://www.w3.org/2000/svg\" height=\"24px\" viewBox=\"0 -960 960 960\">\n",
              "    <path d=\"M120-120v-720h720v720H120Zm60-500h600v-160H180v160Zm220 220h160v-160H400v160Zm0 220h160v-160H400v160ZM180-400h160v-160H180v160Zm440 0h160v-160H620v160ZM180-180h160v-160H180v160Zm440 0h160v-160H620v160Z\"/>\n",
              "  </svg>\n",
              "    </button>\n",
              "\n",
              "  <style>\n",
              "    .colab-df-container {\n",
              "      display:flex;\n",
              "      gap: 12px;\n",
              "    }\n",
              "\n",
              "    .colab-df-convert {\n",
              "      background-color: #E8F0FE;\n",
              "      border: none;\n",
              "      border-radius: 50%;\n",
              "      cursor: pointer;\n",
              "      display: none;\n",
              "      fill: #1967D2;\n",
              "      height: 32px;\n",
              "      padding: 0 0 0 0;\n",
              "      width: 32px;\n",
              "    }\n",
              "\n",
              "    .colab-df-convert:hover {\n",
              "      background-color: #E2EBFA;\n",
              "      box-shadow: 0px 1px 2px rgba(60, 64, 67, 0.3), 0px 1px 3px 1px rgba(60, 64, 67, 0.15);\n",
              "      fill: #174EA6;\n",
              "    }\n",
              "\n",
              "    .colab-df-buttons div {\n",
              "      margin-bottom: 4px;\n",
              "    }\n",
              "\n",
              "    [theme=dark] .colab-df-convert {\n",
              "      background-color: #3B4455;\n",
              "      fill: #D2E3FC;\n",
              "    }\n",
              "\n",
              "    [theme=dark] .colab-df-convert:hover {\n",
              "      background-color: #434B5C;\n",
              "      box-shadow: 0px 1px 3px 1px rgba(0, 0, 0, 0.15);\n",
              "      filter: drop-shadow(0px 1px 2px rgba(0, 0, 0, 0.3));\n",
              "      fill: #FFFFFF;\n",
              "    }\n",
              "  </style>\n",
              "\n",
              "    <script>\n",
              "      const buttonEl =\n",
              "        document.querySelector('#df-ed2b8dd1-ccc8-471b-a429-ddba6f8877f7 button.colab-df-convert');\n",
              "      buttonEl.style.display =\n",
              "        google.colab.kernel.accessAllowed ? 'block' : 'none';\n",
              "\n",
              "      async function convertToInteractive(key) {\n",
              "        const element = document.querySelector('#df-ed2b8dd1-ccc8-471b-a429-ddba6f8877f7');\n",
              "        const dataTable =\n",
              "          await google.colab.kernel.invokeFunction('convertToInteractive',\n",
              "                                                    [key], {});\n",
              "        if (!dataTable) return;\n",
              "\n",
              "        const docLinkHtml = 'Like what you see? Visit the ' +\n",
              "          '<a target=\"_blank\" href=https://colab.research.google.com/notebooks/data_table.ipynb>data table notebook</a>'\n",
              "          + ' to learn more about interactive tables.';\n",
              "        element.innerHTML = '';\n",
              "        dataTable['output_type'] = 'display_data';\n",
              "        await google.colab.output.renderOutput(dataTable, element);\n",
              "        const docLink = document.createElement('div');\n",
              "        docLink.innerHTML = docLinkHtml;\n",
              "        element.appendChild(docLink);\n",
              "      }\n",
              "    </script>\n",
              "  </div>\n",
              "\n",
              "\n",
              "    </div>\n",
              "  </div>\n"
            ]
          },
          "metadata": {},
          "execution_count": 72
        }
      ]
    },
    {
      "cell_type": "markdown",
      "metadata": {
        "id": "rZzaL8od1_da"
      },
      "source": [
        "Insights:\n",
        "7. Generally movies with duration 90-120 were preffered.\n",
        "8. Tv-shows with many seasons were not preffered hence tv-shows should not have more than 3-4 seasons.\n",
        "9. It can be observed that United States is the most important country followed by India, United kingdom, Canada, France\n",
        "10. genres such as Classic & cult tv,stand-up comedy were least preffered at the plateform. although it may be noted that stand-up comedy is the recently appeared genre.\n",
        "11. Genres like International movies/tv-show, Drama, comedy, action & Adventure and Documentries were most preffered.\n",
        "\n",
        "\n",
        "---\n",
        "\n"
      ]
    },
    {
      "cell_type": "markdown",
      "source": [
        "# C.3 Exploring top Countries for New content creation"
      ],
      "metadata": {
        "id": "YTtiTPMbmhHQ"
      }
    },
    {
      "cell_type": "markdown",
      "metadata": {
        "id": "244dnlReyyL2"
      },
      "source": [
        "**9. Who are the top directors in top 5 countries.**\n",
        "\n",
        "\n",
        "lets explore the OTT plateform country wise. we will limit our exploration to top 5 countries (in terms of Business)"
      ]
    },
    {
      "cell_type": "code",
      "execution_count": 73,
      "metadata": {
        "colab": {
          "base_uri": "https://localhost:8080/",
          "height": 530
        },
        "id": "lUAjckINY_cO",
        "outputId": "aaa96178-9d7f-4a74-fcd4-4075f4b7591b"
      },
      "outputs": [
        {
          "output_type": "display_data",
          "data": {
            "text/plain": [
              "<Figure size 2000x400 with 5 Axes>"
            ],
            "image/png": "[encoded data removed]"
          },
          "metadata": {}
        }
      ],
      "source": [
        "plt.figure(figsize=(20,4))\n",
        "j=0\n",
        "for i in top_countries:\n",
        "  j=j+1\n",
        "  top_5_directors=df[df['country'].str.contains(i)]['director'].value_counts()[1:6]  #at 0 index, we have unknown director, hence ignoring it\n",
        "  plt.subplot(1,5,j)\n",
        "  sns.barplot(x=top_5_directors.index,y=top_5_directors.values,color=red)\n",
        "  plt.xticks(rotation=90)\n",
        "  plt.title(i)\n",
        "\n",
        "plt.show()"
      ]
    },
    {
      "cell_type": "code",
      "source": [
        "top_5_directors"
      ],
      "metadata": {
        "colab": {
          "base_uri": "https://localhost:8080/"
        },
        "id": "JJ2__6sH6spL",
        "outputId": "6cf9221a-bb19-4430-8c00-aaca50173aa5"
      },
      "execution_count": 74,
      "outputs": [
        {
          "output_type": "execute_result",
          "data": {
            "text/plain": [
              "Thierry Donard     5\n",
              "Youssef Chahine    4\n",
              "Julien Leclercq    3\n",
              "Olivier Assayas    3\n",
              "Jane Campion       3\n",
              "Name: director, dtype: int64"
            ]
          },
          "metadata": {},
          "execution_count": 74
        }
      ]
    },
    {
      "cell_type": "markdown",
      "metadata": {
        "id": "zu9HOzDbfQMM"
      },
      "source": [
        "**10. Who are the top 5 actors in top 5 business countries.**"
      ]
    },
    {
      "cell_type": "code",
      "execution_count": 75,
      "metadata": {
        "colab": {
          "base_uri": "https://localhost:8080/",
          "height": 408
        },
        "id": "W479p4szY_mb",
        "outputId": "46db9ccf-8000-4293-8ed1-dbaf04f378d6"
      },
      "outputs": [
        {
          "output_type": "display_data",
          "data": {
            "text/plain": [
              "<Figure size 2000x400 with 5 Axes>"
            ],
            "image/png": "[encoded data removed]"
          },
          "metadata": {}
        }
      ],
      "source": [
        "plt.figure(figsize=(20,4))\n",
        "j=0\n",
        "for i in top_countries:\n",
        "  j=j+1\n",
        "  top_5_cast=df3[df3['country'].str.contains(i)]['cast'].value_counts()[:5]\n",
        "\n",
        "  plt.subplot(1,5,j)\n",
        "  sns.barplot(x=top_5_cast.index,y=top_5_cast.values,color=red)\n",
        "  plt.xticks(rotation=90)\n",
        "  plt.title(i)\n",
        "\n",
        "\n",
        "plt.show()"
      ]
    },
    {
      "cell_type": "markdown",
      "metadata": {
        "id": "RIpLY0eX2Tsw"
      },
      "source": [
        "**11. what are top 3 genres in the top 5 countries?**"
      ]
    },
    {
      "cell_type": "code",
      "source": [
        "plt.figure(figsize=(20,4))\n",
        "j=0\n",
        "for i in top_countries:\n",
        "  j=j+1\n",
        "  top_3_genre=df4[df4['country'].str.contains(i)]['genre'].value_counts()[:3]\n",
        "\n",
        "  plt.subplot(1,5,j)\n",
        "  sns.barplot(x=top_3_genre.index, y=top_3_genre.values,color=red)\n",
        "  plt.xticks(rotation=90)\n",
        "  plt.title(i)\n",
        "\n",
        "\n",
        "plt.show()\n",
        "\n"
      ],
      "metadata": {
        "colab": {
          "base_uri": "https://localhost:8080/",
          "height": 429
        },
        "id": "u_vcRc6Dm3IZ",
        "outputId": "57aeca70-5569-4127-b55a-a1678df775e6"
      },
      "execution_count": 76,
      "outputs": [
        {
          "output_type": "display_data",
          "data": {
            "text/plain": [
              "<Figure size 2000x400 with 5 Axes>"
            ],
            "image/png": "[encoded data removed]"
          },
          "metadata": {}
        }
      ]
    },
    {
      "cell_type": "code",
      "source": [],
      "metadata": {
        "id": "dNEM4QsxW-oG"
      },
      "execution_count": 76,
      "outputs": []
    },
    {
      "cell_type": "markdown",
      "source": [
        "Insights:\n",
        "\n",
        "12. Top 5 Directors in United States are\n",
        "                                  1. 'Marcus Raboy'\n",
        "                                  2. 'Jay Karas'\n",
        "                                  3. 'Martin Scorsese'\n",
        "                                  4. 'Jay Chapman'\n",
        "                                  5. 'Steven Spielberg'\n",
        "13. Top 5 cast in United States are\n",
        "                                  1. Samuel L. Jackson\n",
        "                                  2. Tara Strong\n",
        "                                  3. Fred Tatasciore\n",
        "                                  4. Adam Sandler\n",
        "                                  5. James Franco  \n",
        "14. Top 3 Genres in United States Index 'Dramas', 'Comedies', 'Documentaries'\n",
        "15. Top 5 Directors in India are\n",
        "                                1. 'Rajiv Chilaka'  \n",
        "                                2. 'Suhas Kadav'\n",
        "                                3. 'David Dhawan'\n",
        "                                4. 'Ram Gopal Varma'\n",
        "                                5. 'S.S. Rajamouli'\n",
        "16. Top 5 cast in India are\n",
        "                              1. Anupam Kher\n",
        "                              2. Shah Rukh Khan\n",
        "                              3. Naseeruddin Shah\n",
        "                              4. Akshay Kumar\n",
        "                              5. Om Puri\n",
        "17. top Genre in India are 'International Movies', 'Dramas', 'Comedies'\n",
        "18. Top 5 Directors in United Kingdom are\n",
        "                                      1. 'Joey So'\n",
        "                                      2. 'Edward Cotterill'\n",
        "                                      3. 'Chris Howe'\n",
        "                                      4. 'Blair Simmons'\n",
        "                                      5. 'Orlando von Einsiedel'\n",
        "19. Top 5 cast in United Kingdom are\n",
        "                                  1. David Attenborough\n",
        "                                  2. John Cleese\n",
        "                                  3. Michael Palin\n",
        "                                  4. Eric Idle\n",
        "                                  5. Terry Jones\n",
        "20. Top genre in United Kingdom are'British TV Shows', 'Dramas','International Movies'\n",
        "\n",
        "21. Top 5 Directors in Canada are\n",
        "                                1. 'Justin G. Dyck'\n",
        "                                2. 'Robert Vince'\n",
        "                                3. 'Mike Clattenburg'\n",
        "                                4. 'Barry Avrich'\n",
        "                                5. 'Mike Smith\n",
        "22. Top 5 cast in Canada are\n",
        "                            1. Robb Wells\n",
        "                            2. Vincent Tong\n",
        "                            3. John Paul Tremblay\n",
        "                            4. Andrea Libman\n",
        "                            5. John Dunsworth\n",
        "23. Top Genre in Canada are 'Comedies', 'Children & Family Movies', 'Dramas'\n",
        "24. Top 5 Directors in France\n",
        "                            1. 'Thierry Donard'\n",
        "                            2. 'Youssef Chahine'\n",
        "                            3. 'Julien Leclercq'\n",
        "                            4. 'Olivier Assayas'\n",
        "                            5. 'Jane Campion'  \n",
        "25. Top 5 cast in France are\n",
        "                          1. Wille Lindberg\n",
        "                          2. Benoît Magimel\n",
        "                          3. Blanche Gardin\n",
        "                          4. Kristin Scott Thomas\n",
        "                          5. Jesse Richman\n",
        "26. Top Genre in France are 'International Movies', 'Dramas', 'Independent Movies'\n",
        "\n",
        "27. It may be noted that American continent countries Like US, Canada do not consume International content unlike other non american countries.\n"
      ],
      "metadata": {
        "id": "MciD_0xvo3bo"
      }
    },
    {
      "cell_type": "code",
      "source": [],
      "metadata": {
        "id": "ahkvSnLuWjO-"
      },
      "execution_count": 76,
      "outputs": []
    },
    {
      "cell_type": "markdown",
      "metadata": {
        "id": "CX273xrcfqXE"
      },
      "source": [
        "**12. Visulaize upload per month trend in these top countries**"
      ]
    },
    {
      "cell_type": "code",
      "source": [
        "plt.figure(figsize=(18,4))\n",
        "j=0\n",
        "for i in top_countries:\n",
        "  j=j+1\n",
        "  plt.subplot(1,5,j)\n",
        "  sns.lineplot(data=df[df['country']==i].groupby(by=[\"year_of_upload\",\"month_of_upload\"])['title'].count().reset_index(),\n",
        "               x='year_of_upload',y='title',color=red,errorbar=None)\n",
        "  plt.title(i)\n",
        "  plt.ylabel('no_of_uploads_in_month')\n",
        "\n",
        "plt.show()\n"
      ],
      "metadata": {
        "id": "1EQq2fs81mJi",
        "colab": {
          "base_uri": "https://localhost:8080/",
          "height": 350
        },
        "outputId": "7204da0c-975e-4a1c-88a6-134de099253b"
      },
      "execution_count": 79,
      "outputs": [
        {
          "output_type": "display_data",
          "data": {
            "text/plain": [
              "<Figure size 1800x400 with 5 Axes>"
            ],
            "image/png": "[encoded data removed]"
          },
          "metadata": {}
        }
      ]
    },
    {
      "cell_type": "markdown",
      "source": [
        "Insights\n",
        "28. Number of uploads are significantly very high in US and India as compared to any other country.\n",
        "29. Number of uploads are steadly increasing in United States.\n",
        "30. In India, number of uploads made peak in 2018 and then almost halved.\n",
        "31. In United Kingdom, number of uploads made 2 peaks in 2017 & 2019\n",
        "32. In Canada, number of uploads made 2 peaks\n",
        "33. In France, number of uploads made 2 peaks"
      ],
      "metadata": {
        "id": "2XsWm3wPiNFH"
      }
    },
    {
      "cell_type": "code",
      "source": [],
      "metadata": {
        "id": "Cs5A6S6t1m_R"
      },
      "execution_count": 77,
      "outputs": []
    },
    {
      "cell_type": "markdown",
      "source": [
        "# D. List of Insights"
      ],
      "metadata": {
        "id": "JdrX6H7384xL"
      }
    },
    {
      "cell_type": "code",
      "source": [],
      "metadata": {
        "id": "4PiehVHz_Y4N"
      },
      "execution_count": null,
      "outputs": []
    },
    {
      "cell_type": "markdown",
      "source": [
        "**D.1 Insights:**\n",
        "\n",
        "---\n",
        "\n",
        "1. The dataset spans from January 2008 to September 2021.\n",
        "2. The content ratio between movies and TV shows is 7:3.\n",
        "3. Common content ratings on the OTT platform include TV-MA and TV-14.\n",
        "4. Significant uploads on the OTT platform started gaining momentum from 2016 onwards.\n",
        "5. There is a continuous increase in uploads, notably peaking in 2019, possibly influenced by the COVID-19 breakout and lockdowns.\n",
        "6. Monthly uploads have been consistently rising since 2016, reaching a peak in 2019 (note: data for 2021 covers only 9 months).\n",
        "7. Preference is given to movies with a duration of 90-120 minutes.\n",
        "8. TV shows with numerous seasons are less favored, with a suggested limit of 3-4 seasons.\n",
        "9. The most crucial countries for content consumption are the United States, followed by India, the United Kingdom, Canada, and France.\n",
        "10. Less preferred genres on the platform include Classic & Cult TV and Stand-up Comedy, the latter being a relatively recent addition.\n",
        "11. Most preferred genres encompass International Movies/TV shows, Drama, Comedy, Action & Adventure, and Documentaries.\n",
        "12. Top 5 Directors in the United States:\n",
        "*   'Marcus Raboy'\n",
        "*   'Jay Karas'\n",
        "*   'Martin Scorsese'\n",
        "*   'Jay Chapman'\n",
        "* 'Steven Spielberg'\n",
        "\n",
        "13. Top 5 Cast in the United States:\n",
        "* Samuel L. Jackson\n",
        "* Tara Strong\n",
        "* Fred Tatasciore\n",
        "* Adam Sandler\n",
        "* James Franco\n",
        "14. Top 3 Genres in the United States:\n",
        "* 'Dramas'\n",
        "* 'Comedies'\n",
        "* 'Documentaries'.\n",
        "15. Top 5 Directors in India:\n",
        "* 'Rajiv Chilaka'\n",
        "* 'Suhas Kadav'\n",
        "* 'David Dhawan'\n",
        "* 'Ram Gopal Varma'\n",
        "* 'S.S. Rajamouli'\n",
        "16. Top 5 Cast in India:\n",
        "* Anupam Kher\n",
        "* Shah Rukh Khan\n",
        "* Naseeruddin Shah\n",
        "* Akshay Kumar\n",
        "* Om Puri\n",
        "17. Top Genres in India are\n",
        "* 'International Movies'\n",
        "* 'Dramas'\n",
        "* 'Comedies'.\n",
        "18. Top 5 Directors in the United Kingdom:\n",
        "* 'Joey So'\n",
        "* 'Edward Cotterill'\n",
        "* 'Chris Howe'\n",
        "* 'Blair Simmons'\n",
        "* 'Orlando von Einsiedel'\n",
        "19. Top 5 Cast in the United Kingdom:\n",
        "* David Attenborough\n",
        "* John Cleese\n",
        "* Michael Palin\n",
        "* Eric Idle\n",
        "* Terry Jones\n",
        "20. Top Genre in the United Kingdom:\n",
        "* 'British TV Shows'\n",
        "* 'Dramas',\n",
        "* 'International Movies'.\n",
        "21. Top 5 Directors in Canada:\n",
        "* 'Justin G. Dyck'\n",
        "* 'Robert Vince'\n",
        "* 'Mike Clattenburg'\n",
        "* 'Barry Avrich'\n",
        "* 'Mike Smith'\n",
        "22. Top 5 Cast in Canada:\n",
        "* Robb Wells\n",
        "* Vincent Tong\n",
        "* John Paul Tremblay\n",
        "* Andrea Libman\n",
        "* John Dunsworth\n",
        "23. Top Genres in Canada:\n",
        "* 'Comedies',\n",
        "* 'Children & Family Movies',\n",
        "* 'Dramas'.\n",
        "24. Top 5 Directors in France:\n",
        "* 'Thierry Donard'\n",
        "* 'Youssef Chahine'\n",
        "* 'Julien Leclercq'\n",
        "* 'Olivier Assayas'\n",
        "* 'Jane Campion'\n",
        "25. Top 5 Cast in France:\n",
        "* Wille Lindberg\n",
        "* Benoît Magimel\n",
        "* Blanche Gardin\n",
        "* Kristin Scott Thomas\n",
        "* Jesse Richman\n",
        "26. Top Genres in France:\n",
        "* 'International Movies',\n",
        "* 'Dramas',\n",
        "* 'Independent Movies'.\n",
        "27. Notably, countries in the American continent like the US and Canada show less interest in International content compared to other non-American countries.\n",
        "28. The number of uploads is significantly higher in the US and India compared to other countries.\n",
        "29. The number of uploads in the United States is steadily increasing.\n",
        "30. In India, the number of uploads peaked in 2018 and then almost halved.\n",
        "31. In the United Kingdom, the number of uploads peaked twice in 2017 and 2019.\n",
        "32. In Canada, the number of uploads peaked twice in 2017 and 2020.\n",
        "33. In France, the number of uploads peaked twice in 2016 and 2019."
      ],
      "metadata": {
        "id": "F6ctOPSJ_ZlQ"
      }
    },
    {
      "cell_type": "markdown",
      "metadata": {
        "id": "Uhv37TR8Vw5O"
      },
      "source": [
        "# Recommendations:\n",
        "\n",
        "Note: All the recommendations are based on assumption that this OTT plateform had done good business and their strategies are already proven.\n",
        "\n",
        "---\n",
        "\n",
        "\n",
        "\n",
        "1. Audience preffers to watch movies more than tv-shows. hence movies should be preffered over tv-shows for new content creation.\n",
        "2.  New content need to cater audience typically 14 year and above as they are major audience using OTT.\n",
        "3. number of movies uploads are continously increasing across the OTT which signifies that OTT market are not yet saturated and have potential for more oppurtunity.\n",
        "4. While making new movies, duration should be around 90-120 minutes.\n",
        "5. while making new shows, maximum seasons should not be more than 4.\n",
        "6. For making new content, Drama, comedy, action & Adventure and Documentries should be preffered genres. whereas content creator should be careful while dealing with Classic & cult tv,stand-up comedy genres.\n",
        "7. Animation movies have clear rising prefernce hence considerable choice of genre for new content.\n",
        "7. US, India are important countries for content creation followed by United kingdom, canada and France.\n",
        "8. American audience do not preffers International movies although they are preffered in India, Britain and France. Hence american movies can be distributed to such contries.\n",
        "10. There is fall in uploads in every other country except United states. hence there is some risk involved with these countries.  \n",
        "\n",
        "\n",
        "\n"
      ]
    }
  ],
  "metadata": {
    "colab": {
      "provenance": [],
      "collapsed_sections": [
        "yTVz2Y_dmsuA",
        "Sqnebe0n9y-A",
        "k5Hmj1-3nJET",
        "6LZW7tTVjN5a"
      ],
      "include_colab_link": true
    },
    "kernelspec": {
      "display_name": "Python 3 (ipykernel)",
      "language": "python",
      "name": "python3"
    },
    "language_info": {
      "codemirror_mode": {
        "name": "ipython",
        "version": 3
      },
      "file_extension": ".py",
      "mimetype": "text/x-python",
      "name": "python",
      "nbconvert_exporter": "python",
      "pygments_lexer": "ipython3",
      "version": "3.12.0"
    }
  },
  "nbformat": 4,
  "nbformat_minor": 0
}