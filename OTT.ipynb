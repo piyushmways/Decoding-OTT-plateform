{
  "cells": [
    {
      "cell_type": "markdown",
      "metadata": {
        "id": "view-in-github",
        "colab_type": "text"
      },
      "source": [
        "<a href=\"https://colab.research.google.com/github/piyushmways/Decoding-OTT-plateform/blob/main/OTT.ipynb\" target=\"_parent\"><img src=\"https://colab.research.google.com/assets/colab-badge.svg\" alt=\"Open In Colab\"/></a>"
      ]
    },
    {
      "cell_type": "markdown",
      "source": [
        "# Introduction\n",
        "The Company is a leading OTT plateform They have a global presence and doing good business.\n",
        "The purpose of this business case is to delve into the mindset of the OTT audience, aiming to provide valuable insights and recommendations for the creation of new content."
      ],
      "metadata": {
        "id": "Hbkuzmeti8EB"
      }
    },
    {
      "cell_type": "code",
      "execution_count": null,
      "metadata": {
        "id": "dJ8NuUgyNyCd"
      },
      "outputs": [],
      "source": [
        "import pandas as pd   #importing necessary libraries\n",
        "import numpy as np\n",
        "import matplotlib.pyplot as plt\n",
        "import seaborn as sns"
      ]
    },
    {
      "cell_type": "code",
      "execution_count": null,
      "metadata": {
        "colab": {
          "base_uri": "https://localhost:8080/"
        },
        "id": "ehCqPCipW3cZ",
        "outputId": "75023afd-917a-4926-a1c3-5df8f572ac64"
      },
      "outputs": [
        {
          "output_type": "stream",
          "name": "stdout",
          "text": [
            "Downloading...\n",
            "From: https://drive.google.com/uc?id=18XO8Pbx0zj7DbhNlvkOk8hubERE6OcH5\n",
            "To: /content/Projectpandas.csv\n",
            "\r  0% 0.00/3.40M [00:00<?, ?B/s]\r100% 3.40M/3.40M [00:00<00:00, 59.8MB/s]\n"
          ]
        }
      ],
      "source": [
        "!gdown 18XO8Pbx0zj7DbhNlvkOk8hubERE6OcH5          #loading the dataset\n",
        "data=pd.read_csv(\"/content/Projectpandas.csv\")"
      ]
    },
    {
      "cell_type": "code",
      "execution_count": null,
      "metadata": {
        "id": "ATPNio7Q5Qd2"
      },
      "outputs": [],
      "source": [
        "df=data.copy()"
      ]
    },
    {
      "cell_type": "code",
      "execution_count": null,
      "metadata": {
        "id": "qguoJLyA5Qd2"
      },
      "outputs": [],
      "source": [
        "pd.set_option('display.max_rows',None)"
      ]
    },
    {
      "cell_type": "code",
      "execution_count": null,
      "metadata": {
        "colab": {
          "base_uri": "https://localhost:8080/",
          "height": 345
        },
        "id": "owDBc8c7TgCA",
        "outputId": "ccc208df-f47e-4df8-f53c-6526a6f46937"
      },
      "outputs": [
        {
          "output_type": "execute_result",
          "data": {
            "text/plain": [
              "  show_id     type                  title         director  \\\n",
              "0      s1    Movie   Dick Johnson Is Dead  Kirsten Johnson   \n",
              "1      s2  TV Show          Blood & Water              NaN   \n",
              "2      s3  TV Show              Ganglands  Julien Leclercq   \n",
              "3      s4  TV Show  Jailbirds New Orleans              NaN   \n",
              "4      s5  TV Show           Kota Factory              NaN   \n",
              "\n",
              "                                                cast        country  \\\n",
              "0                                                NaN  United States   \n",
              "1  Ama Qamata, Khosi Ngema, Gail Mabalane, Thaban...   South Africa   \n",
              "2  Sami Bouajila, Tracy Gotoas, Samuel Jouy, Nabi...            NaN   \n",
              "3                                                NaN            NaN   \n",
              "4  Mayur More, Jitendra Kumar, Ranjan Raj, Alam K...          India   \n",
              "\n",
              "           date_added  release_year rating   duration  \\\n",
              "0  September 25, 2021          2020  PG-13     90 min   \n",
              "1  September 24, 2021          2021  TV-MA  2 Seasons   \n",
              "2  September 24, 2021          2021  TV-MA   1 Season   \n",
              "3  September 24, 2021          2021  TV-MA   1 Season   \n",
              "4  September 24, 2021          2021  TV-MA  2 Seasons   \n",
              "\n",
              "                                           listed_in  \\\n",
              "0                                      Documentaries   \n",
              "1    International TV Shows, TV Dramas, TV Mysteries   \n",
              "2  Crime TV Shows, International TV Shows, TV Act...   \n",
              "3                             Docuseries, Reality TV   \n",
              "4  International TV Shows, Romantic TV Shows, TV ...   \n",
              "\n",
              "                                         description  \n",
              "0  As her father nears the end of his life, filmm...  \n",
              "1  After crossing paths at a party, a Cape Town t...  \n",
              "2  To protect his family from a powerful drug lor...  \n",
              "3  Feuds, flirtations and toilet talk go down amo...  \n",
              "4  In a city of coaching centers known to train I...  "
            ],
            "text/html": [
              "\n",
              "  <div id=\"df-b50eb594-36ac-4453-aa92-c6fdbaf3eba7\" class=\"colab-df-container\">\n",
              "    <div>\n",
              "<style scoped>\n",
              "    .dataframe tbody tr th:only-of-type {\n",
              "        vertical-align: middle;\n",
              "    }\n",
              "\n",
              "    .dataframe tbody tr th {\n",
              "        vertical-align: top;\n",
              "    }\n",
              "\n",
              "    .dataframe thead th {\n",
              "        text-align: right;\n",
              "    }\n",
              "</style>\n",
              "<table border=\"1\" class=\"dataframe\">\n",
              "  <thead>\n",
              "    <tr style=\"text-align: right;\">\n",
              "      <th></th>\n",
              "      <th>show_id</th>\n",
              "      <th>type</th>\n",
              "      <th>title</th>\n",
              "      <th>director</th>\n",
              "      <th>cast</th>\n",
              "      <th>country</th>\n",
              "      <th>date_added</th>\n",
              "      <th>release_year</th>\n",
              "      <th>rating</th>\n",
              "      <th>duration</th>\n",
              "      <th>listed_in</th>\n",
              "      <th>description</th>\n",
              "    </tr>\n",
              "  </thead>\n",
              "  <tbody>\n",
              "    <tr>\n",
              "      <th>0</th>\n",
              "      <td>s1</td>\n",
              "      <td>Movie</td>\n",
              "      <td>Dick Johnson Is Dead</td>\n",
              "      <td>Kirsten Johnson</td>\n",
              "      <td>NaN</td>\n",
              "      <td>United States</td>\n",
              "      <td>September 25, 2021</td>\n",
              "      <td>2020</td>\n",
              "      <td>PG-13</td>\n",
              "      <td>90 min</td>\n",
              "      <td>Documentaries</td>\n",
              "      <td>As her father nears the end of his life, filmm...</td>\n",
              "    </tr>\n",
              "    <tr>\n",
              "      <th>1</th>\n",
              "      <td>s2</td>\n",
              "      <td>TV Show</td>\n",
              "      <td>Blood &amp; Water</td>\n",
              "      <td>NaN</td>\n",
              "      <td>Ama Qamata, Khosi Ngema, Gail Mabalane, Thaban...</td>\n",
              "      <td>South Africa</td>\n",
              "      <td>September 24, 2021</td>\n",
              "      <td>2021</td>\n",
              "      <td>TV-MA</td>\n",
              "      <td>2 Seasons</td>\n",
              "      <td>International TV Shows, TV Dramas, TV Mysteries</td>\n",
              "      <td>After crossing paths at a party, a Cape Town t...</td>\n",
              "    </tr>\n",
              "    <tr>\n",
              "      <th>2</th>\n",
              "      <td>s3</td>\n",
              "      <td>TV Show</td>\n",
              "      <td>Ganglands</td>\n",
              "      <td>Julien Leclercq</td>\n",
              "      <td>Sami Bouajila, Tracy Gotoas, Samuel Jouy, Nabi...</td>\n",
              "      <td>NaN</td>\n",
              "      <td>September 24, 2021</td>\n",
              "      <td>2021</td>\n",
              "      <td>TV-MA</td>\n",
              "      <td>1 Season</td>\n",
              "      <td>Crime TV Shows, International TV Shows, TV Act...</td>\n",
              "      <td>To protect his family from a powerful drug lor...</td>\n",
              "    </tr>\n",
              "    <tr>\n",
              "      <th>3</th>\n",
              "      <td>s4</td>\n",
              "      <td>TV Show</td>\n",
              "      <td>Jailbirds New Orleans</td>\n",
              "      <td>NaN</td>\n",
              "      <td>NaN</td>\n",
              "      <td>NaN</td>\n",
              "      <td>September 24, 2021</td>\n",
              "      <td>2021</td>\n",
              "      <td>TV-MA</td>\n",
              "      <td>1 Season</td>\n",
              "      <td>Docuseries, Reality TV</td>\n",
              "      <td>Feuds, flirtations and toilet talk go down amo...</td>\n",
              "    </tr>\n",
              "    <tr>\n",
              "      <th>4</th>\n",
              "      <td>s5</td>\n",
              "      <td>TV Show</td>\n",
              "      <td>Kota Factory</td>\n",
              "      <td>NaN</td>\n",
              "      <td>Mayur More, Jitendra Kumar, Ranjan Raj, Alam K...</td>\n",
              "      <td>India</td>\n",
              "      <td>September 24, 2021</td>\n",
              "      <td>2021</td>\n",
              "      <td>TV-MA</td>\n",
              "      <td>2 Seasons</td>\n",
              "      <td>International TV Shows, Romantic TV Shows, TV ...</td>\n",
              "      <td>In a city of coaching centers known to train I...</td>\n",
              "    </tr>\n",
              "  </tbody>\n",
              "</table>\n",
              "</div>\n",
              "    <div class=\"colab-df-buttons\">\n",
              "\n",
              "  <div class=\"colab-df-container\">\n",
              "    <button class=\"colab-df-convert\" onclick=\"convertToInteractive('df-b50eb594-36ac-4453-aa92-c6fdbaf3eba7')\"\n",
              "            title=\"Convert this dataframe to an interactive table.\"\n",
              "            style=\"display:none;\">\n",
              "\n",
              "  <svg xmlns=\"http://www.w3.org/2000/svg\" height=\"24px\" viewBox=\"0 -960 960 960\">\n",
              "    <path d=\"M120-120v-720h720v720H120Zm60-500h600v-160H180v160Zm220 220h160v-160H400v160Zm0 220h160v-160H400v160ZM180-400h160v-160H180v160Zm440 0h160v-160H620v160ZM180-180h160v-160H180v160Zm440 0h160v-160H620v160Z\"/>\n",
              "  </svg>\n",
              "    </button>\n",
              "\n",
              "  <style>\n",
              "    .colab-df-container {\n",
              "      display:flex;\n",
              "      gap: 12px;\n",
              "    }\n",
              "\n",
              "    .colab-df-convert {\n",
              "      background-color: #E8F0FE;\n",
              "      border: none;\n",
              "      border-radius: 50%;\n",
              "      cursor: pointer;\n",
              "      display: none;\n",
              "      fill: #1967D2;\n",
              "      height: 32px;\n",
              "      padding: 0 0 0 0;\n",
              "      width: 32px;\n",
              "    }\n",
              "\n",
              "    .colab-df-convert:hover {\n",
              "      background-color: #E2EBFA;\n",
              "      box-shadow: 0px 1px 2px rgba(60, 64, 67, 0.3), 0px 1px 3px 1px rgba(60, 64, 67, 0.15);\n",
              "      fill: #174EA6;\n",
              "    }\n",
              "\n",
              "    .colab-df-buttons div {\n",
              "      margin-bottom: 4px;\n",
              "    }\n",
              "\n",
              "    [theme=dark] .colab-df-convert {\n",
              "      background-color: #3B4455;\n",
              "      fill: #D2E3FC;\n",
              "    }\n",
              "\n",
              "    [theme=dark] .colab-df-convert:hover {\n",
              "      background-color: #434B5C;\n",
              "      box-shadow: 0px 1px 3px 1px rgba(0, 0, 0, 0.15);\n",
              "      filter: drop-shadow(0px 1px 2px rgba(0, 0, 0, 0.3));\n",
              "      fill: #FFFFFF;\n",
              "    }\n",
              "  </style>\n",
              "\n",
              "    <script>\n",
              "      const buttonEl =\n",
              "        document.querySelector('#df-b50eb594-36ac-4453-aa92-c6fdbaf3eba7 button.colab-df-convert');\n",
              "      buttonEl.style.display =\n",
              "        google.colab.kernel.accessAllowed ? 'block' : 'none';\n",
              "\n",
              "      async function convertToInteractive(key) {\n",
              "        const element = document.querySelector('#df-b50eb594-36ac-4453-aa92-c6fdbaf3eba7');\n",
              "        const dataTable =\n",
              "          await google.colab.kernel.invokeFunction('convertToInteractive',\n",
              "                                                    [key], {});\n",
              "        if (!dataTable) return;\n",
              "\n",
              "        const docLinkHtml = 'Like what you see? Visit the ' +\n",
              "          '<a target=\"_blank\" href=https://colab.research.google.com/notebooks/data_table.ipynb>data table notebook</a>'\n",
              "          + ' to learn more about interactive tables.';\n",
              "        element.innerHTML = '';\n",
              "        dataTable['output_type'] = 'display_data';\n",
              "        await google.colab.output.renderOutput(dataTable, element);\n",
              "        const docLink = document.createElement('div');\n",
              "        docLink.innerHTML = docLinkHtml;\n",
              "        element.appendChild(docLink);\n",
              "      }\n",
              "    </script>\n",
              "  </div>\n",
              "\n",
              "\n",
              "<div id=\"df-9d7e7d32-1ec8-4c74-9813-17f3efa2232f\">\n",
              "  <button class=\"colab-df-quickchart\" onclick=\"quickchart('df-9d7e7d32-1ec8-4c74-9813-17f3efa2232f')\"\n",
              "            title=\"Suggest charts\"\n",
              "            style=\"display:none;\">\n",
              "\n",
              "<svg xmlns=\"http://www.w3.org/2000/svg\" height=\"24px\"viewBox=\"0 0 24 24\"\n",
              "     width=\"24px\">\n",
              "    <g>\n",
              "        <path d=\"M19 3H5c-1.1 0-2 .9-2 2v14c0 1.1.9 2 2 2h14c1.1 0 2-.9 2-2V5c0-1.1-.9-2-2-2zM9 17H7v-7h2v7zm4 0h-2V7h2v10zm4 0h-2v-4h2v4z\"/>\n",
              "    </g>\n",
              "</svg>\n",
              "  </button>\n",
              "\n",
              "<style>\n",
              "  .colab-df-quickchart {\n",
              "      --bg-color: #E8F0FE;\n",
              "      --fill-color: #1967D2;\n",
              "      --hover-bg-color: #E2EBFA;\n",
              "      --hover-fill-color: #174EA6;\n",
              "      --disabled-fill-color: #AAA;\n",
              "      --disabled-bg-color: #DDD;\n",
              "  }\n",
              "\n",
              "  [theme=dark] .colab-df-quickchart {\n",
              "      --bg-color: #3B4455;\n",
              "      --fill-color: #D2E3FC;\n",
              "      --hover-bg-color: #434B5C;\n",
              "      --hover-fill-color: #FFFFFF;\n",
              "      --disabled-bg-color: #3B4455;\n",
              "      --disabled-fill-color: #666;\n",
              "  }\n",
              "\n",
              "  .colab-df-quickchart {\n",
              "    background-color: var(--bg-color);\n",
              "    border: none;\n",
              "    border-radius: 50%;\n",
              "    cursor: pointer;\n",
              "    display: none;\n",
              "    fill: var(--fill-color);\n",
              "    height: 32px;\n",
              "    padding: 0;\n",
              "    width: 32px;\n",
              "  }\n",
              "\n",
              "  .colab-df-quickchart:hover {\n",
              "    background-color: var(--hover-bg-color);\n",
              "    box-shadow: 0 1px 2px rgba(60, 64, 67, 0.3), 0 1px 3px 1px rgba(60, 64, 67, 0.15);\n",
              "    fill: var(--button-hover-fill-color);\n",
              "  }\n",
              "\n",
              "  .colab-df-quickchart-complete:disabled,\n",
              "  .colab-df-quickchart-complete:disabled:hover {\n",
              "    background-color: var(--disabled-bg-color);\n",
              "    fill: var(--disabled-fill-color);\n",
              "    box-shadow: none;\n",
              "  }\n",
              "\n",
              "  .colab-df-spinner {\n",
              "    border: 2px solid var(--fill-color);\n",
              "    border-color: transparent;\n",
              "    border-bottom-color: var(--fill-color);\n",
              "    animation:\n",
              "      spin 1s steps(1) infinite;\n",
              "  }\n",
              "\n",
              "  @keyframes spin {\n",
              "    0% {\n",
              "      border-color: transparent;\n",
              "      border-bottom-color: var(--fill-color);\n",
              "      border-left-color: var(--fill-color);\n",
              "    }\n",
              "    20% {\n",
              "      border-color: transparent;\n",
              "      border-left-color: var(--fill-color);\n",
              "      border-top-color: var(--fill-color);\n",
              "    }\n",
              "    30% {\n",
              "      border-color: transparent;\n",
              "      border-left-color: var(--fill-color);\n",
              "      border-top-color: var(--fill-color);\n",
              "      border-right-color: var(--fill-color);\n",
              "    }\n",
              "    40% {\n",
              "      border-color: transparent;\n",
              "      border-right-color: var(--fill-color);\n",
              "      border-top-color: var(--fill-color);\n",
              "    }\n",
              "    60% {\n",
              "      border-color: transparent;\n",
              "      border-right-color: var(--fill-color);\n",
              "    }\n",
              "    80% {\n",
              "      border-color: transparent;\n",
              "      border-right-color: var(--fill-color);\n",
              "      border-bottom-color: var(--fill-color);\n",
              "    }\n",
              "    90% {\n",
              "      border-color: transparent;\n",
              "      border-bottom-color: var(--fill-color);\n",
              "    }\n",
              "  }\n",
              "</style>\n",
              "\n",
              "  <script>\n",
              "    async function quickchart(key) {\n",
              "      const quickchartButtonEl =\n",
              "        document.querySelector('#' + key + ' button');\n",
              "      quickchartButtonEl.disabled = true;  // To prevent multiple clicks.\n",
              "      quickchartButtonEl.classList.add('colab-df-spinner');\n",
              "      try {\n",
              "        const charts = await google.colab.kernel.invokeFunction(\n",
              "            'suggestCharts', [key], {});\n",
              "      } catch (error) {\n",
              "        console.error('Error during call to suggestCharts:', error);\n",
              "      }\n",
              "      quickchartButtonEl.classList.remove('colab-df-spinner');\n",
              "      quickchartButtonEl.classList.add('colab-df-quickchart-complete');\n",
              "    }\n",
              "    (() => {\n",
              "      let quickchartButtonEl =\n",
              "        document.querySelector('#df-9d7e7d32-1ec8-4c74-9813-17f3efa2232f button');\n",
              "      quickchartButtonEl.style.display =\n",
              "        google.colab.kernel.accessAllowed ? 'block' : 'none';\n",
              "    })();\n",
              "  </script>\n",
              "</div>\n",
              "    </div>\n",
              "  </div>\n"
            ]
          },
          "metadata": {},
          "execution_count": 6
        }
      ],
      "source": [
        "df.head()"
      ]
    },
    {
      "cell_type": "code",
      "execution_count": null,
      "metadata": {
        "colab": {
          "base_uri": "https://localhost:8080/"
        },
        "id": "P9m_zhyyVFJA",
        "outputId": "d408fa73-14af-45d8-f5fb-83f9b352726a"
      },
      "outputs": [
        {
          "output_type": "execute_result",
          "data": {
            "text/plain": [
              "(8807, 12)"
            ]
          },
          "metadata": {},
          "execution_count": 7
        }
      ],
      "source": [
        "df.shape"
      ]
    },
    {
      "cell_type": "code",
      "execution_count": null,
      "metadata": {
        "colab": {
          "base_uri": "https://localhost:8080/"
        },
        "id": "bMiXHNk5W3E9",
        "outputId": "97f6ee99-37ea-4fce-8b85-1bb0306a6ed3"
      },
      "outputs": [
        {
          "output_type": "stream",
          "name": "stdout",
          "text": [
            "<class 'pandas.core.frame.DataFrame'>\n",
            "RangeIndex: 8807 entries, 0 to 8806\n",
            "Data columns (total 12 columns):\n",
            " #   Column        Non-Null Count  Dtype \n",
            "---  ------        --------------  ----- \n",
            " 0   show_id       8807 non-null   object\n",
            " 1   type          8807 non-null   object\n",
            " 2   title         8807 non-null   object\n",
            " 3   director      6173 non-null   object\n",
            " 4   cast          7982 non-null   object\n",
            " 5   country       7976 non-null   object\n",
            " 6   date_added    8797 non-null   object\n",
            " 7   release_year  8807 non-null   int64 \n",
            " 8   rating        8803 non-null   object\n",
            " 9   duration      8804 non-null   object\n",
            " 10  listed_in     8807 non-null   object\n",
            " 11  description   8807 non-null   object\n",
            "dtypes: int64(1), object(11)\n",
            "memory usage: 825.8+ KB\n"
          ]
        }
      ],
      "source": [
        "df.info()"
      ]
    },
    {
      "cell_type": "markdown",
      "metadata": {
        "id": "ZnrwAe0BOwrh"
      },
      "source": [
        "Checking the duplicate entries"
      ]
    },
    {
      "cell_type": "code",
      "execution_count": null,
      "metadata": {
        "colab": {
          "base_uri": "https://localhost:8080/",
          "height": 53
        },
        "id": "lPvbr7hqZef3",
        "outputId": "de76e75d-bd05-46a0-ebd6-74eed20cb300"
      },
      "outputs": [
        {
          "output_type": "execute_result",
          "data": {
            "text/plain": [
              "Empty DataFrame\n",
              "Columns: [show_id, type, title, director, cast, country, date_added, release_year, rating, duration, listed_in, description]\n",
              "Index: []"
            ],
            "text/html": [
              "\n",
              "  <div id=\"df-28a98241-17b8-40ff-b84f-56351adc30b2\" class=\"colab-df-container\">\n",
              "    <div>\n",
              "<style scoped>\n",
              "    .dataframe tbody tr th:only-of-type {\n",
              "        vertical-align: middle;\n",
              "    }\n",
              "\n",
              "    .dataframe tbody tr th {\n",
              "        vertical-align: top;\n",
              "    }\n",
              "\n",
              "    .dataframe thead th {\n",
              "        text-align: right;\n",
              "    }\n",
              "</style>\n",
              "<table border=\"1\" class=\"dataframe\">\n",
              "  <thead>\n",
              "    <tr style=\"text-align: right;\">\n",
              "      <th></th>\n",
              "      <th>show_id</th>\n",
              "      <th>type</th>\n",
              "      <th>title</th>\n",
              "      <th>director</th>\n",
              "      <th>cast</th>\n",
              "      <th>country</th>\n",
              "      <th>date_added</th>\n",
              "      <th>release_year</th>\n",
              "      <th>rating</th>\n",
              "      <th>duration</th>\n",
              "      <th>listed_in</th>\n",
              "      <th>description</th>\n",
              "    </tr>\n",
              "  </thead>\n",
              "  <tbody>\n",
              "  </tbody>\n",
              "</table>\n",
              "</div>\n",
              "    <div class=\"colab-df-buttons\">\n",
              "\n",
              "  <div class=\"colab-df-container\">\n",
              "    <button class=\"colab-df-convert\" onclick=\"convertToInteractive('df-28a98241-17b8-40ff-b84f-56351adc30b2')\"\n",
              "            title=\"Convert this dataframe to an interactive table.\"\n",
              "            style=\"display:none;\">\n",
              "\n",
              "  <svg xmlns=\"http://www.w3.org/2000/svg\" height=\"24px\" viewBox=\"0 -960 960 960\">\n",
              "    <path d=\"M120-120v-720h720v720H120Zm60-500h600v-160H180v160Zm220 220h160v-160H400v160Zm0 220h160v-160H400v160ZM180-400h160v-160H180v160Zm440 0h160v-160H620v160ZM180-180h160v-160H180v160Zm440 0h160v-160H620v160Z\"/>\n",
              "  </svg>\n",
              "    </button>\n",
              "\n",
              "  <style>\n",
              "    .colab-df-container {\n",
              "      display:flex;\n",
              "      gap: 12px;\n",
              "    }\n",
              "\n",
              "    .colab-df-convert {\n",
              "      background-color: #E8F0FE;\n",
              "      border: none;\n",
              "      border-radius: 50%;\n",
              "      cursor: pointer;\n",
              "      display: none;\n",
              "      fill: #1967D2;\n",
              "      height: 32px;\n",
              "      padding: 0 0 0 0;\n",
              "      width: 32px;\n",
              "    }\n",
              "\n",
              "    .colab-df-convert:hover {\n",
              "      background-color: #E2EBFA;\n",
              "      box-shadow: 0px 1px 2px rgba(60, 64, 67, 0.3), 0px 1px 3px 1px rgba(60, 64, 67, 0.15);\n",
              "      fill: #174EA6;\n",
              "    }\n",
              "\n",
              "    .colab-df-buttons div {\n",
              "      margin-bottom: 4px;\n",
              "    }\n",
              "\n",
              "    [theme=dark] .colab-df-convert {\n",
              "      background-color: #3B4455;\n",
              "      fill: #D2E3FC;\n",
              "    }\n",
              "\n",
              "    [theme=dark] .colab-df-convert:hover {\n",
              "      background-color: #434B5C;\n",
              "      box-shadow: 0px 1px 3px 1px rgba(0, 0, 0, 0.15);\n",
              "      filter: drop-shadow(0px 1px 2px rgba(0, 0, 0, 0.3));\n",
              "      fill: #FFFFFF;\n",
              "    }\n",
              "  </style>\n",
              "\n",
              "    <script>\n",
              "      const buttonEl =\n",
              "        document.querySelector('#df-28a98241-17b8-40ff-b84f-56351adc30b2 button.colab-df-convert');\n",
              "      buttonEl.style.display =\n",
              "        google.colab.kernel.accessAllowed ? 'block' : 'none';\n",
              "\n",
              "      async function convertToInteractive(key) {\n",
              "        const element = document.querySelector('#df-28a98241-17b8-40ff-b84f-56351adc30b2');\n",
              "        const dataTable =\n",
              "          await google.colab.kernel.invokeFunction('convertToInteractive',\n",
              "                                                    [key], {});\n",
              "        if (!dataTable) return;\n",
              "\n",
              "        const docLinkHtml = 'Like what you see? Visit the ' +\n",
              "          '<a target=\"_blank\" href=https://colab.research.google.com/notebooks/data_table.ipynb>data table notebook</a>'\n",
              "          + ' to learn more about interactive tables.';\n",
              "        element.innerHTML = '';\n",
              "        dataTable['output_type'] = 'display_data';\n",
              "        await google.colab.output.renderOutput(dataTable, element);\n",
              "        const docLink = document.createElement('div');\n",
              "        docLink.innerHTML = docLinkHtml;\n",
              "        element.appendChild(docLink);\n",
              "      }\n",
              "    </script>\n",
              "  </div>\n",
              "\n",
              "    </div>\n",
              "  </div>\n"
            ]
          },
          "metadata": {},
          "execution_count": 9
        }
      ],
      "source": [
        "df[df.duplicated()]"
      ]
    },
    {
      "cell_type": "markdown",
      "metadata": {
        "id": "XX4krS6J5Qd6"
      },
      "source": [
        "Remarks\n",
        "1. it may be noted that Dataset do not contains any duplicate entry"
      ]
    },
    {
      "cell_type": "markdown",
      "source": [
        "# Missing Value Detection"
      ],
      "metadata": {
        "id": "yTVz2Y_dmsuA"
      }
    },
    {
      "cell_type": "code",
      "execution_count": null,
      "metadata": {
        "colab": {
          "base_uri": "https://localhost:8080/"
        },
        "id": "z86Zs4tftJNL",
        "outputId": "94242519-7293-4507-b020-21053dbb1865"
      },
      "outputs": [
        {
          "output_type": "execute_result",
          "data": {
            "text/plain": [
              "show_id            0\n",
              "type               0\n",
              "title              0\n",
              "director        2634\n",
              "cast             825\n",
              "country          831\n",
              "date_added        10\n",
              "release_year       0\n",
              "rating             4\n",
              "duration           3\n",
              "listed_in          0\n",
              "description        0\n",
              "dtype: int64"
            ]
          },
          "metadata": {},
          "execution_count": 10
        }
      ],
      "source": [
        "df.isnull().sum()"
      ]
    },
    {
      "cell_type": "code",
      "execution_count": null,
      "metadata": {
        "colab": {
          "base_uri": "https://localhost:8080/"
        },
        "id": "bn5o2B7E5Qd6",
        "outputId": "fce3a852-12ac-4ef9-d035-b4035d623612"
      },
      "outputs": [
        {
          "output_type": "execute_result",
          "data": {
            "text/plain": [
              "show_id          0.000000\n",
              "type             0.000000\n",
              "title            0.000000\n",
              "director        42.669691\n",
              "cast            10.335755\n",
              "country         10.418756\n",
              "date_added       0.113675\n",
              "release_year     0.000000\n",
              "rating           0.045439\n",
              "duration         0.034075\n",
              "listed_in        0.000000\n",
              "description      0.000000\n",
              "dtype: float64"
            ]
          },
          "metadata": {},
          "execution_count": 11
        }
      ],
      "source": [
        "df.isnull().sum()*100/df.count()  #percentage of nulls in columns"
      ]
    },
    {
      "cell_type": "markdown",
      "metadata": {
        "id": "ITAysRAPqlJh"
      },
      "source": [
        "Remarks\n",
        "\n",
        "1. It must be noted that most of the features are string.\n",
        "   \n",
        "2. The Series that contains null values are\n",
        "i)director\n",
        "ii)cast\n",
        "iii)country\n",
        "iv)date_added\n",
        "v)rating\n",
        "vi)duration\n",
        "\n",
        "3. Some features have large values null values."
      ]
    },
    {
      "cell_type": "markdown",
      "metadata": {
        "id": "Sqnebe0n9y-A"
      },
      "source": [
        "# Missing Value Imputation\n"
      ]
    },
    {
      "cell_type": "markdown",
      "metadata": {
        "id": "z4e6I2pYzZaE"
      },
      "source": [
        "1. Missing values Imputations: Rating Column"
      ]
    },
    {
      "cell_type": "code",
      "execution_count": null,
      "metadata": {
        "colab": {
          "base_uri": "https://localhost:8080/"
        },
        "id": "w7wTiYcsCxpp",
        "outputId": "baf75d5a-106e-4c8d-c7e4-b415ef949775"
      },
      "outputs": [
        {
          "output_type": "execute_result",
          "data": {
            "text/plain": [
              "17"
            ]
          },
          "metadata": {},
          "execution_count": 12
        }
      ],
      "source": [
        "df['rating'].nunique()"
      ]
    },
    {
      "cell_type": "code",
      "execution_count": null,
      "metadata": {
        "colab": {
          "base_uri": "https://localhost:8080/"
        },
        "id": "wS4xtJ5Jh6lZ",
        "outputId": "fd434eed-f54d-495c-a0e3-e2a68eb0f87f"
      },
      "outputs": [
        {
          "output_type": "execute_result",
          "data": {
            "text/plain": [
              "TV-MA       3207\n",
              "TV-14       2160\n",
              "TV-PG        863\n",
              "R            799\n",
              "PG-13        490\n",
              "TV-Y7        334\n",
              "TV-Y         307\n",
              "PG           287\n",
              "TV-G         220\n",
              "NR            80\n",
              "G             41\n",
              "TV-Y7-FV       6\n",
              "NC-17          3\n",
              "UR             3\n",
              "74 min         1\n",
              "84 min         1\n",
              "66 min         1\n",
              "Name: rating, dtype: int64"
            ]
          },
          "metadata": {},
          "execution_count": 13
        }
      ],
      "source": [
        "df['rating'].value_counts()"
      ]
    },
    {
      "cell_type": "markdown",
      "metadata": {
        "id": "kcObaoAn5Qd7"
      },
      "source": [
        "Remarks:\n",
        "1. It must be noted that min can not be a rating, rather it is some mistake lets check the entry."
      ]
    },
    {
      "cell_type": "code",
      "execution_count": null,
      "metadata": {
        "colab": {
          "base_uri": "https://localhost:8080/",
          "height": 196
        },
        "id": "z26qt43s5Qd7",
        "outputId": "06bf20ab-c479-4a47-beaa-9571da347a0c"
      },
      "outputs": [
        {
          "output_type": "execute_result",
          "data": {
            "text/plain": [
              "     show_id   type                                 title    director  \\\n",
              "5541   s5542  Movie                       Louis C.K. 2017  Louis C.K.   \n",
              "5794   s5795  Movie                 Louis C.K.: Hilarious  Louis C.K.   \n",
              "5813   s5814  Movie  Louis C.K.: Live at the Comedy Store  Louis C.K.   \n",
              "\n",
              "            cast        country          date_added  release_year  rating  \\\n",
              "5541  Louis C.K.  United States       April 4, 2017          2017  74 min   \n",
              "5794  Louis C.K.  United States  September 16, 2016          2010  84 min   \n",
              "5813  Louis C.K.  United States     August 15, 2016          2015  66 min   \n",
              "\n",
              "     duration listed_in                                        description  \n",
              "5541      NaN    Movies  Louis C.K. muses on religion, eternal love, gi...  \n",
              "5794      NaN    Movies  Emmy-winning comedy writer Louis C.K. brings h...  \n",
              "5813      NaN    Movies  The comic puts his trademark hilarious/thought...  "
            ],
            "text/html": [
              "\n",
              "  <div id=\"df-0c0d6c04-c007-4a11-81e7-905113452770\" class=\"colab-df-container\">\n",
              "    <div>\n",
              "<style scoped>\n",
              "    .dataframe tbody tr th:only-of-type {\n",
              "        vertical-align: middle;\n",
              "    }\n",
              "\n",
              "    .dataframe tbody tr th {\n",
              "        vertical-align: top;\n",
              "    }\n",
              "\n",
              "    .dataframe thead th {\n",
              "        text-align: right;\n",
              "    }\n",
              "</style>\n",
              "<table border=\"1\" class=\"dataframe\">\n",
              "  <thead>\n",
              "    <tr style=\"text-align: right;\">\n",
              "      <th></th>\n",
              "      <th>show_id</th>\n",
              "      <th>type</th>\n",
              "      <th>title</th>\n",
              "      <th>director</th>\n",
              "      <th>cast</th>\n",
              "      <th>country</th>\n",
              "      <th>date_added</th>\n",
              "      <th>release_year</th>\n",
              "      <th>rating</th>\n",
              "      <th>duration</th>\n",
              "      <th>listed_in</th>\n",
              "      <th>description</th>\n",
              "    </tr>\n",
              "  </thead>\n",
              "  <tbody>\n",
              "    <tr>\n",
              "      <th>5541</th>\n",
              "      <td>s5542</td>\n",
              "      <td>Movie</td>\n",
              "      <td>Louis C.K. 2017</td>\n",
              "      <td>Louis C.K.</td>\n",
              "      <td>Louis C.K.</td>\n",
              "      <td>United States</td>\n",
              "      <td>April 4, 2017</td>\n",
              "      <td>2017</td>\n",
              "      <td>74 min</td>\n",
              "      <td>NaN</td>\n",
              "      <td>Movies</td>\n",
              "      <td>Louis C.K. muses on religion, eternal love, gi...</td>\n",
              "    </tr>\n",
              "    <tr>\n",
              "      <th>5794</th>\n",
              "      <td>s5795</td>\n",
              "      <td>Movie</td>\n",
              "      <td>Louis C.K.: Hilarious</td>\n",
              "      <td>Louis C.K.</td>\n",
              "      <td>Louis C.K.</td>\n",
              "      <td>United States</td>\n",
              "      <td>September 16, 2016</td>\n",
              "      <td>2010</td>\n",
              "      <td>84 min</td>\n",
              "      <td>NaN</td>\n",
              "      <td>Movies</td>\n",
              "      <td>Emmy-winning comedy writer Louis C.K. brings h...</td>\n",
              "    </tr>\n",
              "    <tr>\n",
              "      <th>5813</th>\n",
              "      <td>s5814</td>\n",
              "      <td>Movie</td>\n",
              "      <td>Louis C.K.: Live at the Comedy Store</td>\n",
              "      <td>Louis C.K.</td>\n",
              "      <td>Louis C.K.</td>\n",
              "      <td>United States</td>\n",
              "      <td>August 15, 2016</td>\n",
              "      <td>2015</td>\n",
              "      <td>66 min</td>\n",
              "      <td>NaN</td>\n",
              "      <td>Movies</td>\n",
              "      <td>The comic puts his trademark hilarious/thought...</td>\n",
              "    </tr>\n",
              "  </tbody>\n",
              "</table>\n",
              "</div>\n",
              "    <div class=\"colab-df-buttons\">\n",
              "\n",
              "  <div class=\"colab-df-container\">\n",
              "    <button class=\"colab-df-convert\" onclick=\"convertToInteractive('df-0c0d6c04-c007-4a11-81e7-905113452770')\"\n",
              "            title=\"Convert this dataframe to an interactive table.\"\n",
              "            style=\"display:none;\">\n",
              "\n",
              "  <svg xmlns=\"http://www.w3.org/2000/svg\" height=\"24px\" viewBox=\"0 -960 960 960\">\n",
              "    <path d=\"M120-120v-720h720v720H120Zm60-500h600v-160H180v160Zm220 220h160v-160H400v160Zm0 220h160v-160H400v160ZM180-400h160v-160H180v160Zm440 0h160v-160H620v160ZM180-180h160v-160H180v160Zm440 0h160v-160H620v160Z\"/>\n",
              "  </svg>\n",
              "    </button>\n",
              "\n",
              "  <style>\n",
              "    .colab-df-container {\n",
              "      display:flex;\n",
              "      gap: 12px;\n",
              "    }\n",
              "\n",
              "    .colab-df-convert {\n",
              "      background-color: #E8F0FE;\n",
              "      border: none;\n",
              "      border-radius: 50%;\n",
              "      cursor: pointer;\n",
              "      display: none;\n",
              "      fill: #1967D2;\n",
              "      height: 32px;\n",
              "      padding: 0 0 0 0;\n",
              "      width: 32px;\n",
              "    }\n",
              "\n",
              "    .colab-df-convert:hover {\n",
              "      background-color: #E2EBFA;\n",
              "      box-shadow: 0px 1px 2px rgba(60, 64, 67, 0.3), 0px 1px 3px 1px rgba(60, 64, 67, 0.15);\n",
              "      fill: #174EA6;\n",
              "    }\n",
              "\n",
              "    .colab-df-buttons div {\n",
              "      margin-bottom: 4px;\n",
              "    }\n",
              "\n",
              "    [theme=dark] .colab-df-convert {\n",
              "      background-color: #3B4455;\n",
              "      fill: #D2E3FC;\n",
              "    }\n",
              "\n",
              "    [theme=dark] .colab-df-convert:hover {\n",
              "      background-color: #434B5C;\n",
              "      box-shadow: 0px 1px 3px 1px rgba(0, 0, 0, 0.15);\n",
              "      filter: drop-shadow(0px 1px 2px rgba(0, 0, 0, 0.3));\n",
              "      fill: #FFFFFF;\n",
              "    }\n",
              "  </style>\n",
              "\n",
              "    <script>\n",
              "      const buttonEl =\n",
              "        document.querySelector('#df-0c0d6c04-c007-4a11-81e7-905113452770 button.colab-df-convert');\n",
              "      buttonEl.style.display =\n",
              "        google.colab.kernel.accessAllowed ? 'block' : 'none';\n",
              "\n",
              "      async function convertToInteractive(key) {\n",
              "        const element = document.querySelector('#df-0c0d6c04-c007-4a11-81e7-905113452770');\n",
              "        const dataTable =\n",
              "          await google.colab.kernel.invokeFunction('convertToInteractive',\n",
              "                                                    [key], {});\n",
              "        if (!dataTable) return;\n",
              "\n",
              "        const docLinkHtml = 'Like what you see? Visit the ' +\n",
              "          '<a target=\"_blank\" href=https://colab.research.google.com/notebooks/data_table.ipynb>data table notebook</a>'\n",
              "          + ' to learn more about interactive tables.';\n",
              "        element.innerHTML = '';\n",
              "        dataTable['output_type'] = 'display_data';\n",
              "        await google.colab.output.renderOutput(dataTable, element);\n",
              "        const docLink = document.createElement('div');\n",
              "        docLink.innerHTML = docLinkHtml;\n",
              "        element.appendChild(docLink);\n",
              "      }\n",
              "    </script>\n",
              "  </div>\n",
              "\n",
              "\n",
              "<div id=\"df-a69f3085-781d-4966-9c60-72becf86f048\">\n",
              "  <button class=\"colab-df-quickchart\" onclick=\"quickchart('df-a69f3085-781d-4966-9c60-72becf86f048')\"\n",
              "            title=\"Suggest charts\"\n",
              "            style=\"display:none;\">\n",
              "\n",
              "<svg xmlns=\"http://www.w3.org/2000/svg\" height=\"24px\"viewBox=\"0 0 24 24\"\n",
              "     width=\"24px\">\n",
              "    <g>\n",
              "        <path d=\"M19 3H5c-1.1 0-2 .9-2 2v14c0 1.1.9 2 2 2h14c1.1 0 2-.9 2-2V5c0-1.1-.9-2-2-2zM9 17H7v-7h2v7zm4 0h-2V7h2v10zm4 0h-2v-4h2v4z\"/>\n",
              "    </g>\n",
              "</svg>\n",
              "  </button>\n",
              "\n",
              "<style>\n",
              "  .colab-df-quickchart {\n",
              "      --bg-color: #E8F0FE;\n",
              "      --fill-color: #1967D2;\n",
              "      --hover-bg-color: #E2EBFA;\n",
              "      --hover-fill-color: #174EA6;\n",
              "      --disabled-fill-color: #AAA;\n",
              "      --disabled-bg-color: #DDD;\n",
              "  }\n",
              "\n",
              "  [theme=dark] .colab-df-quickchart {\n",
              "      --bg-color: #3B4455;\n",
              "      --fill-color: #D2E3FC;\n",
              "      --hover-bg-color: #434B5C;\n",
              "      --hover-fill-color: #FFFFFF;\n",
              "      --disabled-bg-color: #3B4455;\n",
              "      --disabled-fill-color: #666;\n",
              "  }\n",
              "\n",
              "  .colab-df-quickchart {\n",
              "    background-color: var(--bg-color);\n",
              "    border: none;\n",
              "    border-radius: 50%;\n",
              "    cursor: pointer;\n",
              "    display: none;\n",
              "    fill: var(--fill-color);\n",
              "    height: 32px;\n",
              "    padding: 0;\n",
              "    width: 32px;\n",
              "  }\n",
              "\n",
              "  .colab-df-quickchart:hover {\n",
              "    background-color: var(--hover-bg-color);\n",
              "    box-shadow: 0 1px 2px rgba(60, 64, 67, 0.3), 0 1px 3px 1px rgba(60, 64, 67, 0.15);\n",
              "    fill: var(--button-hover-fill-color);\n",
              "  }\n",
              "\n",
              "  .colab-df-quickchart-complete:disabled,\n",
              "  .colab-df-quickchart-complete:disabled:hover {\n",
              "    background-color: var(--disabled-bg-color);\n",
              "    fill: var(--disabled-fill-color);\n",
              "    box-shadow: none;\n",
              "  }\n",
              "\n",
              "  .colab-df-spinner {\n",
              "    border: 2px solid var(--fill-color);\n",
              "    border-color: transparent;\n",
              "    border-bottom-color: var(--fill-color);\n",
              "    animation:\n",
              "      spin 1s steps(1) infinite;\n",
              "  }\n",
              "\n",
              "  @keyframes spin {\n",
              "    0% {\n",
              "      border-color: transparent;\n",
              "      border-bottom-color: var(--fill-color);\n",
              "      border-left-color: var(--fill-color);\n",
              "    }\n",
              "    20% {\n",
              "      border-color: transparent;\n",
              "      border-left-color: var(--fill-color);\n",
              "      border-top-color: var(--fill-color);\n",
              "    }\n",
              "    30% {\n",
              "      border-color: transparent;\n",
              "      border-left-color: var(--fill-color);\n",
              "      border-top-color: var(--fill-color);\n",
              "      border-right-color: var(--fill-color);\n",
              "    }\n",
              "    40% {\n",
              "      border-color: transparent;\n",
              "      border-right-color: var(--fill-color);\n",
              "      border-top-color: var(--fill-color);\n",
              "    }\n",
              "    60% {\n",
              "      border-color: transparent;\n",
              "      border-right-color: var(--fill-color);\n",
              "    }\n",
              "    80% {\n",
              "      border-color: transparent;\n",
              "      border-right-color: var(--fill-color);\n",
              "      border-bottom-color: var(--fill-color);\n",
              "    }\n",
              "    90% {\n",
              "      border-color: transparent;\n",
              "      border-bottom-color: var(--fill-color);\n",
              "    }\n",
              "  }\n",
              "</style>\n",
              "\n",
              "  <script>\n",
              "    async function quickchart(key) {\n",
              "      const quickchartButtonEl =\n",
              "        document.querySelector('#' + key + ' button');\n",
              "      quickchartButtonEl.disabled = true;  // To prevent multiple clicks.\n",
              "      quickchartButtonEl.classList.add('colab-df-spinner');\n",
              "      try {\n",
              "        const charts = await google.colab.kernel.invokeFunction(\n",
              "            'suggestCharts', [key], {});\n",
              "      } catch (error) {\n",
              "        console.error('Error during call to suggestCharts:', error);\n",
              "      }\n",
              "      quickchartButtonEl.classList.remove('colab-df-spinner');\n",
              "      quickchartButtonEl.classList.add('colab-df-quickchart-complete');\n",
              "    }\n",
              "    (() => {\n",
              "      let quickchartButtonEl =\n",
              "        document.querySelector('#df-a69f3085-781d-4966-9c60-72becf86f048 button');\n",
              "      quickchartButtonEl.style.display =\n",
              "        google.colab.kernel.accessAllowed ? 'block' : 'none';\n",
              "    })();\n",
              "  </script>\n",
              "</div>\n",
              "    </div>\n",
              "  </div>\n"
            ]
          },
          "metadata": {},
          "execution_count": 14
        }
      ],
      "source": [
        "df[(df['rating'].str.contains('min')) & (df['rating']!=np.nan)]"
      ]
    },
    {
      "cell_type": "markdown",
      "metadata": {
        "id": "TeWnN8mHkhT_"
      },
      "source": [
        "Note:\n",
        "\n",
        "1. It may be noted that the above 3 row have duration as NaN and rating is in min.\n",
        "\n",
        "2. It seems that \"rating\" column is mistaken and filled with \"duration\" column instead.\n",
        "\n",
        "3. To correct it, lets fill Nan with enries of rating in duration column and replace \"No rating\" in rating columns"
      ]
    },
    {
      "cell_type": "code",
      "execution_count": null,
      "metadata": {
        "id": "PUNvpXTj5Qd8"
      },
      "outputs": [],
      "source": [
        "df.loc[df['duration'].isnull(),'duration']=df.loc[df['duration'].isnull(),'duration'].fillna(df['rating'])\n",
        "df.loc[df['rating'].str.contains('min', na=False),'rating']='NR' #NR stands for 'NO Rating'"
      ]
    },
    {
      "cell_type": "code",
      "execution_count": null,
      "metadata": {
        "colab": {
          "base_uri": "https://localhost:8080/",
          "height": 196
        },
        "id": "PDJw4TD4m40z",
        "outputId": "ea40cdcd-fa99-4971-f804-c65d7a79d8cb"
      },
      "outputs": [
        {
          "output_type": "execute_result",
          "data": {
            "text/plain": [
              "     show_id   type                                 title    director  \\\n",
              "5813   s5814  Movie  Louis C.K.: Live at the Comedy Store  Louis C.K.   \n",
              "5541   s5542  Movie                       Louis C.K. 2017  Louis C.K.   \n",
              "5794   s5795  Movie                 Louis C.K.: Hilarious  Louis C.K.   \n",
              "\n",
              "            cast        country          date_added  release_year rating  \\\n",
              "5813  Louis C.K.  United States     August 15, 2016          2015     NR   \n",
              "5541  Louis C.K.  United States       April 4, 2017          2017     NR   \n",
              "5794  Louis C.K.  United States  September 16, 2016          2010     NR   \n",
              "\n",
              "     duration listed_in                                        description  \n",
              "5813   66 min    Movies  The comic puts his trademark hilarious/thought...  \n",
              "5541   74 min    Movies  Louis C.K. muses on religion, eternal love, gi...  \n",
              "5794   84 min    Movies  Emmy-winning comedy writer Louis C.K. brings h...  "
            ],
            "text/html": [
              "\n",
              "  <div id=\"df-533dcbed-aaf0-4e93-bd8d-1a055c15e367\" class=\"colab-df-container\">\n",
              "    <div>\n",
              "<style scoped>\n",
              "    .dataframe tbody tr th:only-of-type {\n",
              "        vertical-align: middle;\n",
              "    }\n",
              "\n",
              "    .dataframe tbody tr th {\n",
              "        vertical-align: top;\n",
              "    }\n",
              "\n",
              "    .dataframe thead th {\n",
              "        text-align: right;\n",
              "    }\n",
              "</style>\n",
              "<table border=\"1\" class=\"dataframe\">\n",
              "  <thead>\n",
              "    <tr style=\"text-align: right;\">\n",
              "      <th></th>\n",
              "      <th>show_id</th>\n",
              "      <th>type</th>\n",
              "      <th>title</th>\n",
              "      <th>director</th>\n",
              "      <th>cast</th>\n",
              "      <th>country</th>\n",
              "      <th>date_added</th>\n",
              "      <th>release_year</th>\n",
              "      <th>rating</th>\n",
              "      <th>duration</th>\n",
              "      <th>listed_in</th>\n",
              "      <th>description</th>\n",
              "    </tr>\n",
              "  </thead>\n",
              "  <tbody>\n",
              "    <tr>\n",
              "      <th>5813</th>\n",
              "      <td>s5814</td>\n",
              "      <td>Movie</td>\n",
              "      <td>Louis C.K.: Live at the Comedy Store</td>\n",
              "      <td>Louis C.K.</td>\n",
              "      <td>Louis C.K.</td>\n",
              "      <td>United States</td>\n",
              "      <td>August 15, 2016</td>\n",
              "      <td>2015</td>\n",
              "      <td>NR</td>\n",
              "      <td>66 min</td>\n",
              "      <td>Movies</td>\n",
              "      <td>The comic puts his trademark hilarious/thought...</td>\n",
              "    </tr>\n",
              "    <tr>\n",
              "      <th>5541</th>\n",
              "      <td>s5542</td>\n",
              "      <td>Movie</td>\n",
              "      <td>Louis C.K. 2017</td>\n",
              "      <td>Louis C.K.</td>\n",
              "      <td>Louis C.K.</td>\n",
              "      <td>United States</td>\n",
              "      <td>April 4, 2017</td>\n",
              "      <td>2017</td>\n",
              "      <td>NR</td>\n",
              "      <td>74 min</td>\n",
              "      <td>Movies</td>\n",
              "      <td>Louis C.K. muses on religion, eternal love, gi...</td>\n",
              "    </tr>\n",
              "    <tr>\n",
              "      <th>5794</th>\n",
              "      <td>s5795</td>\n",
              "      <td>Movie</td>\n",
              "      <td>Louis C.K.: Hilarious</td>\n",
              "      <td>Louis C.K.</td>\n",
              "      <td>Louis C.K.</td>\n",
              "      <td>United States</td>\n",
              "      <td>September 16, 2016</td>\n",
              "      <td>2010</td>\n",
              "      <td>NR</td>\n",
              "      <td>84 min</td>\n",
              "      <td>Movies</td>\n",
              "      <td>Emmy-winning comedy writer Louis C.K. brings h...</td>\n",
              "    </tr>\n",
              "  </tbody>\n",
              "</table>\n",
              "</div>\n",
              "    <div class=\"colab-df-buttons\">\n",
              "\n",
              "  <div class=\"colab-df-container\">\n",
              "    <button class=\"colab-df-convert\" onclick=\"convertToInteractive('df-533dcbed-aaf0-4e93-bd8d-1a055c15e367')\"\n",
              "            title=\"Convert this dataframe to an interactive table.\"\n",
              "            style=\"display:none;\">\n",
              "\n",
              "  <svg xmlns=\"http://www.w3.org/2000/svg\" height=\"24px\" viewBox=\"0 -960 960 960\">\n",
              "    <path d=\"M120-120v-720h720v720H120Zm60-500h600v-160H180v160Zm220 220h160v-160H400v160Zm0 220h160v-160H400v160ZM180-400h160v-160H180v160Zm440 0h160v-160H620v160ZM180-180h160v-160H180v160Zm440 0h160v-160H620v160Z\"/>\n",
              "  </svg>\n",
              "    </button>\n",
              "\n",
              "  <style>\n",
              "    .colab-df-container {\n",
              "      display:flex;\n",
              "      gap: 12px;\n",
              "    }\n",
              "\n",
              "    .colab-df-convert {\n",
              "      background-color: #E8F0FE;\n",
              "      border: none;\n",
              "      border-radius: 50%;\n",
              "      cursor: pointer;\n",
              "      display: none;\n",
              "      fill: #1967D2;\n",
              "      height: 32px;\n",
              "      padding: 0 0 0 0;\n",
              "      width: 32px;\n",
              "    }\n",
              "\n",
              "    .colab-df-convert:hover {\n",
              "      background-color: #E2EBFA;\n",
              "      box-shadow: 0px 1px 2px rgba(60, 64, 67, 0.3), 0px 1px 3px 1px rgba(60, 64, 67, 0.15);\n",
              "      fill: #174EA6;\n",
              "    }\n",
              "\n",
              "    .colab-df-buttons div {\n",
              "      margin-bottom: 4px;\n",
              "    }\n",
              "\n",
              "    [theme=dark] .colab-df-convert {\n",
              "      background-color: #3B4455;\n",
              "      fill: #D2E3FC;\n",
              "    }\n",
              "\n",
              "    [theme=dark] .colab-df-convert:hover {\n",
              "      background-color: #434B5C;\n",
              "      box-shadow: 0px 1px 3px 1px rgba(0, 0, 0, 0.15);\n",
              "      filter: drop-shadow(0px 1px 2px rgba(0, 0, 0, 0.3));\n",
              "      fill: #FFFFFF;\n",
              "    }\n",
              "  </style>\n",
              "\n",
              "    <script>\n",
              "      const buttonEl =\n",
              "        document.querySelector('#df-533dcbed-aaf0-4e93-bd8d-1a055c15e367 button.colab-df-convert');\n",
              "      buttonEl.style.display =\n",
              "        google.colab.kernel.accessAllowed ? 'block' : 'none';\n",
              "\n",
              "      async function convertToInteractive(key) {\n",
              "        const element = document.querySelector('#df-533dcbed-aaf0-4e93-bd8d-1a055c15e367');\n",
              "        const dataTable =\n",
              "          await google.colab.kernel.invokeFunction('convertToInteractive',\n",
              "                                                    [key], {});\n",
              "        if (!dataTable) return;\n",
              "\n",
              "        const docLinkHtml = 'Like what you see? Visit the ' +\n",
              "          '<a target=\"_blank\" href=https://colab.research.google.com/notebooks/data_table.ipynb>data table notebook</a>'\n",
              "          + ' to learn more about interactive tables.';\n",
              "        element.innerHTML = '';\n",
              "        dataTable['output_type'] = 'display_data';\n",
              "        await google.colab.output.renderOutput(dataTable, element);\n",
              "        const docLink = document.createElement('div');\n",
              "        docLink.innerHTML = docLinkHtml;\n",
              "        element.appendChild(docLink);\n",
              "      }\n",
              "    </script>\n",
              "  </div>\n",
              "\n",
              "\n",
              "<div id=\"df-fa98018b-c852-4e98-a040-806232f8ceae\">\n",
              "  <button class=\"colab-df-quickchart\" onclick=\"quickchart('df-fa98018b-c852-4e98-a040-806232f8ceae')\"\n",
              "            title=\"Suggest charts\"\n",
              "            style=\"display:none;\">\n",
              "\n",
              "<svg xmlns=\"http://www.w3.org/2000/svg\" height=\"24px\"viewBox=\"0 0 24 24\"\n",
              "     width=\"24px\">\n",
              "    <g>\n",
              "        <path d=\"M19 3H5c-1.1 0-2 .9-2 2v14c0 1.1.9 2 2 2h14c1.1 0 2-.9 2-2V5c0-1.1-.9-2-2-2zM9 17H7v-7h2v7zm4 0h-2V7h2v10zm4 0h-2v-4h2v4z\"/>\n",
              "    </g>\n",
              "</svg>\n",
              "  </button>\n",
              "\n",
              "<style>\n",
              "  .colab-df-quickchart {\n",
              "      --bg-color: #E8F0FE;\n",
              "      --fill-color: #1967D2;\n",
              "      --hover-bg-color: #E2EBFA;\n",
              "      --hover-fill-color: #174EA6;\n",
              "      --disabled-fill-color: #AAA;\n",
              "      --disabled-bg-color: #DDD;\n",
              "  }\n",
              "\n",
              "  [theme=dark] .colab-df-quickchart {\n",
              "      --bg-color: #3B4455;\n",
              "      --fill-color: #D2E3FC;\n",
              "      --hover-bg-color: #434B5C;\n",
              "      --hover-fill-color: #FFFFFF;\n",
              "      --disabled-bg-color: #3B4455;\n",
              "      --disabled-fill-color: #666;\n",
              "  }\n",
              "\n",
              "  .colab-df-quickchart {\n",
              "    background-color: var(--bg-color);\n",
              "    border: none;\n",
              "    border-radius: 50%;\n",
              "    cursor: pointer;\n",
              "    display: none;\n",
              "    fill: var(--fill-color);\n",
              "    height: 32px;\n",
              "    padding: 0;\n",
              "    width: 32px;\n",
              "  }\n",
              "\n",
              "  .colab-df-quickchart:hover {\n",
              "    background-color: var(--hover-bg-color);\n",
              "    box-shadow: 0 1px 2px rgba(60, 64, 67, 0.3), 0 1px 3px 1px rgba(60, 64, 67, 0.15);\n",
              "    fill: var(--button-hover-fill-color);\n",
              "  }\n",
              "\n",
              "  .colab-df-quickchart-complete:disabled,\n",
              "  .colab-df-quickchart-complete:disabled:hover {\n",
              "    background-color: var(--disabled-bg-color);\n",
              "    fill: var(--disabled-fill-color);\n",
              "    box-shadow: none;\n",
              "  }\n",
              "\n",
              "  .colab-df-spinner {\n",
              "    border: 2px solid var(--fill-color);\n",
              "    border-color: transparent;\n",
              "    border-bottom-color: var(--fill-color);\n",
              "    animation:\n",
              "      spin 1s steps(1) infinite;\n",
              "  }\n",
              "\n",
              "  @keyframes spin {\n",
              "    0% {\n",
              "      border-color: transparent;\n",
              "      border-bottom-color: var(--fill-color);\n",
              "      border-left-color: var(--fill-color);\n",
              "    }\n",
              "    20% {\n",
              "      border-color: transparent;\n",
              "      border-left-color: var(--fill-color);\n",
              "      border-top-color: var(--fill-color);\n",
              "    }\n",
              "    30% {\n",
              "      border-color: transparent;\n",
              "      border-left-color: var(--fill-color);\n",
              "      border-top-color: var(--fill-color);\n",
              "      border-right-color: var(--fill-color);\n",
              "    }\n",
              "    40% {\n",
              "      border-color: transparent;\n",
              "      border-right-color: var(--fill-color);\n",
              "      border-top-color: var(--fill-color);\n",
              "    }\n",
              "    60% {\n",
              "      border-color: transparent;\n",
              "      border-right-color: var(--fill-color);\n",
              "    }\n",
              "    80% {\n",
              "      border-color: transparent;\n",
              "      border-right-color: var(--fill-color);\n",
              "      border-bottom-color: var(--fill-color);\n",
              "    }\n",
              "    90% {\n",
              "      border-color: transparent;\n",
              "      border-bottom-color: var(--fill-color);\n",
              "    }\n",
              "  }\n",
              "</style>\n",
              "\n",
              "  <script>\n",
              "    async function quickchart(key) {\n",
              "      const quickchartButtonEl =\n",
              "        document.querySelector('#' + key + ' button');\n",
              "      quickchartButtonEl.disabled = true;  // To prevent multiple clicks.\n",
              "      quickchartButtonEl.classList.add('colab-df-spinner');\n",
              "      try {\n",
              "        const charts = await google.colab.kernel.invokeFunction(\n",
              "            'suggestCharts', [key], {});\n",
              "      } catch (error) {\n",
              "        console.error('Error during call to suggestCharts:', error);\n",
              "      }\n",
              "      quickchartButtonEl.classList.remove('colab-df-spinner');\n",
              "      quickchartButtonEl.classList.add('colab-df-quickchart-complete');\n",
              "    }\n",
              "    (() => {\n",
              "      let quickchartButtonEl =\n",
              "        document.querySelector('#df-fa98018b-c852-4e98-a040-806232f8ceae button');\n",
              "      quickchartButtonEl.style.display =\n",
              "        google.colab.kernel.accessAllowed ? 'block' : 'none';\n",
              "    })();\n",
              "  </script>\n",
              "</div>\n",
              "    </div>\n",
              "  </div>\n"
            ]
          },
          "metadata": {},
          "execution_count": 16
        }
      ],
      "source": [
        " df.loc[[5813,5541,5794]]"
      ]
    },
    {
      "cell_type": "code",
      "execution_count": null,
      "metadata": {
        "id": "vKQ1P0uF5Qd8"
      },
      "outputs": [],
      "source": [
        "df['rating'].fillna('NR',inplace=True) #fill nan with NR: No rating"
      ]
    },
    {
      "cell_type": "markdown",
      "metadata": {
        "id": "CdgFbUiELvae"
      },
      "source": [
        "2. Missing value Imputation: date_added Column"
      ]
    },
    {
      "cell_type": "code",
      "execution_count": null,
      "metadata": {
        "id": "5Ut_56pu5Qd8"
      },
      "outputs": [],
      "source": [
        "from datetime import datetime as dt"
      ]
    },
    {
      "cell_type": "code",
      "execution_count": null,
      "metadata": {
        "id": "t0Ay0iHS54YT"
      },
      "outputs": [],
      "source": [
        "##The data type of date_added is str.\n",
        "#It will be better to convert it into datetime format\n",
        "df['date_added']=df['date_added'].astype('datetime64[ns]')"
      ]
    },
    {
      "cell_type": "markdown",
      "metadata": {
        "id": "FJz6HUBT7NnR"
      },
      "source": [
        "Note:\n",
        "1. date_added is imputed on basis of mode of corrosponding release year\n",
        "2. example if release year is 2015 then we will find mode of date_added group of year 2015"
      ]
    },
    {
      "cell_type": "code",
      "execution_count": null,
      "metadata": {
        "id": "p-EndhOM5Qd8"
      },
      "outputs": [],
      "source": [
        "for i in df[df['date_added'].isnull()]['release_year'].unique():\n",
        "    impute=df[df['release_year']==i]['date_added'].mode()[0]\n",
        "    df.loc[df['release_year']==i,'date_added']=df.loc[df['release_year']==i,'date_added'].fillna(impute)"
      ]
    },
    {
      "cell_type": "markdown",
      "metadata": {
        "id": "P8c52pH6QLR0",
        "outputId": "6e035bf2-9318-4e58-b141-f80b0181d4be"
      },
      "source": [
        "3. Missing value Imputation: Country column\n"
      ]
    },
    {
      "cell_type": "markdown",
      "metadata": {
        "id": "LUTjgW0rQL9e"
      },
      "source": [
        "Technique Used:\n",
        "1. A actor & director usually releases his movie in his own country.\n",
        "2. so we can find mode of country for director  and can use for imputation.\n",
        "3. then we can do the same using actor"
      ]
    },
    {
      "cell_type": "code",
      "execution_count": null,
      "metadata": {
        "colab": {
          "base_uri": "https://localhost:8080/"
        },
        "id": "oFS7bTee5Qd9",
        "outputId": "9606be3b-fd31-497c-9f8f-8c5922237ccc"
      },
      "outputs": [
        {
          "output_type": "execute_result",
          "data": {
            "text/plain": [
              "array(['United States', 'South Africa', nan, 'India',\n",
              "       'United States, Ghana, Burkina Faso, United Kingdom, Germany, Ethiopia',\n",
              "       'United Kingdom', 'Germany, Czech Republic', 'Mexico', 'Turkey',\n",
              "       'Australia', 'United States, India, France', 'Finland',\n",
              "       'China, Canada, United States',\n",
              "       'South Africa, United States, Japan', 'Nigeria', 'Japan',\n",
              "       'Spain, United States', 'France', 'Belgium',\n",
              "       'United Kingdom, United States', 'United States, United Kingdom',\n",
              "       'France, United States', 'South Korea', 'Spain',\n",
              "       'United States, Singapore', 'United Kingdom, Australia, France',\n",
              "       'United Kingdom, Australia, France, United States',\n",
              "       'United States, Canada', 'Germany, United States',\n",
              "       'South Africa, United States', 'United States, Mexico',\n",
              "       'United States, Italy, France, Japan',\n",
              "       'United States, Italy, Romania, United Kingdom',\n",
              "       'Australia, United States', 'Argentina, Venezuela',\n",
              "       'United States, United Kingdom, Canada', 'China, Hong Kong',\n",
              "       'Russia', 'Canada', 'Hong Kong', 'United States, China, Hong Kong',\n",
              "       'Italy, United States', 'United States, Germany',\n",
              "       'United Kingdom, Canada, United States', ', South Korea',\n",
              "       'Ireland', 'India, Nepal',\n",
              "       'New Zealand, Australia, France, United States', 'Italy',\n",
              "       'Italy, Brazil, Greece', 'Argentina', 'Jordan', 'Colombia',\n",
              "       'United States, Japan', 'Belgium, United Kingdom',\n",
              "       'Switzerland, United Kingdom, Australia', 'Israel, United States',\n",
              "       'Canada, United States', 'Brazil', 'Argentina, Spain', 'Taiwan',\n",
              "       'United States, Nigeria', 'Bulgaria, United States',\n",
              "       'Spain, United Kingdom, United States', 'United States, China',\n",
              "       'United States, France',\n",
              "       'Spain, France, United Kingdom, United States',\n",
              "       ', France, Algeria', 'Poland', 'Germany',\n",
              "       'France, Israel, Germany, United States, United Kingdom',\n",
              "       'New Zealand', 'Saudi Arabia', 'Thailand', 'Indonesia',\n",
              "       'Egypt, Denmark, Germany', 'United States, Switzerland',\n",
              "       'Hong Kong, Canada, United States', 'Kuwait, United States',\n",
              "       'France, Canada, United States, Spain',\n",
              "       'France, Netherlands, Singapore', 'France, Belgium',\n",
              "       'Ireland, United States, United Kingdom', 'Egypt', 'Malaysia',\n",
              "       'Israel', 'Australia, New Zealand', 'United Kingdom, Germany',\n",
              "       'Belgium, Netherlands', 'South Korea, Czech Republic',\n",
              "       'Australia, Germany', 'Vietnam', 'United Kingdom, Belgium',\n",
              "       'United Kingdom, Australia, United States',\n",
              "       'France, Japan, United States',\n",
              "       'United Kingdom, Germany, Spain, United States',\n",
              "       'United Kingdom, United States, France, Italy',\n",
              "       'United States, Germany, Canada',\n",
              "       'United States, France, Italy, United Kingdom',\n",
              "       'United States, United Kingdom, Germany, Hungary',\n",
              "       'United States, New Zealand', 'Sweden', 'China', 'Lebanon',\n",
              "       'Romania', 'Finland, Germany', 'Lebanon, Syria', 'Philippines',\n",
              "       'Iceland', 'Denmark', 'United States, India',\n",
              "       'Philippines, Singapore, Indonesia',\n",
              "       'China, United States, Canada', 'Lebanon, United Arab Emirates',\n",
              "       'Canada, United States, Denmark', 'United Arab Emirates',\n",
              "       'Mexico, France, Colombia', 'Netherlands',\n",
              "       'Germany, United States, France', 'United States, Bulgaria',\n",
              "       'United Kingdom, France, Germany, United States',\n",
              "       'Norway, Denmark', 'Syria, France, Lebanon, Qatar',\n",
              "       'United States, Czech Republic', 'Mauritius',\n",
              "       'Canada, South Africa', 'Austria', 'Mexico, Brazil',\n",
              "       'Germany, France', 'Mexico, United States',\n",
              "       'United Kingdom, France, Spain, United States',\n",
              "       'United States, Australia',\n",
              "       'United States, United Kingdom, France', 'United States, Russia',\n",
              "       'United States, United Kingdom, New Zealand',\n",
              "       'Australia, United Kingdom', 'Canada, Nigeria, United States',\n",
              "       'France, United States, United Kingdom, Canada',\n",
              "       'France, United Kingdom', 'India, United Kingdom',\n",
              "       'Canada, United States, Mexico',\n",
              "       'United Kingdom, Germany, United States',\n",
              "       'Czech Republic, United Kingdom, United States',\n",
              "       'China, United Kingdom', 'Italy, United Kingdom', 'China, Taiwan',\n",
              "       'United States, Brazil, Japan, Spain, India',\n",
              "       'United States, China, United Kingdom', 'Cameroon',\n",
              "       'Lebanon, Palestine, Denmark, Qatar', 'Japan, United States',\n",
              "       'Uruguay, Germany', 'Egypt, Saudi Arabia',\n",
              "       'United Kingdom, France, Poland, Germany, United States',\n",
              "       'Ireland, Switzerland, United Kingdom, France, United States',\n",
              "       'United Kingdom, South Africa, France',\n",
              "       'Ireland, United Kingdom, France, Germany',\n",
              "       'Russia, United States', 'United Kingdom, United States, France',\n",
              "       'United Kingdom,', 'United States, India, United Kingdom', 'Kenya',\n",
              "       'Spain, Argentina', 'India, United Kingdom, France, Qatar',\n",
              "       'Belgium, France', 'Argentina, Chile', 'United States, Thailand',\n",
              "       'Chile, Brazil', 'United States, Colombia',\n",
              "       'Canada, United States, United Kingdom', 'Uruguay', 'Luxembourg',\n",
              "       'United States, Cambodia, Romania', 'Bangladesh',\n",
              "       'Spain, Belgium, United States',\n",
              "       'United Kingdom, United States, Australia',\n",
              "       'Canada, United States, France', 'Portugal, United States',\n",
              "       'Portugal, Spain', 'India, United States',\n",
              "       'United Kingdom, Ireland', 'United Kingdom, Spain, United States',\n",
              "       'Hungary, United States', 'United States, South Korea',\n",
              "       'Canada, United States, Cayman Islands', 'India, France',\n",
              "       'France, Canada', 'Canada, Hungary, United States', 'Norway',\n",
              "       'Canada, United Kingdom, United States',\n",
              "       'United Kingdom, Germany, France, United States',\n",
              "       'Denmark, United States', 'Senegal', 'France, Algeria',\n",
              "       'United Kingdom, Finland, Germany, United States, Australia, Japan, France, Ireland',\n",
              "       'Philippines, Canada, United Kingdom, United States',\n",
              "       'Ireland, France, Iceland, United States, Mexico, Belgium, United Kingdom, Hong Kong',\n",
              "       'Singapore', 'Kuwait', 'United States, France, Serbia',\n",
              "       'United States, Italy', 'Spain, Italy',\n",
              "       'United States, Ireland, United Kingdom, India',\n",
              "       'United Kingdom, Singapore', 'Hong Kong, United States',\n",
              "       'United States, Malta, France, United Kingdom',\n",
              "       'United States, China, Canada', 'Canada, United States, Ireland',\n",
              "       'Lebanon, Canada, France', 'Japan, Canada, United States',\n",
              "       'Spain, France, Canada',\n",
              "       'Denmark, Singapore, Canada, United States',\n",
              "       'United States, France, Denmark', 'United States, China, Colombia',\n",
              "       'Spain, Thailand, United States', 'Mexico, Spain',\n",
              "       'Ireland, Luxembourg, Belgium', 'China, United States',\n",
              "       'Canada, Belgium', 'Canada, United Kingdom',\n",
              "       'Lebanon, United Arab Emirates, France, Switzerland, Germany',\n",
              "       'France, Belgium, Italy',\n",
              "       'Lebanon, United States, United Arab Emirates', 'Lebanon, France',\n",
              "       'France, Lebanon', 'France, Lebanon, United Kingdom',\n",
              "       'France, Norway, Lebanon, Belgium',\n",
              "       'Sweden, Czech Republic, United Kingdom, Denmark, Netherlands',\n",
              "       'United States, United Kingdom, India', 'Indonesia, Netherlands',\n",
              "       'Turkey, South Korea', 'Serbia, United States', 'Namibia',\n",
              "       'United Kingdom, Kenya', 'United Kingdom, France, Germany, Spain',\n",
              "       'United Kingdom, France, United States, Belgium, Luxembourg, China, Germany',\n",
              "       'Thailand, United States',\n",
              "       'United States, France, Canada, Belgium', 'United Kingdom, China',\n",
              "       'Germany, China, United Kingdom',\n",
              "       'Australia, New Zealand, United States',\n",
              "       'Hong Kong, Iceland, United States', 'France, Australia, Germany',\n",
              "       'United States, Belgium, Canada, France', 'South Africa, Angola',\n",
              "       'United States, Philippines',\n",
              "       'United States, United Kingdom, Canada, China',\n",
              "       'United States, Canada, United Kingdom', 'Turkey, United States',\n",
              "       'Peru, Germany, Norway', 'Mozambique', 'Brazil, France',\n",
              "       'China, Spain, South Korea, United States', 'Spain, Germany',\n",
              "       'Hong Kong, China', 'France, Belgium, Luxembourg, Cambodia,',\n",
              "       'United Kingdom, Australia', 'Belarus',\n",
              "       'Indonesia, United Kingdom',\n",
              "       'Switzerland, France, Belgium, United States', 'Ghana',\n",
              "       'Spain, France, Canada, United States', 'Chile, Italy',\n",
              "       'United Kingdom, Nigeria', 'Chile', 'France, Egypt',\n",
              "       'Egypt, France', 'France, Brazil, Spain, Belgium',\n",
              "       'Egypt, Algeria', 'Canada, South Korea, United States',\n",
              "       'Nigeria, United Kingdom', 'United States, France, Canada',\n",
              "       'Poland, United States',\n",
              "       'United Arab Emirates, Jordan, Lebanon, Saudi Arabia',\n",
              "       'United States, Mexico, Spain, Malta',\n",
              "       'Saudi Arabia, United Arab Emirates', 'Zimbabwe',\n",
              "       'United Kingdom, Germany, United Arab Emirates, New Zealand',\n",
              "       'Romania, United States', 'Canada, Nigeria',\n",
              "       'Saudi Arabia, Netherlands, Germany, Jordan, United Arab Emirates, United States',\n",
              "       'United Kingdom, Spain', 'Finland, France',\n",
              "       'United Kingdom, Germany, United States, France',\n",
              "       'India, United Kingdom, China, Canada, Japan, South Korea, United States',\n",
              "       'Italy, United Kingdom, France', 'United States, Mexico, Colombia',\n",
              "       'Turkey, India', 'Italy, Turkey',\n",
              "       'United Kingdom, United States, Japan',\n",
              "       'France, Belgium, United States',\n",
              "       'Puerto Rico, United States, Colombia', 'Uruguay, Argentina',\n",
              "       'United States, United Kingdom, Japan', 'United States, Argentina',\n",
              "       'United Kingdom, Italy', 'Ireland, United Kingdom',\n",
              "       'United Kingdom, France, Belgium, Canada, United States',\n",
              "       'Netherlands, Germany, Denmark, United Kingdom', 'Hungary',\n",
              "       'Austria, Germany', 'Taiwan, China',\n",
              "       'United Kingdom, United States, Ireland',\n",
              "       'South Korea, United States', 'Brazil, United Kingdom',\n",
              "       'Pakistan, United States', 'Romania, France, Switzerland, Germany',\n",
              "       'Romania, United Kingdom', 'France, Malta, United States',\n",
              "       'Cyprus',\n",
              "       'United Kingdom, France, Belgium, Ireland, United States',\n",
              "       'United States, Norway, Canada', 'Kenya, United States',\n",
              "       'France, South Korea, Japan, United States', 'Taiwan, Malaysia',\n",
              "       'Uruguay, Argentina, Germany, Spain',\n",
              "       'United States, United Kingdom, France, Germany, Japan',\n",
              "       'United States, France, Japan',\n",
              "       'United Kingdom, France, United States',\n",
              "       'Spain, France, United States',\n",
              "       'Indonesia, South Korea, Singapore', 'United States, Spain',\n",
              "       'Netherlands, Germany, Italy, Canada',\n",
              "       'Spain, Germany, Denmark, United States', 'Norway, Sweden',\n",
              "       'South Korea, Canada, United States, China',\n",
              "       'Argentina, Uruguay, Serbia', 'France, Japan',\n",
              "       'Mauritius, South Africa', 'United States, Poland',\n",
              "       'United Kingdom, United States, Germany, Denmark, Belgium, Japan',\n",
              "       'India, Germany', 'India, United Kingdom, Canada, United States',\n",
              "       'Philippines, United States', 'Romania, Bulgaria, Hungary',\n",
              "       'Uruguay, Guatemala', 'France, Senegal, Belgium',\n",
              "       'United Kingdom, Canada', 'Mexico, United States, Spain, Colombia',\n",
              "       'Canada, Norway', 'Singapore, United States',\n",
              "       'Finland, Germany, Belgium', 'United Kingdom, France',\n",
              "       'United States, Chile', 'United Kingdom, Japan, United States',\n",
              "       'Spain, United Kingdom', 'Argentina, United States, Mexico',\n",
              "       'United States, South Korea, Japan', 'Canada, Australia',\n",
              "       'United Kingdom, Hungary, Australia', 'Italy, Belgium',\n",
              "       'United States, United Kingdom, Germany', 'Switzerland',\n",
              "       'Singapore, Malaysia',\n",
              "       'France, Belgium, Luxembourg, Romania, Canada, United States',\n",
              "       'South Africa, Nigeria', 'Spain, France',\n",
              "       'United Kingdom, Hong Kong', 'Pakistan', 'Brazil, United States',\n",
              "       'Denmark, Brazil, France, Portugal, Sweden', 'India, Turkey',\n",
              "       'Malaysia, Singapore, Hong Kong', 'Philippines, Singapore',\n",
              "       'Australia, Canada', 'Taiwan, China, France, United States',\n",
              "       'Germany, Italy', 'Colombia, Peru, United Kingdom',\n",
              "       'Thailand, China, United States', 'Argentina, United States',\n",
              "       'Sweden, United States', 'Uruguay, Spain, Mexico',\n",
              "       'France, Luxembourg, Canada', 'Denmark, Spain', 'Chile, Argentina',\n",
              "       'United Kingdom, Belgium, Sweden', 'Canada, Brazil',\n",
              "       'Italy, France', 'Canada, Germany',\n",
              "       'Pakistan, United Arab Emirates', 'Ghana, United States',\n",
              "       'Mexico, Finland', 'United Arab Emirates, United Kingdom, India',\n",
              "       'Netherlands, Belgium', 'United States, Taiwan',\n",
              "       'Austria, Iraq, United States', 'United Kingdom, Malawi',\n",
              "       'Paraguay, Argentina', 'United Kingdom, Russia, United States',\n",
              "       'India, Pakistan', 'Indonesia, Singapore', 'Spain, Belgium',\n",
              "       'Iceland, Sweden, Belgium', 'Croatia', 'Uruguay, Argentina, Spain',\n",
              "       'United Kingdom, Ireland, United States',\n",
              "       'Canada, Germany, France, United States', 'United Kingdom, Japan',\n",
              "       'Norway, Denmark, Netherlands, Sweden',\n",
              "       'Hong Kong, China, United States', 'Ireland, Canada',\n",
              "       'Italy, Switzerland, France, Germany', 'Mexico, Netherlands',\n",
              "       'United States, Sweden', 'Germany, France, Russia',\n",
              "       'France, Iran, United States', 'United Kingdom, India',\n",
              "       'Russia, Poland, Serbia', 'Spain, Portugal', 'Peru',\n",
              "       'Mexico, Argentina',\n",
              "       'United Kingdom, Canada, United States, Cayman Islands',\n",
              "       'Indonesia, United States',\n",
              "       'United States, Israel, United Kingdom, Canada',\n",
              "       'Norway, Iceland, United States', 'Czech Republic, United States',\n",
              "       'United Kingdom, India, United States',\n",
              "       'United Kingdom, West Germany', 'India, Australia',\n",
              "       'United States,', 'Belgium, United Kingdom, United States',\n",
              "       'India, Germany, Austria',\n",
              "       'United States, Brazil, South Korea, Mexico, Japan, Germany',\n",
              "       'Spain, Mexico', 'China, Japan', 'Argentina, France',\n",
              "       'China, United States, United Kingdom',\n",
              "       'France, Luxembourg, United States',\n",
              "       'China, United States, Australia', 'Colombia, Mexico',\n",
              "       'United States, Canada, Ireland', 'Chile, Peru',\n",
              "       'Argentina, Italy', 'Canada, Japan, United States',\n",
              "       'United Kingdom, Canada, United States, Germany',\n",
              "       'Italy, Switzerland, Albania, Poland',\n",
              "       'United States, Japan, Canada', 'Cambodia',\n",
              "       'Italy, United States, Argentina',\n",
              "       'Saudi Arabia, Syria, Egypt, Lebanon, Kuwait',\n",
              "       'United States, Canada, Indonesia, United Kingdom, China, Singapore',\n",
              "       'Spain, Colombia',\n",
              "       'United Kingdom, South Africa, Australia, United States',\n",
              "       'Bulgaria', 'Argentina, Brazil, France, Poland, Germany, Denmark',\n",
              "       'United Kingdom, Spain, United States, Germany',\n",
              "       'Philippines, Qatar', 'Netherlands, Belgium, Germany, Jordan',\n",
              "       'United Arab Emirates, United States', 'Norway, Germany, Sweden',\n",
              "       'South Korea, China', 'Georgia', 'Soviet Union, India',\n",
              "       'Australia, United Arab Emirates', 'Canada, Germany, South Africa',\n",
              "       'South Korea, China, United States', 'India, Soviet Union',\n",
              "       'India, Mexico', 'Georgia, Germany, France',\n",
              "       'United Arab Emirates, Romania', 'India, Malaysia',\n",
              "       'Germany, Jordan, Netherlands', 'Turkey, France, Germany, Poland',\n",
              "       'Greece, United States', 'France, United Kingdom, United States',\n",
              "       'Norway, Germany', 'France, Morocco', 'Cambodia, United States',\n",
              "       'United States, Denmark', 'United States, Colombia, Mexico',\n",
              "       'United Kingdom, Italy, Israel, Peru, United States',\n",
              "       'Argentina, Uruguay, Spain, France',\n",
              "       'United Kingdom, France, United States, Belgium',\n",
              "       'France, Canada, China, Cambodia',\n",
              "       'United Kingdom, France, Belgium, United States', 'Chile, France',\n",
              "       'Netherlands, United States', 'France, United Kingdom, India',\n",
              "       'Czech Republic, Slovakia', 'Singapore, France',\n",
              "       'Spain, Switzerland', 'United States, Australia, China',\n",
              "       'South Africa, United States, Germany',\n",
              "       'United States, United Kingdom, Australia',\n",
              "       'Spain, Italy, Argentina', 'Chile, Spain, Argentina, Germany',\n",
              "       'West Germany', 'Austria, Czech Republic', 'Lebanon, Qatar',\n",
              "       'United Kingdom, Jordan, Qatar, Iran',\n",
              "       'France, South Korea, Japan', 'Israel, Germany, France',\n",
              "       'Canada, Japan, Netherlands', 'United States, Hungary',\n",
              "       'France, Germany', 'France, Qatar',\n",
              "       'United Kingdom, Germany, Canada', 'Ireland, South Africa',\n",
              "       'Chile, United States, France', 'Belgium, France, Netherlands',\n",
              "       'United Kingdom, Ukraine, United States',\n",
              "       'Germany, Australia, France, China', 'Norway, United States',\n",
              "       'United States, Bermuda, Ecuador',\n",
              "       'United States, Hungary, Ireland, Canada',\n",
              "       'United Kingdom, Egypt, United States',\n",
              "       'United States, France, United Kingdom', 'Spain, Mexico, France',\n",
              "       'United States, South Africa', 'Hong Kong, China, Singapore',\n",
              "       'South Africa, China, United States', 'Denmark, France, Poland',\n",
              "       'New Zealand, United Kingdom',\n",
              "       'Netherlands, Denmark, South Africa', 'Iran, France',\n",
              "       'United Kingdom, United States, France, Germany',\n",
              "       'Australia, France', 'Ireland, United Kingdom, United States',\n",
              "       'United Kingdom, France, Germany', 'Canada, Luxembourg',\n",
              "       'Brazil, Netherlands, United States, Colombia, Austria, Germany',\n",
              "       'France, Canada, Belgium', 'Canada, France',\n",
              "       'Bulgaria, United States, Spain, Canada', 'Sweden, Netherlands',\n",
              "       'France, United States, Mexico',\n",
              "       'Australia, United Kingdom, United Arab Emirates, Canada',\n",
              "       'Australia, Armenia, Japan, Jordan, Mexico, Mongolia, New Zealand, Philippines, South Africa, Sweden, United States, Uruguay',\n",
              "       'India, Iran', 'France, Belgium, Spain',\n",
              "       'Denmark, Sweden, Israel, United States', 'United States, Iceland',\n",
              "       'United Kingdom, Russia',\n",
              "       'United States, Israel, Italy, South Africa',\n",
              "       'Netherlands, Denmark, France, Germany', 'South Korea, Japan',\n",
              "       'United Kingdom, Pakistan', 'France, New Zealand',\n",
              "       'United Kingdom, Czech Republic, United States, Germany, Bahamas',\n",
              "       'China, Germany, India, United States', 'Germany, Sri Lanka',\n",
              "       'United States, India, Bangladesh',\n",
              "       'United States, Canada, France', 'Brazil, France, Germany',\n",
              "       'Germany, United States, Hong Kong, Singapore',\n",
              "       'France, Germany, Switzerland',\n",
              "       'Germany, France, Luxembourg, United Kingdom, United States',\n",
              "       'United Kingdom, Canada, Italy', 'Czech Republic, France',\n",
              "       'Taiwan, Hong Kong, United States, China', 'Germany, Australia',\n",
              "       'United Kingdom, Poland, United States', 'Denmark, Zimbabwe',\n",
              "       'United Kingdom, South Africa',\n",
              "       'Finland, Sweden, Norway, Latvia, Germany',\n",
              "       'South Africa, United States, New Zealand, Canada',\n",
              "       'United States, Italy, United Kingdom, Liechtenstein',\n",
              "       'Denmark, France, Belgium, Italy, Netherlands, United States, United Kingdom',\n",
              "       'United States, Australia, Mexico',\n",
              "       'United Kingdom, Czech Republic, Germany, United States',\n",
              "       'France, China, Japan, United States',\n",
              "       'United States, South Korea, China', 'Germany, Belgium',\n",
              "       'Pakistan, Norway, United States',\n",
              "       'United States, Canada, Belgium, United Kingdom', 'Venezuela',\n",
              "       'Canada, France, Italy, Morocco, United States',\n",
              "       'Canada, Spain, France', 'United States, Indonesia',\n",
              "       'Spain, France, Italy',\n",
              "       'United Arab Emirates, United States, United Kingdom',\n",
              "       'United Kingdom, Israel, Russia', 'Spain, Cuba',\n",
              "       'United States, Brazil', 'United States, France, Mexico',\n",
              "       'United States, Nicaragua',\n",
              "       'United Kingdom, United States, Spain, Germany, Greece, Canada',\n",
              "       'Italy, Canada, France',\n",
              "       'United Kingdom, Denmark, Canada, Croatia', 'Italy, Germany',\n",
              "       'United States, France, United Kingdom, Japan',\n",
              "       'United States, United Kingdom, Denmark, Sweden',\n",
              "       'United States, United Kingdom, Italy',\n",
              "       'United States, France, Canada, Spain',\n",
              "       'Russia, United States, China', 'United States, Canada, Germany',\n",
              "       'Ireland, United States', 'United States, United Arab Emirates',\n",
              "       'United States, Ireland',\n",
              "       'Ireland, United Kingdom, Italy, United States', 'Poland,',\n",
              "       'Slovenia, Croatia, Germany, Czech Republic, Qatar',\n",
              "       'Canada, United Kingdom, Netherlands',\n",
              "       'United States, Spain, Germany', 'India, Japan',\n",
              "       'China, South Korea, United States',\n",
              "       'United Kingdom, France, Belgium',\n",
              "       'Canada, Ireland, United States',\n",
              "       'United Kingdom, United States, Dominican Republic',\n",
              "       'United States, Senegal', 'Germany, United Kingdom, United States',\n",
              "       'South Africa, Germany, Netherlands, France',\n",
              "       'Canada, United States, United Kingdom, France, Luxembourg',\n",
              "       'Ireland, United States, France', 'Germany, United States, Canada',\n",
              "       'United Kingdom, Germany, Canada, United States',\n",
              "       'United States, France, Canada, Lebanon, Qatar',\n",
              "       'Netherlands, Belgium, United Kingdom, United States',\n",
              "       'France, Belgium, China, United States',\n",
              "       'United States, Chile, Israel',\n",
              "       'United Kingdom, Norway, Denmark, Germany, Sweden',\n",
              "       'Norway, Denmark, Sweden', 'China, India, Nepal',\n",
              "       'Colombia, Mexico, United States', 'United Kingdom, South Korea',\n",
              "       'Denmark, China', 'United States, Greece, Brazil',\n",
              "       'South Korea, France',\n",
              "       'United States, Australia, Samoa, United Kingdom',\n",
              "       'Germany, United Kingdom', 'Argentina, Chile, Peru',\n",
              "       'Turkey, Azerbaijan', 'Poland, West Germany',\n",
              "       'Germany, United States, Sweden', 'Canada, Spain',\n",
              "       'United States, Cambodia', 'United States, Greece',\n",
              "       'Norway, United Kingdom, France, Ireland',\n",
              "       'United Kingdom, Poland', 'Israel, Sweden, Germany, Netherlands',\n",
              "       'Switzerland, France', 'Italy, India', 'United States, Botswana',\n",
              "       'Chile, Argentina, France, Spain, United States',\n",
              "       'United States, India, South Korea, China',\n",
              "       'Denmark, Germany, Belgium, United Kingdom, France',\n",
              "       'Denmark, Germany, Belgium, United Kingdom, France, Sweden',\n",
              "       'France, Switzerland, Spain, United States, United Arab Emirates',\n",
              "       'Brazil, India, China, United States',\n",
              "       'Denmark, France, United States, Sweden', 'Australia, Iraq',\n",
              "       'China, Morocco, Hong Kong', 'Canada, United States, Germany',\n",
              "       'United Kingdom, Thailand', 'Venezuela, Colombia',\n",
              "       'Colombia, United States',\n",
              "       'France, Germany, Czech Republic, Belgium',\n",
              "       'Switzerland, Vatican City, Italy, Germany, France',\n",
              "       'Portugal, France, Poland, United States',\n",
              "       'United States, New Zealand, Japan',\n",
              "       'United States, Netherlands, Japan, France', 'India, Switzerland',\n",
              "       'Canada, India', 'United States, Morocco',\n",
              "       'Singapore, Japan, France',\n",
              "       'Canada, Mexico, Germany, South Africa',\n",
              "       'United Kingdom, United States, Canada',\n",
              "       'Germany, France, United States, Canada, United Kingdom',\n",
              "       'United States, Uruguay', 'India, Canada',\n",
              "       'Ireland, Canada, United Kingdom, United States',\n",
              "       'United States, Germany, Australia', 'Australia, France, Ireland',\n",
              "       'Australia, India', 'United States, United Kingdom, Canada, Japan',\n",
              "       'Sweden, United Kingdom, Finland', 'Hong Kong, Taiwan',\n",
              "       'United States, United Kingdom, Spain, South Korea', 'Guatemala',\n",
              "       'Ukraine',\n",
              "       'Italy, South Africa, West Germany, Australia, United States',\n",
              "       'United States, Germany, United Kingdom, Australia',\n",
              "       'Italy, France, Switzerland', 'Canada, France, United States',\n",
              "       'Switzerland, United States', 'Thailand, Canada, United States',\n",
              "       'China, Hong Kong, United States', 'United Kingdom, New Zealand',\n",
              "       'Czech Republic, United Kingdom, France',\n",
              "       'Australia, United Kingdom, Canada', 'Jamaica, United States',\n",
              "       'Australia, United Kingdom, United States, New Zealand, Italy, France',\n",
              "       'France, United States, Canada',\n",
              "       'United Kingdom, France, Canada, Belgium, United States',\n",
              "       'Denmark, United Kingdom, Sweden', 'United States, Hong Kong',\n",
              "       'United States, Kazakhstan',\n",
              "       'Argentina, France, United States, Germany, Qatar',\n",
              "       'United States, Germany, United Kingdom',\n",
              "       'United States, Germany, United Kingdom, Italy',\n",
              "       'United States, New Zealand, United Kingdom',\n",
              "       'Finland, United States', 'Spain, France, Uruguay',\n",
              "       'France, Canada, United States', 'United States, Canada, China',\n",
              "       'Ireland, Canada, Luxembourg, United States, United Kingdom, Philippines, India',\n",
              "       'United States, Czech Republic, United Kingdom', 'Israel, Germany',\n",
              "       'Mexico, France',\n",
              "       'Israel, Germany, Poland, Luxembourg, Belgium, France, United States',\n",
              "       'Austria, United States', 'United Kingdom, Lithuania',\n",
              "       'United States, Greece, United Kingdom',\n",
              "       'United Kingdom, China, United States, India',\n",
              "       'United States, Sweden, Norway',\n",
              "       'United Kingdom, United States, Morocco',\n",
              "       'United States, United Kingdom, Morocco',\n",
              "       'Spain, Canada, United States',\n",
              "       'United States, India, United Arab Emirates',\n",
              "       'United Kingdom, Canada, France, United States',\n",
              "       'India, Germany, France',\n",
              "       'Belgium, Ireland, Netherlands, Germany, Afghanistan',\n",
              "       'France, Canada, Italy, United States, China',\n",
              "       'Ireland, United Kingdom, Greece, France, Netherlands',\n",
              "       'Denmark, Indonesia, Finland, Norway, United Kingdom, Israel, France, United States, Germany, Netherlands',\n",
              "       'New Zealand, United States',\n",
              "       'United States, Australia, South Africa, United Kingdom',\n",
              "       'United States, Germany, Mexico',\n",
              "       'Somalia, Kenya, Sudan, South Africa, United States',\n",
              "       'United States, Canada, Japan, Panama',\n",
              "       'United Kingdom, Spain, Belgium', 'Serbia, South Korea, Slovenia',\n",
              "       'Denmark, United Kingdom, South Africa, Sweden, Belgium',\n",
              "       'Germany, Canada, United States',\n",
              "       'Ireland, Canada, United States, United Kingdom',\n",
              "       'New Zealand, United Kingdom, Australia',\n",
              "       'United Kingdom, Australia, Canada, United States',\n",
              "       'Germany, United States, Italy', 'United States, Venezuela',\n",
              "       'United Kingdom, Canada, Japan',\n",
              "       'United Kingdom, United States, Czech Republic',\n",
              "       'United Kingdom, China, United States',\n",
              "       'United Kingdom, Brazil, Germany',\n",
              "       'United Kingdom, Namibia, South Africa, Zimbabwe, United States',\n",
              "       'Canada, United States, India, United Kingdom',\n",
              "       'Switzerland, United Kingdom, United States',\n",
              "       'United Kingdom, India, Sweden',\n",
              "       'United States, Brazil, India, Uganda, China',\n",
              "       'Peru, United States, United Kingdom',\n",
              "       'Germany, United States, United Kingdom, Canada',\n",
              "       'Canada, India, Thailand, United States, United Arab Emirates',\n",
              "       'United States, East Germany, West Germany',\n",
              "       'France, Netherlands, South Africa, Finland',\n",
              "       'Egypt, Austria, United States', 'Russia, Spain',\n",
              "       'Croatia, Slovenia, Serbia, Montenegro', 'Japan, Canada',\n",
              "       'United States, France, South Korea, Indonesia',\n",
              "       'United Arab Emirates, Jordan'], dtype=object)"
            ]
          },
          "metadata": {},
          "execution_count": 21
        }
      ],
      "source": [
        "df['country'].unique()"
      ]
    },
    {
      "cell_type": "markdown",
      "metadata": {
        "id": "rDRzUyAM5Qd9"
      },
      "source": [
        "Remarks:\n",
        "1. Country name are present as Nested list.\n",
        "2. we need to find mode of country for each director/cast\n",
        "3. hence lets unnest in a seperate variable"
      ]
    },
    {
      "cell_type": "code",
      "execution_count": null,
      "metadata": {
        "colab": {
          "base_uri": "https://localhost:8080/",
          "height": 206
        },
        "id": "Nb-767omMuFD",
        "outputId": "e08d1140-994f-4e31-e4ed-818b2f5e3046"
      },
      "outputs": [
        {
          "output_type": "execute_result",
          "data": {
            "text/plain": [
              "          director          country\n",
              "0  Kirsten Johnson  [United States]\n",
              "1              NaN   [South Africa]\n",
              "2  Julien Leclercq              NaN\n",
              "3              NaN              NaN\n",
              "4              NaN          [India]"
            ],
            "text/html": [
              "\n",
              "  <div id=\"df-c0a80585-443c-48d0-961f-b5a6a9d8efc1\" class=\"colab-df-container\">\n",
              "    <div>\n",
              "<style scoped>\n",
              "    .dataframe tbody tr th:only-of-type {\n",
              "        vertical-align: middle;\n",
              "    }\n",
              "\n",
              "    .dataframe tbody tr th {\n",
              "        vertical-align: top;\n",
              "    }\n",
              "\n",
              "    .dataframe thead th {\n",
              "        text-align: right;\n",
              "    }\n",
              "</style>\n",
              "<table border=\"1\" class=\"dataframe\">\n",
              "  <thead>\n",
              "    <tr style=\"text-align: right;\">\n",
              "      <th></th>\n",
              "      <th>director</th>\n",
              "      <th>country</th>\n",
              "    </tr>\n",
              "  </thead>\n",
              "  <tbody>\n",
              "    <tr>\n",
              "      <th>0</th>\n",
              "      <td>Kirsten Johnson</td>\n",
              "      <td>[United States]</td>\n",
              "    </tr>\n",
              "    <tr>\n",
              "      <th>1</th>\n",
              "      <td>NaN</td>\n",
              "      <td>[South Africa]</td>\n",
              "    </tr>\n",
              "    <tr>\n",
              "      <th>2</th>\n",
              "      <td>Julien Leclercq</td>\n",
              "      <td>NaN</td>\n",
              "    </tr>\n",
              "    <tr>\n",
              "      <th>3</th>\n",
              "      <td>NaN</td>\n",
              "      <td>NaN</td>\n",
              "    </tr>\n",
              "    <tr>\n",
              "      <th>4</th>\n",
              "      <td>NaN</td>\n",
              "      <td>[India]</td>\n",
              "    </tr>\n",
              "  </tbody>\n",
              "</table>\n",
              "</div>\n",
              "    <div class=\"colab-df-buttons\">\n",
              "\n",
              "  <div class=\"colab-df-container\">\n",
              "    <button class=\"colab-df-convert\" onclick=\"convertToInteractive('df-c0a80585-443c-48d0-961f-b5a6a9d8efc1')\"\n",
              "            title=\"Convert this dataframe to an interactive table.\"\n",
              "            style=\"display:none;\">\n",
              "\n",
              "  <svg xmlns=\"http://www.w3.org/2000/svg\" height=\"24px\" viewBox=\"0 -960 960 960\">\n",
              "    <path d=\"M120-120v-720h720v720H120Zm60-500h600v-160H180v160Zm220 220h160v-160H400v160Zm0 220h160v-160H400v160ZM180-400h160v-160H180v160Zm440 0h160v-160H620v160ZM180-180h160v-160H180v160Zm440 0h160v-160H620v160Z\"/>\n",
              "  </svg>\n",
              "    </button>\n",
              "\n",
              "  <style>\n",
              "    .colab-df-container {\n",
              "      display:flex;\n",
              "      gap: 12px;\n",
              "    }\n",
              "\n",
              "    .colab-df-convert {\n",
              "      background-color: #E8F0FE;\n",
              "      border: none;\n",
              "      border-radius: 50%;\n",
              "      cursor: pointer;\n",
              "      display: none;\n",
              "      fill: #1967D2;\n",
              "      height: 32px;\n",
              "      padding: 0 0 0 0;\n",
              "      width: 32px;\n",
              "    }\n",
              "\n",
              "    .colab-df-convert:hover {\n",
              "      background-color: #E2EBFA;\n",
              "      box-shadow: 0px 1px 2px rgba(60, 64, 67, 0.3), 0px 1px 3px 1px rgba(60, 64, 67, 0.15);\n",
              "      fill: #174EA6;\n",
              "    }\n",
              "\n",
              "    .colab-df-buttons div {\n",
              "      margin-bottom: 4px;\n",
              "    }\n",
              "\n",
              "    [theme=dark] .colab-df-convert {\n",
              "      background-color: #3B4455;\n",
              "      fill: #D2E3FC;\n",
              "    }\n",
              "\n",
              "    [theme=dark] .colab-df-convert:hover {\n",
              "      background-color: #434B5C;\n",
              "      box-shadow: 0px 1px 3px 1px rgba(0, 0, 0, 0.15);\n",
              "      filter: drop-shadow(0px 1px 2px rgba(0, 0, 0, 0.3));\n",
              "      fill: #FFFFFF;\n",
              "    }\n",
              "  </style>\n",
              "\n",
              "    <script>\n",
              "      const buttonEl =\n",
              "        document.querySelector('#df-c0a80585-443c-48d0-961f-b5a6a9d8efc1 button.colab-df-convert');\n",
              "      buttonEl.style.display =\n",
              "        google.colab.kernel.accessAllowed ? 'block' : 'none';\n",
              "\n",
              "      async function convertToInteractive(key) {\n",
              "        const element = document.querySelector('#df-c0a80585-443c-48d0-961f-b5a6a9d8efc1');\n",
              "        const dataTable =\n",
              "          await google.colab.kernel.invokeFunction('convertToInteractive',\n",
              "                                                    [key], {});\n",
              "        if (!dataTable) return;\n",
              "\n",
              "        const docLinkHtml = 'Like what you see? Visit the ' +\n",
              "          '<a target=\"_blank\" href=https://colab.research.google.com/notebooks/data_table.ipynb>data table notebook</a>'\n",
              "          + ' to learn more about interactive tables.';\n",
              "        element.innerHTML = '';\n",
              "        dataTable['output_type'] = 'display_data';\n",
              "        await google.colab.output.renderOutput(dataTable, element);\n",
              "        const docLink = document.createElement('div');\n",
              "        docLink.innerHTML = docLinkHtml;\n",
              "        element.appendChild(docLink);\n",
              "      }\n",
              "    </script>\n",
              "  </div>\n",
              "\n",
              "\n",
              "<div id=\"df-c3dd32cb-07b8-40e2-8b05-19bd650dc65f\">\n",
              "  <button class=\"colab-df-quickchart\" onclick=\"quickchart('df-c3dd32cb-07b8-40e2-8b05-19bd650dc65f')\"\n",
              "            title=\"Suggest charts\"\n",
              "            style=\"display:none;\">\n",
              "\n",
              "<svg xmlns=\"http://www.w3.org/2000/svg\" height=\"24px\"viewBox=\"0 0 24 24\"\n",
              "     width=\"24px\">\n",
              "    <g>\n",
              "        <path d=\"M19 3H5c-1.1 0-2 .9-2 2v14c0 1.1.9 2 2 2h14c1.1 0 2-.9 2-2V5c0-1.1-.9-2-2-2zM9 17H7v-7h2v7zm4 0h-2V7h2v10zm4 0h-2v-4h2v4z\"/>\n",
              "    </g>\n",
              "</svg>\n",
              "  </button>\n",
              "\n",
              "<style>\n",
              "  .colab-df-quickchart {\n",
              "      --bg-color: #E8F0FE;\n",
              "      --fill-color: #1967D2;\n",
              "      --hover-bg-color: #E2EBFA;\n",
              "      --hover-fill-color: #174EA6;\n",
              "      --disabled-fill-color: #AAA;\n",
              "      --disabled-bg-color: #DDD;\n",
              "  }\n",
              "\n",
              "  [theme=dark] .colab-df-quickchart {\n",
              "      --bg-color: #3B4455;\n",
              "      --fill-color: #D2E3FC;\n",
              "      --hover-bg-color: #434B5C;\n",
              "      --hover-fill-color: #FFFFFF;\n",
              "      --disabled-bg-color: #3B4455;\n",
              "      --disabled-fill-color: #666;\n",
              "  }\n",
              "\n",
              "  .colab-df-quickchart {\n",
              "    background-color: var(--bg-color);\n",
              "    border: none;\n",
              "    border-radius: 50%;\n",
              "    cursor: pointer;\n",
              "    display: none;\n",
              "    fill: var(--fill-color);\n",
              "    height: 32px;\n",
              "    padding: 0;\n",
              "    width: 32px;\n",
              "  }\n",
              "\n",
              "  .colab-df-quickchart:hover {\n",
              "    background-color: var(--hover-bg-color);\n",
              "    box-shadow: 0 1px 2px rgba(60, 64, 67, 0.3), 0 1px 3px 1px rgba(60, 64, 67, 0.15);\n",
              "    fill: var(--button-hover-fill-color);\n",
              "  }\n",
              "\n",
              "  .colab-df-quickchart-complete:disabled,\n",
              "  .colab-df-quickchart-complete:disabled:hover {\n",
              "    background-color: var(--disabled-bg-color);\n",
              "    fill: var(--disabled-fill-color);\n",
              "    box-shadow: none;\n",
              "  }\n",
              "\n",
              "  .colab-df-spinner {\n",
              "    border: 2px solid var(--fill-color);\n",
              "    border-color: transparent;\n",
              "    border-bottom-color: var(--fill-color);\n",
              "    animation:\n",
              "      spin 1s steps(1) infinite;\n",
              "  }\n",
              "\n",
              "  @keyframes spin {\n",
              "    0% {\n",
              "      border-color: transparent;\n",
              "      border-bottom-color: var(--fill-color);\n",
              "      border-left-color: var(--fill-color);\n",
              "    }\n",
              "    20% {\n",
              "      border-color: transparent;\n",
              "      border-left-color: var(--fill-color);\n",
              "      border-top-color: var(--fill-color);\n",
              "    }\n",
              "    30% {\n",
              "      border-color: transparent;\n",
              "      border-left-color: var(--fill-color);\n",
              "      border-top-color: var(--fill-color);\n",
              "      border-right-color: var(--fill-color);\n",
              "    }\n",
              "    40% {\n",
              "      border-color: transparent;\n",
              "      border-right-color: var(--fill-color);\n",
              "      border-top-color: var(--fill-color);\n",
              "    }\n",
              "    60% {\n",
              "      border-color: transparent;\n",
              "      border-right-color: var(--fill-color);\n",
              "    }\n",
              "    80% {\n",
              "      border-color: transparent;\n",
              "      border-right-color: var(--fill-color);\n",
              "      border-bottom-color: var(--fill-color);\n",
              "    }\n",
              "    90% {\n",
              "      border-color: transparent;\n",
              "      border-bottom-color: var(--fill-color);\n",
              "    }\n",
              "  }\n",
              "</style>\n",
              "\n",
              "  <script>\n",
              "    async function quickchart(key) {\n",
              "      const quickchartButtonEl =\n",
              "        document.querySelector('#' + key + ' button');\n",
              "      quickchartButtonEl.disabled = true;  // To prevent multiple clicks.\n",
              "      quickchartButtonEl.classList.add('colab-df-spinner');\n",
              "      try {\n",
              "        const charts = await google.colab.kernel.invokeFunction(\n",
              "            'suggestCharts', [key], {});\n",
              "      } catch (error) {\n",
              "        console.error('Error during call to suggestCharts:', error);\n",
              "      }\n",
              "      quickchartButtonEl.classList.remove('colab-df-spinner');\n",
              "      quickchartButtonEl.classList.add('colab-df-quickchart-complete');\n",
              "    }\n",
              "    (() => {\n",
              "      let quickchartButtonEl =\n",
              "        document.querySelector('#df-c3dd32cb-07b8-40e2-8b05-19bd650dc65f button');\n",
              "      quickchartButtonEl.style.display =\n",
              "        google.colab.kernel.accessAllowed ? 'block' : 'none';\n",
              "    })();\n",
              "  </script>\n",
              "</div>\n",
              "    </div>\n",
              "  </div>\n"
            ]
          },
          "metadata": {},
          "execution_count": 22
        }
      ],
      "source": [
        "df1=df[['director','country']].copy()   #creating a seperate variable for calculation of mode.\n",
        "df1['country']=df1['country'].str.split(', ')\n",
        "df1.head()"
      ]
    },
    {
      "cell_type": "code",
      "execution_count": null,
      "metadata": {
        "colab": {
          "base_uri": "https://localhost:8080/",
          "height": 206
        },
        "id": "Vzjt3UhgEeS-",
        "outputId": "8f814a2d-2663-438d-8f0f-46e418b54eb5"
      },
      "outputs": [
        {
          "output_type": "execute_result",
          "data": {
            "text/plain": [
              "          director        country\n",
              "0  Kirsten Johnson  United States\n",
              "1              NaN   South Africa\n",
              "2  Julien Leclercq            NaN\n",
              "3              NaN            NaN\n",
              "4              NaN          India"
            ],
            "text/html": [
              "\n",
              "  <div id=\"df-deea4126-5446-44b9-a521-bc75282b0910\" class=\"colab-df-container\">\n",
              "    <div>\n",
              "<style scoped>\n",
              "    .dataframe tbody tr th:only-of-type {\n",
              "        vertical-align: middle;\n",
              "    }\n",
              "\n",
              "    .dataframe tbody tr th {\n",
              "        vertical-align: top;\n",
              "    }\n",
              "\n",
              "    .dataframe thead th {\n",
              "        text-align: right;\n",
              "    }\n",
              "</style>\n",
              "<table border=\"1\" class=\"dataframe\">\n",
              "  <thead>\n",
              "    <tr style=\"text-align: right;\">\n",
              "      <th></th>\n",
              "      <th>director</th>\n",
              "      <th>country</th>\n",
              "    </tr>\n",
              "  </thead>\n",
              "  <tbody>\n",
              "    <tr>\n",
              "      <th>0</th>\n",
              "      <td>Kirsten Johnson</td>\n",
              "      <td>United States</td>\n",
              "    </tr>\n",
              "    <tr>\n",
              "      <th>1</th>\n",
              "      <td>NaN</td>\n",
              "      <td>South Africa</td>\n",
              "    </tr>\n",
              "    <tr>\n",
              "      <th>2</th>\n",
              "      <td>Julien Leclercq</td>\n",
              "      <td>NaN</td>\n",
              "    </tr>\n",
              "    <tr>\n",
              "      <th>3</th>\n",
              "      <td>NaN</td>\n",
              "      <td>NaN</td>\n",
              "    </tr>\n",
              "    <tr>\n",
              "      <th>4</th>\n",
              "      <td>NaN</td>\n",
              "      <td>India</td>\n",
              "    </tr>\n",
              "  </tbody>\n",
              "</table>\n",
              "</div>\n",
              "    <div class=\"colab-df-buttons\">\n",
              "\n",
              "  <div class=\"colab-df-container\">\n",
              "    <button class=\"colab-df-convert\" onclick=\"convertToInteractive('df-deea4126-5446-44b9-a521-bc75282b0910')\"\n",
              "            title=\"Convert this dataframe to an interactive table.\"\n",
              "            style=\"display:none;\">\n",
              "\n",
              "  <svg xmlns=\"http://www.w3.org/2000/svg\" height=\"24px\" viewBox=\"0 -960 960 960\">\n",
              "    <path d=\"M120-120v-720h720v720H120Zm60-500h600v-160H180v160Zm220 220h160v-160H400v160Zm0 220h160v-160H400v160ZM180-400h160v-160H180v160Zm440 0h160v-160H620v160ZM180-180h160v-160H180v160Zm440 0h160v-160H620v160Z\"/>\n",
              "  </svg>\n",
              "    </button>\n",
              "\n",
              "  <style>\n",
              "    .colab-df-container {\n",
              "      display:flex;\n",
              "      gap: 12px;\n",
              "    }\n",
              "\n",
              "    .colab-df-convert {\n",
              "      background-color: #E8F0FE;\n",
              "      border: none;\n",
              "      border-radius: 50%;\n",
              "      cursor: pointer;\n",
              "      display: none;\n",
              "      fill: #1967D2;\n",
              "      height: 32px;\n",
              "      padding: 0 0 0 0;\n",
              "      width: 32px;\n",
              "    }\n",
              "\n",
              "    .colab-df-convert:hover {\n",
              "      background-color: #E2EBFA;\n",
              "      box-shadow: 0px 1px 2px rgba(60, 64, 67, 0.3), 0px 1px 3px 1px rgba(60, 64, 67, 0.15);\n",
              "      fill: #174EA6;\n",
              "    }\n",
              "\n",
              "    .colab-df-buttons div {\n",
              "      margin-bottom: 4px;\n",
              "    }\n",
              "\n",
              "    [theme=dark] .colab-df-convert {\n",
              "      background-color: #3B4455;\n",
              "      fill: #D2E3FC;\n",
              "    }\n",
              "\n",
              "    [theme=dark] .colab-df-convert:hover {\n",
              "      background-color: #434B5C;\n",
              "      box-shadow: 0px 1px 3px 1px rgba(0, 0, 0, 0.15);\n",
              "      filter: drop-shadow(0px 1px 2px rgba(0, 0, 0, 0.3));\n",
              "      fill: #FFFFFF;\n",
              "    }\n",
              "  </style>\n",
              "\n",
              "    <script>\n",
              "      const buttonEl =\n",
              "        document.querySelector('#df-deea4126-5446-44b9-a521-bc75282b0910 button.colab-df-convert');\n",
              "      buttonEl.style.display =\n",
              "        google.colab.kernel.accessAllowed ? 'block' : 'none';\n",
              "\n",
              "      async function convertToInteractive(key) {\n",
              "        const element = document.querySelector('#df-deea4126-5446-44b9-a521-bc75282b0910');\n",
              "        const dataTable =\n",
              "          await google.colab.kernel.invokeFunction('convertToInteractive',\n",
              "                                                    [key], {});\n",
              "        if (!dataTable) return;\n",
              "\n",
              "        const docLinkHtml = 'Like what you see? Visit the ' +\n",
              "          '<a target=\"_blank\" href=https://colab.research.google.com/notebooks/data_table.ipynb>data table notebook</a>'\n",
              "          + ' to learn more about interactive tables.';\n",
              "        element.innerHTML = '';\n",
              "        dataTable['output_type'] = 'display_data';\n",
              "        await google.colab.output.renderOutput(dataTable, element);\n",
              "        const docLink = document.createElement('div');\n",
              "        docLink.innerHTML = docLinkHtml;\n",
              "        element.appendChild(docLink);\n",
              "      }\n",
              "    </script>\n",
              "  </div>\n",
              "\n",
              "\n",
              "<div id=\"df-8ed765a7-3f8a-4cc8-a85e-3bff7392d051\">\n",
              "  <button class=\"colab-df-quickchart\" onclick=\"quickchart('df-8ed765a7-3f8a-4cc8-a85e-3bff7392d051')\"\n",
              "            title=\"Suggest charts\"\n",
              "            style=\"display:none;\">\n",
              "\n",
              "<svg xmlns=\"http://www.w3.org/2000/svg\" height=\"24px\"viewBox=\"0 0 24 24\"\n",
              "     width=\"24px\">\n",
              "    <g>\n",
              "        <path d=\"M19 3H5c-1.1 0-2 .9-2 2v14c0 1.1.9 2 2 2h14c1.1 0 2-.9 2-2V5c0-1.1-.9-2-2-2zM9 17H7v-7h2v7zm4 0h-2V7h2v10zm4 0h-2v-4h2v4z\"/>\n",
              "    </g>\n",
              "</svg>\n",
              "  </button>\n",
              "\n",
              "<style>\n",
              "  .colab-df-quickchart {\n",
              "      --bg-color: #E8F0FE;\n",
              "      --fill-color: #1967D2;\n",
              "      --hover-bg-color: #E2EBFA;\n",
              "      --hover-fill-color: #174EA6;\n",
              "      --disabled-fill-color: #AAA;\n",
              "      --disabled-bg-color: #DDD;\n",
              "  }\n",
              "\n",
              "  [theme=dark] .colab-df-quickchart {\n",
              "      --bg-color: #3B4455;\n",
              "      --fill-color: #D2E3FC;\n",
              "      --hover-bg-color: #434B5C;\n",
              "      --hover-fill-color: #FFFFFF;\n",
              "      --disabled-bg-color: #3B4455;\n",
              "      --disabled-fill-color: #666;\n",
              "  }\n",
              "\n",
              "  .colab-df-quickchart {\n",
              "    background-color: var(--bg-color);\n",
              "    border: none;\n",
              "    border-radius: 50%;\n",
              "    cursor: pointer;\n",
              "    display: none;\n",
              "    fill: var(--fill-color);\n",
              "    height: 32px;\n",
              "    padding: 0;\n",
              "    width: 32px;\n",
              "  }\n",
              "\n",
              "  .colab-df-quickchart:hover {\n",
              "    background-color: var(--hover-bg-color);\n",
              "    box-shadow: 0 1px 2px rgba(60, 64, 67, 0.3), 0 1px 3px 1px rgba(60, 64, 67, 0.15);\n",
              "    fill: var(--button-hover-fill-color);\n",
              "  }\n",
              "\n",
              "  .colab-df-quickchart-complete:disabled,\n",
              "  .colab-df-quickchart-complete:disabled:hover {\n",
              "    background-color: var(--disabled-bg-color);\n",
              "    fill: var(--disabled-fill-color);\n",
              "    box-shadow: none;\n",
              "  }\n",
              "\n",
              "  .colab-df-spinner {\n",
              "    border: 2px solid var(--fill-color);\n",
              "    border-color: transparent;\n",
              "    border-bottom-color: var(--fill-color);\n",
              "    animation:\n",
              "      spin 1s steps(1) infinite;\n",
              "  }\n",
              "\n",
              "  @keyframes spin {\n",
              "    0% {\n",
              "      border-color: transparent;\n",
              "      border-bottom-color: var(--fill-color);\n",
              "      border-left-color: var(--fill-color);\n",
              "    }\n",
              "    20% {\n",
              "      border-color: transparent;\n",
              "      border-left-color: var(--fill-color);\n",
              "      border-top-color: var(--fill-color);\n",
              "    }\n",
              "    30% {\n",
              "      border-color: transparent;\n",
              "      border-left-color: var(--fill-color);\n",
              "      border-top-color: var(--fill-color);\n",
              "      border-right-color: var(--fill-color);\n",
              "    }\n",
              "    40% {\n",
              "      border-color: transparent;\n",
              "      border-right-color: var(--fill-color);\n",
              "      border-top-color: var(--fill-color);\n",
              "    }\n",
              "    60% {\n",
              "      border-color: transparent;\n",
              "      border-right-color: var(--fill-color);\n",
              "    }\n",
              "    80% {\n",
              "      border-color: transparent;\n",
              "      border-right-color: var(--fill-color);\n",
              "      border-bottom-color: var(--fill-color);\n",
              "    }\n",
              "    90% {\n",
              "      border-color: transparent;\n",
              "      border-bottom-color: var(--fill-color);\n",
              "    }\n",
              "  }\n",
              "</style>\n",
              "\n",
              "  <script>\n",
              "    async function quickchart(key) {\n",
              "      const quickchartButtonEl =\n",
              "        document.querySelector('#' + key + ' button');\n",
              "      quickchartButtonEl.disabled = true;  // To prevent multiple clicks.\n",
              "      quickchartButtonEl.classList.add('colab-df-spinner');\n",
              "      try {\n",
              "        const charts = await google.colab.kernel.invokeFunction(\n",
              "            'suggestCharts', [key], {});\n",
              "      } catch (error) {\n",
              "        console.error('Error during call to suggestCharts:', error);\n",
              "      }\n",
              "      quickchartButtonEl.classList.remove('colab-df-spinner');\n",
              "      quickchartButtonEl.classList.add('colab-df-quickchart-complete');\n",
              "    }\n",
              "    (() => {\n",
              "      let quickchartButtonEl =\n",
              "        document.querySelector('#df-8ed765a7-3f8a-4cc8-a85e-3bff7392d051 button');\n",
              "      quickchartButtonEl.style.display =\n",
              "        google.colab.kernel.accessAllowed ? 'block' : 'none';\n",
              "    })();\n",
              "  </script>\n",
              "</div>\n",
              "    </div>\n",
              "  </div>\n"
            ]
          },
          "metadata": {},
          "execution_count": 23
        }
      ],
      "source": [
        "df1=df1.explode('country')\n",
        "df1.head()"
      ]
    },
    {
      "cell_type": "code",
      "execution_count": null,
      "metadata": {
        "colab": {
          "base_uri": "https://localhost:8080/",
          "height": 206
        },
        "id": "L30WX1pQOEJV",
        "outputId": "aa24e0fb-fe0c-4c9e-f157-ccefbe601b02"
      },
      "outputs": [
        {
          "output_type": "execute_result",
          "data": {
            "text/plain": [
              "          director         country\n",
              "0  Kirsten Johnson   United States\n",
              "7     Haile Gerima   United States\n",
              "7     Haile Gerima           Ghana\n",
              "7     Haile Gerima    Burkina Faso\n",
              "7     Haile Gerima  United Kingdom"
            ],
            "text/html": [
              "\n",
              "  <div id=\"df-1bd59124-d108-4b5e-b184-1186bc567c34\" class=\"colab-df-container\">\n",
              "    <div>\n",
              "<style scoped>\n",
              "    .dataframe tbody tr th:only-of-type {\n",
              "        vertical-align: middle;\n",
              "    }\n",
              "\n",
              "    .dataframe tbody tr th {\n",
              "        vertical-align: top;\n",
              "    }\n",
              "\n",
              "    .dataframe thead th {\n",
              "        text-align: right;\n",
              "    }\n",
              "</style>\n",
              "<table border=\"1\" class=\"dataframe\">\n",
              "  <thead>\n",
              "    <tr style=\"text-align: right;\">\n",
              "      <th></th>\n",
              "      <th>director</th>\n",
              "      <th>country</th>\n",
              "    </tr>\n",
              "  </thead>\n",
              "  <tbody>\n",
              "    <tr>\n",
              "      <th>0</th>\n",
              "      <td>Kirsten Johnson</td>\n",
              "      <td>United States</td>\n",
              "    </tr>\n",
              "    <tr>\n",
              "      <th>7</th>\n",
              "      <td>Haile Gerima</td>\n",
              "      <td>United States</td>\n",
              "    </tr>\n",
              "    <tr>\n",
              "      <th>7</th>\n",
              "      <td>Haile Gerima</td>\n",
              "      <td>Ghana</td>\n",
              "    </tr>\n",
              "    <tr>\n",
              "      <th>7</th>\n",
              "      <td>Haile Gerima</td>\n",
              "      <td>Burkina Faso</td>\n",
              "    </tr>\n",
              "    <tr>\n",
              "      <th>7</th>\n",
              "      <td>Haile Gerima</td>\n",
              "      <td>United Kingdom</td>\n",
              "    </tr>\n",
              "  </tbody>\n",
              "</table>\n",
              "</div>\n",
              "    <div class=\"colab-df-buttons\">\n",
              "\n",
              "  <div class=\"colab-df-container\">\n",
              "    <button class=\"colab-df-convert\" onclick=\"convertToInteractive('df-1bd59124-d108-4b5e-b184-1186bc567c34')\"\n",
              "            title=\"Convert this dataframe to an interactive table.\"\n",
              "            style=\"display:none;\">\n",
              "\n",
              "  <svg xmlns=\"http://www.w3.org/2000/svg\" height=\"24px\" viewBox=\"0 -960 960 960\">\n",
              "    <path d=\"M120-120v-720h720v720H120Zm60-500h600v-160H180v160Zm220 220h160v-160H400v160Zm0 220h160v-160H400v160ZM180-400h160v-160H180v160Zm440 0h160v-160H620v160ZM180-180h160v-160H180v160Zm440 0h160v-160H620v160Z\"/>\n",
              "  </svg>\n",
              "    </button>\n",
              "\n",
              "  <style>\n",
              "    .colab-df-container {\n",
              "      display:flex;\n",
              "      gap: 12px;\n",
              "    }\n",
              "\n",
              "    .colab-df-convert {\n",
              "      background-color: #E8F0FE;\n",
              "      border: none;\n",
              "      border-radius: 50%;\n",
              "      cursor: pointer;\n",
              "      display: none;\n",
              "      fill: #1967D2;\n",
              "      height: 32px;\n",
              "      padding: 0 0 0 0;\n",
              "      width: 32px;\n",
              "    }\n",
              "\n",
              "    .colab-df-convert:hover {\n",
              "      background-color: #E2EBFA;\n",
              "      box-shadow: 0px 1px 2px rgba(60, 64, 67, 0.3), 0px 1px 3px 1px rgba(60, 64, 67, 0.15);\n",
              "      fill: #174EA6;\n",
              "    }\n",
              "\n",
              "    .colab-df-buttons div {\n",
              "      margin-bottom: 4px;\n",
              "    }\n",
              "\n",
              "    [theme=dark] .colab-df-convert {\n",
              "      background-color: #3B4455;\n",
              "      fill: #D2E3FC;\n",
              "    }\n",
              "\n",
              "    [theme=dark] .colab-df-convert:hover {\n",
              "      background-color: #434B5C;\n",
              "      box-shadow: 0px 1px 3px 1px rgba(0, 0, 0, 0.15);\n",
              "      filter: drop-shadow(0px 1px 2px rgba(0, 0, 0, 0.3));\n",
              "      fill: #FFFFFF;\n",
              "    }\n",
              "  </style>\n",
              "\n",
              "    <script>\n",
              "      const buttonEl =\n",
              "        document.querySelector('#df-1bd59124-d108-4b5e-b184-1186bc567c34 button.colab-df-convert');\n",
              "      buttonEl.style.display =\n",
              "        google.colab.kernel.accessAllowed ? 'block' : 'none';\n",
              "\n",
              "      async function convertToInteractive(key) {\n",
              "        const element = document.querySelector('#df-1bd59124-d108-4b5e-b184-1186bc567c34');\n",
              "        const dataTable =\n",
              "          await google.colab.kernel.invokeFunction('convertToInteractive',\n",
              "                                                    [key], {});\n",
              "        if (!dataTable) return;\n",
              "\n",
              "        const docLinkHtml = 'Like what you see? Visit the ' +\n",
              "          '<a target=\"_blank\" href=https://colab.research.google.com/notebooks/data_table.ipynb>data table notebook</a>'\n",
              "          + ' to learn more about interactive tables.';\n",
              "        element.innerHTML = '';\n",
              "        dataTable['output_type'] = 'display_data';\n",
              "        await google.colab.output.renderOutput(dataTable, element);\n",
              "        const docLink = document.createElement('div');\n",
              "        docLink.innerHTML = docLinkHtml;\n",
              "        element.appendChild(docLink);\n",
              "      }\n",
              "    </script>\n",
              "  </div>\n",
              "\n",
              "\n",
              "<div id=\"df-1df2d0b0-f82c-488f-9bbb-462a16b87a1b\">\n",
              "  <button class=\"colab-df-quickchart\" onclick=\"quickchart('df-1df2d0b0-f82c-488f-9bbb-462a16b87a1b')\"\n",
              "            title=\"Suggest charts\"\n",
              "            style=\"display:none;\">\n",
              "\n",
              "<svg xmlns=\"http://www.w3.org/2000/svg\" height=\"24px\"viewBox=\"0 0 24 24\"\n",
              "     width=\"24px\">\n",
              "    <g>\n",
              "        <path d=\"M19 3H5c-1.1 0-2 .9-2 2v14c0 1.1.9 2 2 2h14c1.1 0 2-.9 2-2V5c0-1.1-.9-2-2-2zM9 17H7v-7h2v7zm4 0h-2V7h2v10zm4 0h-2v-4h2v4z\"/>\n",
              "    </g>\n",
              "</svg>\n",
              "  </button>\n",
              "\n",
              "<style>\n",
              "  .colab-df-quickchart {\n",
              "      --bg-color: #E8F0FE;\n",
              "      --fill-color: #1967D2;\n",
              "      --hover-bg-color: #E2EBFA;\n",
              "      --hover-fill-color: #174EA6;\n",
              "      --disabled-fill-color: #AAA;\n",
              "      --disabled-bg-color: #DDD;\n",
              "  }\n",
              "\n",
              "  [theme=dark] .colab-df-quickchart {\n",
              "      --bg-color: #3B4455;\n",
              "      --fill-color: #D2E3FC;\n",
              "      --hover-bg-color: #434B5C;\n",
              "      --hover-fill-color: #FFFFFF;\n",
              "      --disabled-bg-color: #3B4455;\n",
              "      --disabled-fill-color: #666;\n",
              "  }\n",
              "\n",
              "  .colab-df-quickchart {\n",
              "    background-color: var(--bg-color);\n",
              "    border: none;\n",
              "    border-radius: 50%;\n",
              "    cursor: pointer;\n",
              "    display: none;\n",
              "    fill: var(--fill-color);\n",
              "    height: 32px;\n",
              "    padding: 0;\n",
              "    width: 32px;\n",
              "  }\n",
              "\n",
              "  .colab-df-quickchart:hover {\n",
              "    background-color: var(--hover-bg-color);\n",
              "    box-shadow: 0 1px 2px rgba(60, 64, 67, 0.3), 0 1px 3px 1px rgba(60, 64, 67, 0.15);\n",
              "    fill: var(--button-hover-fill-color);\n",
              "  }\n",
              "\n",
              "  .colab-df-quickchart-complete:disabled,\n",
              "  .colab-df-quickchart-complete:disabled:hover {\n",
              "    background-color: var(--disabled-bg-color);\n",
              "    fill: var(--disabled-fill-color);\n",
              "    box-shadow: none;\n",
              "  }\n",
              "\n",
              "  .colab-df-spinner {\n",
              "    border: 2px solid var(--fill-color);\n",
              "    border-color: transparent;\n",
              "    border-bottom-color: var(--fill-color);\n",
              "    animation:\n",
              "      spin 1s steps(1) infinite;\n",
              "  }\n",
              "\n",
              "  @keyframes spin {\n",
              "    0% {\n",
              "      border-color: transparent;\n",
              "      border-bottom-color: var(--fill-color);\n",
              "      border-left-color: var(--fill-color);\n",
              "    }\n",
              "    20% {\n",
              "      border-color: transparent;\n",
              "      border-left-color: var(--fill-color);\n",
              "      border-top-color: var(--fill-color);\n",
              "    }\n",
              "    30% {\n",
              "      border-color: transparent;\n",
              "      border-left-color: var(--fill-color);\n",
              "      border-top-color: var(--fill-color);\n",
              "      border-right-color: var(--fill-color);\n",
              "    }\n",
              "    40% {\n",
              "      border-color: transparent;\n",
              "      border-right-color: var(--fill-color);\n",
              "      border-top-color: var(--fill-color);\n",
              "    }\n",
              "    60% {\n",
              "      border-color: transparent;\n",
              "      border-right-color: var(--fill-color);\n",
              "    }\n",
              "    80% {\n",
              "      border-color: transparent;\n",
              "      border-right-color: var(--fill-color);\n",
              "      border-bottom-color: var(--fill-color);\n",
              "    }\n",
              "    90% {\n",
              "      border-color: transparent;\n",
              "      border-bottom-color: var(--fill-color);\n",
              "    }\n",
              "  }\n",
              "</style>\n",
              "\n",
              "  <script>\n",
              "    async function quickchart(key) {\n",
              "      const quickchartButtonEl =\n",
              "        document.querySelector('#' + key + ' button');\n",
              "      quickchartButtonEl.disabled = true;  // To prevent multiple clicks.\n",
              "      quickchartButtonEl.classList.add('colab-df-spinner');\n",
              "      try {\n",
              "        const charts = await google.colab.kernel.invokeFunction(\n",
              "            'suggestCharts', [key], {});\n",
              "      } catch (error) {\n",
              "        console.error('Error during call to suggestCharts:', error);\n",
              "      }\n",
              "      quickchartButtonEl.classList.remove('colab-df-spinner');\n",
              "      quickchartButtonEl.classList.add('colab-df-quickchart-complete');\n",
              "    }\n",
              "    (() => {\n",
              "      let quickchartButtonEl =\n",
              "        document.querySelector('#df-1df2d0b0-f82c-488f-9bbb-462a16b87a1b button');\n",
              "      quickchartButtonEl.style.display =\n",
              "        google.colab.kernel.accessAllowed ? 'block' : 'none';\n",
              "    })();\n",
              "  </script>\n",
              "</div>\n",
              "    </div>\n",
              "  </div>\n"
            ]
          },
          "metadata": {},
          "execution_count": 24
        }
      ],
      "source": [
        "df1=df1.dropna()\n",
        "df1.head()"
      ]
    },
    {
      "cell_type": "code",
      "execution_count": null,
      "metadata": {
        "colab": {
          "base_uri": "https://localhost:8080/"
        },
        "id": "8AJH5Y5RHfes",
        "outputId": "4252b084-1de4-4b37-8b71-435d48737b33"
      },
      "outputs": [
        {
          "output_type": "execute_result",
          "data": {
            "text/plain": [
              "831"
            ]
          },
          "metadata": {},
          "execution_count": 25
        }
      ],
      "source": [
        "df['country'].isnull().sum()"
      ]
    },
    {
      "cell_type": "code",
      "execution_count": null,
      "metadata": {
        "id": "LUIqFlSqh7gB"
      },
      "outputs": [],
      "source": [
        "#this will fill some missing values accurately.\n",
        "for i in df[(df['country'].isnull()) & (~df['director'].isnull())]['director'].unique():\n",
        "  impute=df1[df1['director']==i]['country'].mode()\n",
        "  if len(impute)==0:\n",
        "    pass\n",
        "  else:\n",
        "    impute=impute[0]\n",
        "  df.loc[df['director']==i,'country']=df.loc[df['director']==i,'country'].fillna(impute) ##imputation"
      ]
    },
    {
      "cell_type": "code",
      "execution_count": null,
      "metadata": {
        "colab": {
          "base_uri": "https://localhost:8080/"
        },
        "id": "HQyuVJ7HH6Lv",
        "outputId": "26b37fa9-af73-422b-fb98-02f2d62ee8f8"
      },
      "outputs": [
        {
          "output_type": "execute_result",
          "data": {
            "text/plain": [
              "683"
            ]
          },
          "metadata": {},
          "execution_count": 27
        }
      ],
      "source": [
        "df['country'].isnull().sum()"
      ]
    },
    {
      "cell_type": "markdown",
      "metadata": {
        "id": "PXGt7iUGOv7R"
      },
      "source": [
        "Imputation in country column is done using director. now lets try to impute using counties of actors."
      ]
    },
    {
      "cell_type": "code",
      "execution_count": null,
      "metadata": {
        "id": "ExdzrZBqmM6R"
      },
      "outputs": [],
      "source": [
        "#creating a dataframe df3 to calculate mode of actors\n",
        "df2=df[['cast','country']].copy()\n",
        "\n",
        "df2['cast']=df2['cast'].str.split(\", \")\n",
        "df2['country']=df2['country'].str.split(\", \")\n",
        "df2=df2.explode('cast')\n",
        "df3=df2.explode('country')"
      ]
    },
    {
      "cell_type": "code",
      "execution_count": null,
      "metadata": {
        "id": "yuIK6jXJWpVj"
      },
      "outputs": [],
      "source": [
        "#finding list of unique cast in missing entries of original dataframe i.e. df\n",
        "imp=df[df['country'].isnull() & (~df['cast'].isnull())].index\n",
        "imp=imp.unique()\n",
        "imp=df3.loc[imp]['cast'].unique()"
      ]
    },
    {
      "cell_type": "code",
      "execution_count": null,
      "metadata": {
        "colab": {
          "base_uri": "https://localhost:8080/"
        },
        "id": "F87oX6yyLuM7",
        "outputId": "860e6a23-2a0b-4e9e-c87f-472b731ef202"
      },
      "outputs": [
        {
          "output_type": "execute_result",
          "data": {
            "text/plain": [
              "3267"
            ]
          },
          "metadata": {},
          "execution_count": 30
        }
      ],
      "source": [
        "len(imp)"
      ]
    },
    {
      "cell_type": "code",
      "execution_count": null,
      "metadata": {
        "id": "OO3PgoySdf2Z"
      },
      "outputs": [],
      "source": [
        "df3=df3.dropna()   #removing nulls to reduce computation"
      ]
    },
    {
      "cell_type": "code",
      "execution_count": null,
      "metadata": {
        "colab": {
          "base_uri": "https://localhost:8080/"
        },
        "id": "KfzK-a08H0JR",
        "outputId": "70c18041-7273-44be-f324-dd12530b14fd"
      },
      "outputs": [
        {
          "output_type": "stream",
          "name": "stderr",
          "text": [
            "<ipython-input-32-81df3416cd63>:7: UserWarning: This pattern is interpreted as a regular expression, and has match groups. To actually get the groups, use str.extract.\n",
            "  df.loc[df['cast'].str.contains(i) & (~df['cast'].isnull()),'country']=df.loc[ (~df['cast'].isnull()) & df['cast'].str.contains(i),'country'].fillna(impute) ##imputation\n"
          ]
        }
      ],
      "source": [
        "for i in imp:\n",
        "  impute=df3[df3['cast']==i]['country'].mode()  #finding country of actor as mode\n",
        "  if len(impute)==0:\n",
        "    pass\n",
        "  else:\n",
        "    impute=impute[0]\n",
        "  df.loc[df['cast'].str.contains(i) & (~df['cast'].isnull()),'country']=df.loc[ (~df['cast'].isnull()) & df['cast'].str.contains(i),'country'].fillna(impute) ##imputation\n"
      ]
    },
    {
      "cell_type": "code",
      "execution_count": null,
      "metadata": {
        "colab": {
          "base_uri": "https://localhost:8080/"
        },
        "id": "kNMpM7KAY5AB",
        "outputId": "b112525c-db20-4c0f-fed1-1302264e46d2"
      },
      "outputs": [
        {
          "output_type": "execute_result",
          "data": {
            "text/plain": [
              "250"
            ]
          },
          "metadata": {},
          "execution_count": 33
        }
      ],
      "source": [
        "df['country'].isnull().sum()"
      ]
    },
    {
      "cell_type": "code",
      "execution_count": null,
      "metadata": {
        "id": "lsKNytT1Qu1U"
      },
      "outputs": [],
      "source": [
        "#if there are still any nulls we can replace by unknown country\n",
        "df['country'].fillna('unknown country', inplace=True)"
      ]
    },
    {
      "cell_type": "markdown",
      "metadata": {
        "id": "znnJNZQ2XubT"
      },
      "source": [
        "4. Missing value Imputation:: Director  & cast column"
      ]
    },
    {
      "cell_type": "code",
      "execution_count": null,
      "metadata": {
        "id": "lw_5BreSYRPr"
      },
      "outputs": [],
      "source": [
        "df.fillna({'director':'unknown director','cast':'unknown cast'},inplace=True)"
      ]
    },
    {
      "cell_type": "code",
      "execution_count": null,
      "metadata": {
        "colab": {
          "base_uri": "https://localhost:8080/"
        },
        "id": "wmnsuBEF9MwG",
        "outputId": "376b13ee-e09d-4fca-ac90-903b28fb3f6b"
      },
      "outputs": [
        {
          "output_type": "execute_result",
          "data": {
            "text/plain": [
              "show_id         0\n",
              "type            0\n",
              "title           0\n",
              "director        0\n",
              "cast            0\n",
              "country         0\n",
              "date_added      0\n",
              "release_year    0\n",
              "rating          0\n",
              "duration        0\n",
              "listed_in       0\n",
              "description     0\n",
              "dtype: int64"
            ]
          },
          "metadata": {},
          "execution_count": 36
        }
      ],
      "source": [
        "df.isnull().sum()"
      ]
    },
    {
      "cell_type": "markdown",
      "metadata": {
        "id": "BuIeu9hq9KQj"
      },
      "source": [
        "# Exploratory Data Analysis"
      ]
    },
    {
      "cell_type": "markdown",
      "metadata": {
        "id": "XnMXMkjTo-IK"
      },
      "source": [
        "1. **Time Frame of dataset:** First and lastest upload dates"
      ]
    },
    {
      "cell_type": "code",
      "execution_count": null,
      "metadata": {
        "colab": {
          "base_uri": "https://localhost:8080/"
        },
        "id": "pFdzjJaxpKtP",
        "outputId": "5bf20aff-ebba-4875-bf02-809113c32f4a"
      },
      "outputs": [
        {
          "output_type": "stream",
          "name": "stdout",
          "text": [
            "starting date: 2008-01-01 00:00:00\n",
            "latest date: 2021-09-25 00:00:00\n"
          ]
        }
      ],
      "source": [
        "print('starting date:',df['date_added'].min())\n",
        "print('latest date:',df['date_added'].max())"
      ]
    },
    {
      "cell_type": "markdown",
      "metadata": {
        "id": "2yQ7psdG-_I4"
      },
      "source": [
        "2. What is the ratio of movies and TV shows on the plateform?"
      ]
    },
    {
      "cell_type": "code",
      "execution_count": null,
      "metadata": {
        "colab": {
          "base_uri": "https://localhost:8080/"
        },
        "id": "vDsYCw2SSM_-",
        "outputId": "8f30b9bc-27bb-432e-ebd7-718073af0dcf"
      },
      "outputs": [
        {
          "output_type": "execute_result",
          "data": {
            "text/plain": [
              "Movie      6131\n",
              "TV Show    2676\n",
              "Name: type, dtype: int64"
            ]
          },
          "metadata": {},
          "execution_count": 38
        }
      ],
      "source": [
        "df['type'].value_counts()"
      ]
    },
    {
      "cell_type": "code",
      "execution_count": null,
      "metadata": {
        "colab": {
          "base_uri": "https://localhost:8080/"
        },
        "id": "rsjAE4ctCviW",
        "outputId": "8efddda6-c011-4095-85da-f6b0082267cb"
      },
      "outputs": [
        {
          "output_type": "execute_result",
          "data": {
            "text/plain": [
              "2.2911061285500747"
            ]
          },
          "metadata": {},
          "execution_count": 39
        }
      ],
      "source": [
        "movie_tvshow_ratio=df['type'].value_counts()[0]/df['type'].value_counts()[1]\n",
        "movie_tvshow_ratio"
      ]
    },
    {
      "cell_type": "code",
      "execution_count": null,
      "metadata": {
        "colab": {
          "base_uri": "https://localhost:8080/",
          "height": 406
        },
        "id": "j0zouNLNCvwS",
        "outputId": "1e297294-927d-46ca-f681-4407feaa9e5c"
      },
      "outputs": [
        {
          "output_type": "display_data",
          "data": {
            "text/plain": [
              "<Figure size 640x480 with 1 Axes>"
            ],
            "image/png": "[encoded data removed]"
          },
          "metadata": {}
        }
      ],
      "source": [
        "plt.pie(df['type'].value_counts(),labels=['movies','tvshows'],autopct='%.0f%%',explode=(0.05,0.05))\n",
        "plt.show()"
      ]
    },
    {
      "cell_type": "markdown",
      "metadata": {
        "id": "s0WsSIlNWFfL"
      },
      "source": [
        "3. what are the common rating of the content?"
      ]
    },
    {
      "cell_type": "code",
      "execution_count": null,
      "metadata": {
        "colab": {
          "base_uri": "https://localhost:8080/",
          "height": 456
        },
        "id": "83e--GB_WOJd",
        "outputId": "c8bd7bf6-6560-48ce-dce7-cfcbb42ec178"
      },
      "outputs": [
        {
          "output_type": "display_data",
          "data": {
            "text/plain": [
              "<Figure size 1000x400 with 2 Axes>"
            ],
            "image/png": "[encoded data removed]"
          },
          "metadata": {}
        }
      ],
      "source": [
        "plt.figure(figsize=(10,4))\n",
        "\n",
        "plt.subplot(1,2,1)\n",
        "sns.countplot(data=df,x='rating',order=df['rating'].value_counts().index)\n",
        "plt.xticks(rotation=90)\n",
        "plt.title('countplot of rating')\n",
        "\n",
        "plt.subplot(1,2,2)\n",
        "sns.countplot(data=df,x='rating',hue='type',order=df['rating'].value_counts().index)\n",
        "plt.xticks(rotation=90)\n",
        "plt.title('countplot of rating of movies/tvshows')\n",
        "\n",
        "plt.show()"
      ]
    },
    {
      "cell_type": "markdown",
      "metadata": {
        "id": "D6va3vKPfH-d"
      },
      "source": [
        "Insights:\n",
        "1. we have data available from january 2008 to september 2021\n",
        "2. The ratio of movies to tv_show is 7:3\n",
        "3. TV-MA,TV-14 are common rating of content uploaded on the OTT platform."
      ]
    },
    {
      "cell_type": "markdown",
      "metadata": {
        "id": "HVji2IBl-zXQ"
      },
      "source": [
        "**4. Visulaize uploading pattern**\n",
        "\n",
        "\n"
      ]
    },
    {
      "cell_type": "code",
      "execution_count": null,
      "metadata": {
        "colab": {
          "base_uri": "https://localhost:8080/"
        },
        "id": "uKbNHRmBYlu2",
        "outputId": "d0466d43-79f8-48df-d249-957e91251f8c"
      },
      "outputs": [
        {
          "output_type": "execute_result",
          "data": {
            "text/plain": [
              "2019    2016\n",
              "2020    1879\n",
              "2018    1653\n",
              "2021    1500\n",
              "2017    1189\n",
              "2016     432\n",
              "2015      82\n",
              "2014      24\n",
              "2011      13\n",
              "2013      11\n",
              "2012       3\n",
              "2009       2\n",
              "2008       2\n",
              "2010       1\n",
              "Name: date_added, dtype: int64"
            ]
          },
          "metadata": {},
          "execution_count": 42
        }
      ],
      "source": [
        "df['date_added'].dt.year.value_counts()"
      ]
    },
    {
      "cell_type": "code",
      "execution_count": null,
      "metadata": {
        "colab": {
          "base_uri": "https://localhost:8080/",
          "height": 431
        },
        "id": "faIc6X8LBgJo",
        "outputId": "1920a9a7-d3b9-428d-a7dc-9df3749e7812"
      },
      "outputs": [
        {
          "output_type": "display_data",
          "data": {
            "text/plain": [
              "<Figure size 1200x400 with 2 Axes>"
            ],
            "image/png": "[encoded data removed]"
          },
          "metadata": {}
        }
      ],
      "source": [
        "plt.figure(figsize=(12,4))\n",
        "plt.subplot(1,2,1)\n",
        "\n",
        "sns.countplot(data=df,x=df['date_added'].dt.year)\n",
        "plt.xticks(rotation=90)\n",
        "plt.xlabel('year of uploading')\n",
        "plt.title('year wise uploading')\n",
        "\n",
        "plt.subplot(1,2,2)\n",
        "sns.countplot(data=df,x=df['date_added'].dt.month,order=df['date_added'].dt.month.value_counts().index)\n",
        "plt.xticks(rotation=90)\n",
        "plt.xlabel('month of uploading')\n",
        "plt.title('month wise uploading')\n",
        "\n",
        "plt.show()"
      ]
    },
    {
      "cell_type": "code",
      "execution_count": null,
      "metadata": {
        "colab": {
          "base_uri": "https://localhost:8080/",
          "height": 431
        },
        "id": "LdAnUa4UwRKr",
        "outputId": "bce342d8-988a-4035-e6d6-43669a56efe5"
      },
      "outputs": [
        {
          "output_type": "display_data",
          "data": {
            "text/plain": [
              "<Figure size 1200x400 with 2 Axes>"
            ],
            "image/png": "[encoded data removed]"
          },
          "metadata": {}
        }
      ],
      "source": [
        "plt.figure(figsize=(12,4))\n",
        "plt.subplot(1,2,1)\n",
        "\n",
        "sns.countplot(data=df,x=df['date_added'].dt.year,hue='type')\n",
        "plt.xticks(rotation=90)\n",
        "plt.xlabel('year of uploading')\n",
        "plt.title('year wise uploading')\n",
        "\n",
        "plt.subplot(1,2,2)\n",
        "sns.countplot(data=df,x=df['date_added'].dt.month,order=df['date_added'].dt.month.value_counts().index,hue='type')\n",
        "plt.xticks(rotation=90)\n",
        "plt.xlabel('month of uploading')\n",
        "\n",
        "plt.show()"
      ]
    },
    {
      "cell_type": "markdown",
      "metadata": {
        "id": "CV7Rb1m7EpB_"
      },
      "source": [
        "**5.Pattern of upload per month**"
      ]
    },
    {
      "cell_type": "code",
      "execution_count": null,
      "metadata": {
        "id": "oRmpEohvt92R"
      },
      "outputs": [],
      "source": [
        "df['month_of_upload']=df['date_added'].dt.month\n",
        "df['year_of_upload']=df['date_added'].dt.year"
      ]
    },
    {
      "cell_type": "code",
      "execution_count": null,
      "metadata": {
        "colab": {
          "base_uri": "https://localhost:8080/",
          "height": 493
        },
        "id": "LMFkl8eHvsa6",
        "outputId": "c464eeec-eff5-4989-936b-0c438cd243a0"
      },
      "outputs": [
        {
          "output_type": "display_data",
          "data": {
            "text/plain": [
              "<Figure size 640x480 with 1 Axes>"
            ],
            "image/png": "[encoded data removed]"
          },
          "metadata": {}
        }
      ],
      "source": [
        "upload_per_month=df.groupby(by=['year_of_upload'])['type'].count()/12\n",
        "\n",
        "x=sns.barplot(y=upload_per_month.values,x=upload_per_month.index)\n",
        "x.bar_label(x.containers[0])\n",
        "plt.xticks(rotation=90)\n",
        "plt.xlim(left=7)\n",
        "plt.title('Number of Uploads per months')\n",
        "\n",
        "plt.grid()\n",
        "plt.show()"
      ]
    },
    {
      "cell_type": "markdown",
      "metadata": {
        "id": "9IRpth-IovH2"
      },
      "source": [
        "Insights:\n",
        "4. OTT platform got significant uploads from 2016 onwards.\n",
        "5. There is continous rise in number of uploads, although 2019 got most uploads which might be because of covid-19 breakout & lockdowns.\n",
        "6. The number of uploads per months since 2016 onwards are continously rising with peak in 2019. (note: year 2021 have data of 9 months only)\n",
        "\n",
        "---\n",
        "\n"
      ]
    },
    {
      "cell_type": "markdown",
      "metadata": {
        "id": "M8w3drDOJhI4"
      },
      "source": [
        "**6. What is the common duration of movies?**"
      ]
    },
    {
      "cell_type": "markdown",
      "metadata": {
        "id": "bAWdWu0wRPNw"
      },
      "source": [
        "Issue:\n",
        "1. First issue here is duration is not numerical--> we can remove words like min,seasons\n",
        "2. For effective visualisation, we need to create bins of duration."
      ]
    },
    {
      "cell_type": "code",
      "execution_count": null,
      "metadata": {
        "id": "x9bOYOQUJ9KC"
      },
      "outputs": [],
      "source": [
        "df['duration']=df['duration'].str.replace(' min','')\n",
        "df['duration']=df['duration'].str.replace(' Seasons','')\n",
        "df['duration']=df['duration'].str.replace(' Season','')\n"
      ]
    },
    {
      "cell_type": "code",
      "execution_count": null,
      "metadata": {
        "id": "FTxxhJHDJQWH"
      },
      "outputs": [],
      "source": [
        "df['duration']=df['duration'].astype('int64')  #converting the datatype to integer"
      ]
    },
    {
      "cell_type": "code",
      "execution_count": null,
      "metadata": {
        "colab": {
          "base_uri": "https://localhost:8080/"
        },
        "id": "aMTatzgHJQZd",
        "outputId": "13ddfece-21dc-4041-957c-0e312822d4b4"
      },
      "outputs": [
        {
          "output_type": "stream",
          "name": "stdout",
          "text": [
            "maximum duration of movies:  312\n",
            "minimum duration of movies:  3\n"
          ]
        }
      ],
      "source": [
        "print('maximum duration of movies: ',df[df['type']==\"Movie\"]['duration'].max())\n",
        "print('minimum duration of movies: ',df[df['type']=='Movie']['duration'].min())"
      ]
    },
    {
      "cell_type": "code",
      "execution_count": null,
      "metadata": {
        "colab": {
          "base_uri": "https://localhost:8080/",
          "height": 410
        },
        "id": "1a2imEoHYiol",
        "outputId": "981407f1-59a5-4e7f-d59e-d8766c7b34d5"
      },
      "outputs": [
        {
          "output_type": "display_data",
          "data": {
            "text/plain": [
              "<Figure size 1200x400 with 2 Axes>"
            ],
            "image/png": "[encoded data removed]"
          },
          "metadata": {}
        }
      ],
      "source": [
        "plt.figure(figsize=(12,4))\n",
        "\n",
        "plt.subplot(1,2,1)\n",
        "bin=[0,30,60,90,120,150,180,210,360]\n",
        "x=sns.histplot(data=df[df['type']=='Movie'],x='duration',bins=bin)\n",
        "x.bar_label(x.containers[0])\n",
        "plt.xticks(ticks=bin)\n",
        "plt.title('movie vs duration plot')\n",
        "\n",
        "\n",
        "plt.subplot(1,2,2)\n",
        "x=sns.countplot(data=df[df['type']=='TV Show'],x='duration')\n",
        "x.bar_label(x.containers[0])\n",
        "plt.title('tvshows vs no of seasons')\n",
        "plt.show()"
      ]
    },
    {
      "cell_type": "markdown",
      "metadata": {
        "id": "ycbB7uFvDZiB"
      },
      "source": [
        "**7. Identify the countries with most content?**"
      ]
    },
    {
      "cell_type": "code",
      "execution_count": null,
      "metadata": {
        "colab": {
          "base_uri": "https://localhost:8080/"
        },
        "id": "aB475cD6FqL7",
        "outputId": "55110c52-30dd-47e5-dc2e-9859533d4b6d"
      },
      "outputs": [
        {
          "output_type": "execute_result",
          "data": {
            "text/plain": [
              "United States     2749\n",
              "India              961\n",
              "United Kingdom     537\n",
              "Canada             317\n",
              "France             311\n",
              "Spain              181\n",
              "Germany            180\n",
              "Japan              130\n",
              "Mexico             115\n",
              "China              114\n",
              "Egypt              100\n",
              "Hong Kong           98\n",
              "Nigeria             98\n",
              "Australia           95\n",
              "Indonesia           87\n",
              "Name: country, dtype: int64"
            ]
          },
          "metadata": {},
          "execution_count": 51
        }
      ],
      "source": [
        "df1['country'].value_counts()[:15]"
      ]
    },
    {
      "cell_type": "code",
      "execution_count": null,
      "metadata": {
        "id": "yDfVHRV_XZJQ"
      },
      "outputs": [],
      "source": [
        "top_countries=df1['country'].value_counts()[:5].index        #top 5 countries with most content/business"
      ]
    },
    {
      "cell_type": "markdown",
      "metadata": {
        "id": "Z_5STS8B6FDI"
      },
      "source": [
        "**8. What are the Most frequent genre ?**\n"
      ]
    },
    {
      "cell_type": "code",
      "execution_count": null,
      "metadata": {
        "id": "GUUS2foJ5-Sr"
      },
      "outputs": [],
      "source": [
        "df.rename(columns={'listed_in':'genre'},inplace=True)"
      ]
    },
    {
      "cell_type": "code",
      "execution_count": null,
      "metadata": {
        "id": "6xITq6jU6Cpf"
      },
      "outputs": [],
      "source": [
        "genres=df['genre'].copy()\n",
        "genres=genres.str.split(\", \")    #we have to unnest the series and explode.\n",
        "genres=genres.explode()"
      ]
    },
    {
      "cell_type": "code",
      "execution_count": null,
      "metadata": {
        "colab": {
          "base_uri": "https://localhost:8080/"
        },
        "id": "Cgpbxj-E7yRC",
        "outputId": "4c8694d0-38a4-49cc-b320-d28512c3e286"
      },
      "outputs": [
        {
          "output_type": "execute_result",
          "data": {
            "text/plain": [
              "42"
            ]
          },
          "metadata": {},
          "execution_count": 55
        }
      ],
      "source": [
        "genres.nunique()"
      ]
    },
    {
      "cell_type": "code",
      "execution_count": null,
      "metadata": {
        "colab": {
          "base_uri": "https://localhost:8080/"
        },
        "id": "oEHAkCBL7yT6",
        "outputId": "8cf04043-3026-4438-f3fa-e7a4079037a8"
      },
      "outputs": [
        {
          "output_type": "execute_result",
          "data": {
            "text/plain": [
              "International Movies        2752\n",
              "Dramas                      2427\n",
              "Comedies                    1674\n",
              "International TV Shows      1351\n",
              "Documentaries                869\n",
              "Action & Adventure           859\n",
              "TV Dramas                    763\n",
              "Independent Movies           756\n",
              "Children & Family Movies     641\n",
              "Romantic Movies              616\n",
              "Name: genre, dtype: int64"
            ]
          },
          "metadata": {},
          "execution_count": 56
        }
      ],
      "source": [
        "genres.value_counts()[:10]   ##top 10 genres"
      ]
    },
    {
      "cell_type": "code",
      "execution_count": null,
      "metadata": {
        "colab": {
          "base_uri": "https://localhost:8080/"
        },
        "id": "JyOSCG387yXi",
        "outputId": "bc421782-3bd0-4416-d325-5b3d8b111db2"
      },
      "outputs": [
        {
          "output_type": "execute_result",
          "data": {
            "text/plain": [
              "TV Horror                       75\n",
              "Anime Features                  71\n",
              "Cult Movies                     71\n",
              "Teen TV Shows                   69\n",
              "Faith & Spirituality            65\n",
              "TV Thrillers                    57\n",
              "Movies                          57\n",
              "Stand-Up Comedy & Talk Shows    56\n",
              "Classic & Cult TV               28\n",
              "Name: genre, dtype: int64"
            ]
          },
          "metadata": {},
          "execution_count": 57
        }
      ],
      "source": [
        "genres.value_counts()[-10:-1]    #bottom 10 genres"
      ]
    },
    {
      "cell_type": "markdown",
      "metadata": {
        "id": "rZzaL8od1_da"
      },
      "source": [
        "Insights:\n",
        "7. Generally movies with duration 90-120 were preffered.\n",
        "8. Tv-shows with many seasons were not preffered hence tv-shows should not have more than 3-4 seasons.\n",
        "9. It can be observed that United States is the most important country followed by India, United kingdom, Canada, France\n",
        "10. genres such as Classic & cult tv,stand-up comedy were least preffered at the plateform. although it may be noted that stand-up comedy is the recently appeared genre.\n",
        "11. Genres like International movies/tv-show, Drama, comedy, action & Adventure and Documentries were most preffered.\n",
        "\n",
        "\n",
        "---\n",
        "\n"
      ]
    },
    {
      "cell_type": "markdown",
      "metadata": {
        "id": "244dnlReyyL2"
      },
      "source": [
        "**9. Who are the top directors in top 5 countries.**\n",
        "\n",
        "\n",
        "lets explore the OTT plateform country wise. we will limit our exploration to top 5 countries (in terms of Business)"
      ]
    },
    {
      "cell_type": "code",
      "execution_count": null,
      "metadata": {
        "colab": {
          "base_uri": "https://localhost:8080/",
          "height": 587
        },
        "id": "lUAjckINY_cO",
        "outputId": "f53764a4-1426-499e-856e-ed673ee976d8"
      },
      "outputs": [
        {
          "output_type": "display_data",
          "data": {
            "text/plain": [
              "<Figure size 2000x400 with 5 Axes>"
            ],
            "image/png": "[encoded data removed]"
          },
          "metadata": {}
        }
      ],
      "source": [
        "plt.figure(figsize=(20,4))\n",
        "j=0\n",
        "for i in top_countries:\n",
        "  j=j+1\n",
        "  top_5_directors=df[df['country'].str.contains(i)]['director'].value_counts()[1:6]  #at 0 index, we have unknown director, hence ignoring it\n",
        "  plt.subplot(1,5,j)\n",
        "  sns.barplot(x=top_5_directors.index,y=top_5_directors.values)\n",
        "  plt.xticks(rotation=90)\n",
        "  plt.title(i)\n",
        "\n",
        "plt.show()"
      ]
    },
    {
      "cell_type": "markdown",
      "metadata": {
        "id": "zu9HOzDbfQMM"
      },
      "source": [
        "**10. Who are the top 5 actors in top 5 business countries.**"
      ]
    },
    {
      "cell_type": "code",
      "execution_count": null,
      "metadata": {
        "colab": {
          "base_uri": "https://localhost:8080/",
          "height": 450
        },
        "id": "W479p4szY_mb",
        "outputId": "c76713d7-8da4-401f-c408-8b30dcfb5899"
      },
      "outputs": [
        {
          "output_type": "display_data",
          "data": {
            "text/plain": [
              "<Figure size 2000x400 with 5 Axes>"
            ],
            "image/png": "[encoded data removed]"
          },
          "metadata": {}
        }
      ],
      "source": [
        "plt.figure(figsize=(20,4))\n",
        "j=0\n",
        "for i in top_countries:\n",
        "  j=j+1\n",
        "  top_5_cast=df3[df3['country'].str.contains(i)]['cast'].value_counts()[:5]\n",
        "\n",
        "  plt.subplot(1,5,j)\n",
        "  sns.barplot(x=top_5_cast.index,y=top_5_cast.values)\n",
        "  plt.xticks(rotation=90)\n",
        "  plt.title(i)\n",
        "\n",
        "\n",
        "plt.show()"
      ]
    },
    {
      "cell_type": "markdown",
      "metadata": {
        "id": "RIpLY0eX2Tsw"
      },
      "source": [
        "**11. what are top 3 genres in the top 5 countries?**"
      ]
    },
    {
      "cell_type": "code",
      "execution_count": null,
      "metadata": {
        "colab": {
          "base_uri": "https://localhost:8080/",
          "height": 206
        },
        "id": "rtFUpOZIli2J",
        "outputId": "9453116f-ba8d-47f8-cfd3-f44ca1b35bac"
      },
      "outputs": [
        {
          "output_type": "execute_result",
          "data": {
            "text/plain": [
              "         country                   genre\n",
              "0  United States           Documentaries\n",
              "1   South Africa  International TV Shows\n",
              "1   South Africa               TV Dramas\n",
              "1   South Africa            TV Mysteries\n",
              "2         France          Crime TV Shows"
            ],
            "text/html": [
              "\n",
              "  <div id=\"df-40dcabc0-b536-4f55-890c-8bfcc8687cf7\" class=\"colab-df-container\">\n",
              "    <div>\n",
              "<style scoped>\n",
              "    .dataframe tbody tr th:only-of-type {\n",
              "        vertical-align: middle;\n",
              "    }\n",
              "\n",
              "    .dataframe tbody tr th {\n",
              "        vertical-align: top;\n",
              "    }\n",
              "\n",
              "    .dataframe thead th {\n",
              "        text-align: right;\n",
              "    }\n",
              "</style>\n",
              "<table border=\"1\" class=\"dataframe\">\n",
              "  <thead>\n",
              "    <tr style=\"text-align: right;\">\n",
              "      <th></th>\n",
              "      <th>country</th>\n",
              "      <th>genre</th>\n",
              "    </tr>\n",
              "  </thead>\n",
              "  <tbody>\n",
              "    <tr>\n",
              "      <th>0</th>\n",
              "      <td>United States</td>\n",
              "      <td>Documentaries</td>\n",
              "    </tr>\n",
              "    <tr>\n",
              "      <th>1</th>\n",
              "      <td>South Africa</td>\n",
              "      <td>International TV Shows</td>\n",
              "    </tr>\n",
              "    <tr>\n",
              "      <th>1</th>\n",
              "      <td>South Africa</td>\n",
              "      <td>TV Dramas</td>\n",
              "    </tr>\n",
              "    <tr>\n",
              "      <th>1</th>\n",
              "      <td>South Africa</td>\n",
              "      <td>TV Mysteries</td>\n",
              "    </tr>\n",
              "    <tr>\n",
              "      <th>2</th>\n",
              "      <td>France</td>\n",
              "      <td>Crime TV Shows</td>\n",
              "    </tr>\n",
              "  </tbody>\n",
              "</table>\n",
              "</div>\n",
              "    <div class=\"colab-df-buttons\">\n",
              "\n",
              "  <div class=\"colab-df-container\">\n",
              "    <button class=\"colab-df-convert\" onclick=\"convertToInteractive('df-40dcabc0-b536-4f55-890c-8bfcc8687cf7')\"\n",
              "            title=\"Convert this dataframe to an interactive table.\"\n",
              "            style=\"display:none;\">\n",
              "\n",
              "  <svg xmlns=\"http://www.w3.org/2000/svg\" height=\"24px\" viewBox=\"0 -960 960 960\">\n",
              "    <path d=\"M120-120v-720h720v720H120Zm60-500h600v-160H180v160Zm220 220h160v-160H400v160Zm0 220h160v-160H400v160ZM180-400h160v-160H180v160Zm440 0h160v-160H620v160ZM180-180h160v-160H180v160Zm440 0h160v-160H620v160Z\"/>\n",
              "  </svg>\n",
              "    </button>\n",
              "\n",
              "  <style>\n",
              "    .colab-df-container {\n",
              "      display:flex;\n",
              "      gap: 12px;\n",
              "    }\n",
              "\n",
              "    .colab-df-convert {\n",
              "      background-color: #E8F0FE;\n",
              "      border: none;\n",
              "      border-radius: 50%;\n",
              "      cursor: pointer;\n",
              "      display: none;\n",
              "      fill: #1967D2;\n",
              "      height: 32px;\n",
              "      padding: 0 0 0 0;\n",
              "      width: 32px;\n",
              "    }\n",
              "\n",
              "    .colab-df-convert:hover {\n",
              "      background-color: #E2EBFA;\n",
              "      box-shadow: 0px 1px 2px rgba(60, 64, 67, 0.3), 0px 1px 3px 1px rgba(60, 64, 67, 0.15);\n",
              "      fill: #174EA6;\n",
              "    }\n",
              "\n",
              "    .colab-df-buttons div {\n",
              "      margin-bottom: 4px;\n",
              "    }\n",
              "\n",
              "    [theme=dark] .colab-df-convert {\n",
              "      background-color: #3B4455;\n",
              "      fill: #D2E3FC;\n",
              "    }\n",
              "\n",
              "    [theme=dark] .colab-df-convert:hover {\n",
              "      background-color: #434B5C;\n",
              "      box-shadow: 0px 1px 3px 1px rgba(0, 0, 0, 0.15);\n",
              "      filter: drop-shadow(0px 1px 2px rgba(0, 0, 0, 0.3));\n",
              "      fill: #FFFFFF;\n",
              "    }\n",
              "  </style>\n",
              "\n",
              "    <script>\n",
              "      const buttonEl =\n",
              "        document.querySelector('#df-40dcabc0-b536-4f55-890c-8bfcc8687cf7 button.colab-df-convert');\n",
              "      buttonEl.style.display =\n",
              "        google.colab.kernel.accessAllowed ? 'block' : 'none';\n",
              "\n",
              "      async function convertToInteractive(key) {\n",
              "        const element = document.querySelector('#df-40dcabc0-b536-4f55-890c-8bfcc8687cf7');\n",
              "        const dataTable =\n",
              "          await google.colab.kernel.invokeFunction('convertToInteractive',\n",
              "                                                    [key], {});\n",
              "        if (!dataTable) return;\n",
              "\n",
              "        const docLinkHtml = 'Like what you see? Visit the ' +\n",
              "          '<a target=\"_blank\" href=https://colab.research.google.com/notebooks/data_table.ipynb>data table notebook</a>'\n",
              "          + ' to learn more about interactive tables.';\n",
              "        element.innerHTML = '';\n",
              "        dataTable['output_type'] = 'display_data';\n",
              "        await google.colab.output.renderOutput(dataTable, element);\n",
              "        const docLink = document.createElement('div');\n",
              "        docLink.innerHTML = docLinkHtml;\n",
              "        element.appendChild(docLink);\n",
              "      }\n",
              "    </script>\n",
              "  </div>\n",
              "\n",
              "\n",
              "<div id=\"df-638a7bbf-7fcb-4eff-bf98-12bad467b1c1\">\n",
              "  <button class=\"colab-df-quickchart\" onclick=\"quickchart('df-638a7bbf-7fcb-4eff-bf98-12bad467b1c1')\"\n",
              "            title=\"Suggest charts\"\n",
              "            style=\"display:none;\">\n",
              "\n",
              "<svg xmlns=\"http://www.w3.org/2000/svg\" height=\"24px\"viewBox=\"0 0 24 24\"\n",
              "     width=\"24px\">\n",
              "    <g>\n",
              "        <path d=\"M19 3H5c-1.1 0-2 .9-2 2v14c0 1.1.9 2 2 2h14c1.1 0 2-.9 2-2V5c0-1.1-.9-2-2-2zM9 17H7v-7h2v7zm4 0h-2V7h2v10zm4 0h-2v-4h2v4z\"/>\n",
              "    </g>\n",
              "</svg>\n",
              "  </button>\n",
              "\n",
              "<style>\n",
              "  .colab-df-quickchart {\n",
              "      --bg-color: #E8F0FE;\n",
              "      --fill-color: #1967D2;\n",
              "      --hover-bg-color: #E2EBFA;\n",
              "      --hover-fill-color: #174EA6;\n",
              "      --disabled-fill-color: #AAA;\n",
              "      --disabled-bg-color: #DDD;\n",
              "  }\n",
              "\n",
              "  [theme=dark] .colab-df-quickchart {\n",
              "      --bg-color: #3B4455;\n",
              "      --fill-color: #D2E3FC;\n",
              "      --hover-bg-color: #434B5C;\n",
              "      --hover-fill-color: #FFFFFF;\n",
              "      --disabled-bg-color: #3B4455;\n",
              "      --disabled-fill-color: #666;\n",
              "  }\n",
              "\n",
              "  .colab-df-quickchart {\n",
              "    background-color: var(--bg-color);\n",
              "    border: none;\n",
              "    border-radius: 50%;\n",
              "    cursor: pointer;\n",
              "    display: none;\n",
              "    fill: var(--fill-color);\n",
              "    height: 32px;\n",
              "    padding: 0;\n",
              "    width: 32px;\n",
              "  }\n",
              "\n",
              "  .colab-df-quickchart:hover {\n",
              "    background-color: var(--hover-bg-color);\n",
              "    box-shadow: 0 1px 2px rgba(60, 64, 67, 0.3), 0 1px 3px 1px rgba(60, 64, 67, 0.15);\n",
              "    fill: var(--button-hover-fill-color);\n",
              "  }\n",
              "\n",
              "  .colab-df-quickchart-complete:disabled,\n",
              "  .colab-df-quickchart-complete:disabled:hover {\n",
              "    background-color: var(--disabled-bg-color);\n",
              "    fill: var(--disabled-fill-color);\n",
              "    box-shadow: none;\n",
              "  }\n",
              "\n",
              "  .colab-df-spinner {\n",
              "    border: 2px solid var(--fill-color);\n",
              "    border-color: transparent;\n",
              "    border-bottom-color: var(--fill-color);\n",
              "    animation:\n",
              "      spin 1s steps(1) infinite;\n",
              "  }\n",
              "\n",
              "  @keyframes spin {\n",
              "    0% {\n",
              "      border-color: transparent;\n",
              "      border-bottom-color: var(--fill-color);\n",
              "      border-left-color: var(--fill-color);\n",
              "    }\n",
              "    20% {\n",
              "      border-color: transparent;\n",
              "      border-left-color: var(--fill-color);\n",
              "      border-top-color: var(--fill-color);\n",
              "    }\n",
              "    30% {\n",
              "      border-color: transparent;\n",
              "      border-left-color: var(--fill-color);\n",
              "      border-top-color: var(--fill-color);\n",
              "      border-right-color: var(--fill-color);\n",
              "    }\n",
              "    40% {\n",
              "      border-color: transparent;\n",
              "      border-right-color: var(--fill-color);\n",
              "      border-top-color: var(--fill-color);\n",
              "    }\n",
              "    60% {\n",
              "      border-color: transparent;\n",
              "      border-right-color: var(--fill-color);\n",
              "    }\n",
              "    80% {\n",
              "      border-color: transparent;\n",
              "      border-right-color: var(--fill-color);\n",
              "      border-bottom-color: var(--fill-color);\n",
              "    }\n",
              "    90% {\n",
              "      border-color: transparent;\n",
              "      border-bottom-color: var(--fill-color);\n",
              "    }\n",
              "  }\n",
              "</style>\n",
              "\n",
              "  <script>\n",
              "    async function quickchart(key) {\n",
              "      const quickchartButtonEl =\n",
              "        document.querySelector('#' + key + ' button');\n",
              "      quickchartButtonEl.disabled = true;  // To prevent multiple clicks.\n",
              "      quickchartButtonEl.classList.add('colab-df-spinner');\n",
              "      try {\n",
              "        const charts = await google.colab.kernel.invokeFunction(\n",
              "            'suggestCharts', [key], {});\n",
              "      } catch (error) {\n",
              "        console.error('Error during call to suggestCharts:', error);\n",
              "      }\n",
              "      quickchartButtonEl.classList.remove('colab-df-spinner');\n",
              "      quickchartButtonEl.classList.add('colab-df-quickchart-complete');\n",
              "    }\n",
              "    (() => {\n",
              "      let quickchartButtonEl =\n",
              "        document.querySelector('#df-638a7bbf-7fcb-4eff-bf98-12bad467b1c1 button');\n",
              "      quickchartButtonEl.style.display =\n",
              "        google.colab.kernel.accessAllowed ? 'block' : 'none';\n",
              "    })();\n",
              "  </script>\n",
              "</div>\n",
              "    </div>\n",
              "  </div>\n"
            ]
          },
          "metadata": {},
          "execution_count": 60
        }
      ],
      "source": [
        "df4=df[['country','genre']].copy()\n",
        "df4['genre']=df4['genre'].str.split(\", \")\n",
        "df4=df4.explode('genre')\n",
        "df4.head()"
      ]
    },
    {
      "cell_type": "code",
      "source": [
        "plt.figure(figsize=(20,4))\n",
        "j=0\n",
        "for i in top_countries:\n",
        "  j=j+1\n",
        "  top_3_genre=df4[df4['country'].str.contains(i)]['genre'].value_counts()[:3]\n",
        "\n",
        "  plt.subplot(1,5,j)\n",
        "  sns.barplot(x=top_3_genre.index, y=top_3_genre.values)\n",
        "  plt.xticks(rotation=90)\n",
        "  plt.title(i)\n",
        "\n",
        "\n",
        "plt.show()\n",
        "\n"
      ],
      "metadata": {
        "colab": {
          "base_uri": "https://localhost:8080/",
          "height": 475
        },
        "id": "u_vcRc6Dm3IZ",
        "outputId": "69171deb-a775-4a23-9ca5-5024d96001ee"
      },
      "execution_count": null,
      "outputs": [
        {
          "output_type": "display_data",
          "data": {
            "text/plain": [
              "<Figure size 2000x400 with 5 Axes>"
            ],
            "image/png": "[encoded data removed]"
          },
          "metadata": {}
        }
      ]
    },
    {
      "cell_type": "markdown",
      "source": [
        "Insights:\n",
        "\n",
        "12. Top 5 Directors in United States are\n",
        "                                  1. 'Marcus Raboy'\n",
        "                                  2. 'Jay Karas'\n",
        "                                  3. 'Martin Scorsese'\n",
        "                                  4. 'Jay Chapman'\n",
        "                                  5. 'Steven Spielberg'\n",
        "13. Top 5 cast in United States are\n",
        "                                  1. Samuel L. Jackson\n",
        "                                  2. Tara Strong\n",
        "                                  3. Fred Tatasciore\n",
        "                                  4. Adam Sandler\n",
        "                                  5. James Franco  \n",
        "14. Top 3 Genres in United States Index 'Dramas', 'Comedies', 'Documentaries'\n",
        "15. Top 5 Directors in India are\n",
        "                                1. 'Rajiv Chilaka'  \n",
        "                                2. 'Suhas Kadav'\n",
        "                                3. 'David Dhawan'\n",
        "                                4. 'Ram Gopal Varma'\n",
        "                                5. 'S.S. Rajamouli'\n",
        "16. Top 5 cast in India are\n",
        "                              1. Anupam Kher\n",
        "                              2. Shah Rukh Khan\n",
        "                              3. Naseeruddin Shah\n",
        "                              4. Akshay Kumar\n",
        "                              5. Om Puri\n",
        "17. top Genre in India are 'International Movies', 'Dramas', 'Comedies'\n",
        "18. Top 5 Directors in United Kingdom are\n",
        "                                      1. 'Joey So'\n",
        "                                      2. 'Edward Cotterill'\n",
        "                                      3. 'Chris Howe'\n",
        "                                      4. 'Blair Simmons'\n",
        "                                      5. 'Orlando von Einsiedel'\n",
        "19. Top 5 cast in United Kingdom are\n",
        "                                  1. David Attenborough\n",
        "                                  2. John Cleese\n",
        "                                  3. Michael Palin\n",
        "                                  4. Eric Idle\n",
        "                                  5. Terry Jones\n",
        "20. Top genre in United Kingdom are'British TV Shows', 'Dramas','International Movies'\n",
        "\n",
        "21. Top 5 Directors in Canada are\n",
        "                                1. 'Justin G. Dyck'\n",
        "                                2. 'Robert Vince'\n",
        "                                3. 'Mike Clattenburg'\n",
        "                                4. 'Barry Avrich'\n",
        "                                5. 'Mike Smith\n",
        "22. Top 5 cast in Canada are\n",
        "                            1. Robb Wells\n",
        "                            2. Vincent Tong\n",
        "                            3. John Paul Tremblay\n",
        "                            4. Andrea Libman\n",
        "                            5. John Dunsworth\n",
        "23. Top Genre in Canada are 'Comedies', 'Children & Family Movies', 'Dramas'\n",
        "24. Top 5 Directors in France\n",
        "                            1. 'Thierry Donard'\n",
        "                            2. 'Youssef Chahine'\n",
        "                            3. 'Julien Leclercq'\n",
        "                            4. 'Olivier Assayas'\n",
        "                            5. 'Jane Campion'  \n",
        "25. Top 5 cast in France are\n",
        "                          1. Wille Lindberg\n",
        "                          2. Benoît Magimel\n",
        "                          3. Blanche Gardin\n",
        "                          4. Kristin Scott Thomas\n",
        "                          5. Jesse Richman\n",
        "26. Top Genre in France are 'International Movies', 'Dramas', 'Independent Movies'\n",
        "\n",
        "27. It may be noted that American continent countries Like US, Canada do not consume International content unlike other non american countries.\n"
      ],
      "metadata": {
        "id": "MciD_0xvo3bo"
      }
    },
    {
      "cell_type": "markdown",
      "metadata": {
        "id": "CX273xrcfqXE"
      },
      "source": [
        "**12. Visulaize upload per month trend in these top countries**"
      ]
    },
    {
      "cell_type": "code",
      "source": [
        "plt.figure(figsize=(18,4))\n",
        "j=0\n",
        "for i in top_countries:\n",
        "  j=j+1\n",
        "  plt.subplot(1,5,j)\n",
        "  sns.lineplot(data=df[df['country']==i].groupby(by=[\"year_of_upload\",\"month_of_upload\"])['title'].count().reset_index(),x='year_of_upload',y='title')\n",
        "  plt.title(i)\n",
        "  plt.ylabel('no_of_uploads_in_month')\n",
        "\n",
        "plt.show()\n"
      ],
      "metadata": {
        "id": "1EQq2fs81mJi",
        "colab": {
          "base_uri": "https://localhost:8080/",
          "height": 387
        },
        "outputId": "f9160d84-68eb-46b7-9d68-42c32c1cf47f"
      },
      "execution_count": null,
      "outputs": [
        {
          "output_type": "display_data",
          "data": {
            "text/plain": [
              "<Figure size 1800x400 with 5 Axes>"
            ],
            "image/png": "[encoded data removed]"
          },
          "metadata": {}
        }
      ]
    },
    {
      "cell_type": "markdown",
      "source": [
        "Insights\n",
        "28. Number of uploads are significantly very high in US and India as compared to any other country.\n",
        "29. Number of uploads are steadly increasing in United States.\n",
        "30. In India, number of uploads made peak in 2018 and then almost halved.\n",
        "31. In United Kingdom, number of uploads made 2 peaks in 2017 & 2019\n",
        "32. In Canada, number of uploads made 2 peaks\n",
        "33. In France, number of uploads made 2 peaks"
      ],
      "metadata": {
        "id": "2XsWm3wPiNFH"
      }
    },
    {
      "cell_type": "code",
      "source": [],
      "metadata": {
        "id": "Cs5A6S6t1m_R"
      },
      "execution_count": null,
      "outputs": []
    },
    {
      "cell_type": "markdown",
      "source": [
        "## Insights:\n",
        "\n",
        "\n",
        "---\n",
        "\n",
        "\n",
        "1. we have data available from january 2008 to september 2021\n",
        "2. The ratio of movies to tv_show is 7:3\n",
        "3. TV-MA,TV-14 are common rating of content uploaded on the OTT platform.\n",
        "4. OTT platform got significant uploads from 2016 onwards.\n",
        "5. There is continous rise in number of uploads, noteably 2019 got most uploads which might be because of covid-19 breakout & lockdowns.\n",
        "6. The number of uploads per months since 2016 onwards are continously rising with peak in 2019. (note: year 2021 have data of 9 months only)\n",
        "7. Generally movies with duration 90-120 were preffered.\n",
        "8. Tv-shows with many seasons were not preffered hence tv-shows should not have more than 3-4 seasons.\n",
        "9. It can be observed that United States is the most important country followed by India, United kingdom, Canada, France\n",
        "10. genres such as Classic & cult tv,stand-up comedy were least preffered at the plateform. although it may be noted that stand-up comedy is the recently appeared genre.\n",
        "11. Genres like International movies/tv-show, Drama, comedy, action & Adventure and Documentries were most preffered.\n",
        "12. Top 5 Directors in United States are\n",
        "                                  1. 'Marcus Raboy'\n",
        "                                  2. 'Jay Karas'\n",
        "                                  3. 'Martin Scorsese'\n",
        "                                  4. 'Jay Chapman'\n",
        "                                  5. 'Steven Spielberg'\n",
        "13. Top 5 cast in United States are\n",
        "                                  1. Samuel L. Jackson\n",
        "                                  2. Tara Strong\n",
        "                                  3. Fred Tatasciore\n",
        "                                  4. Adam Sandler\n",
        "                                  5. James Franco  \n",
        "14. Top 3 Genres in United States Index 'Dramas', 'Comedies', 'Documentaries'\n",
        "15. Top 5 Directors in India are\n",
        "                                1. 'Rajiv Chilaka'  \n",
        "                                2. 'Suhas Kadav'\n",
        "                                3. 'David Dhawan'\n",
        "                                4. 'Ram Gopal Varma'\n",
        "                                5. 'S.S. Rajamouli'\n",
        "16. Top 5 cast in India are\n",
        "                              1. Anupam Kher\n",
        "                              2. Shah Rukh Khan\n",
        "                              3. Naseeruddin Shah\n",
        "                              4. Akshay Kumar\n",
        "                              5. Om Puri\n",
        "17. top Genre in India are 'International Movies', 'Dramas', 'Comedies'\n",
        "18. Top 5 Directors in United Kingdom are\n",
        "                                      1. 'Joey So'\n",
        "                                      2. 'Edward Cotterill'\n",
        "                                      3. 'Chris Howe'\n",
        "                                      4. 'Blair Simmons'\n",
        "                                      5. 'Orlando von Einsiedel'\n",
        "19. Top 5 cast in United Kingdom are\n",
        "                                  1. David Attenborough\n",
        "                                  2. John Cleese\n",
        "                                  3. Michael Palin\n",
        "                                  4. Eric Idle\n",
        "                                  5. Terry Jones\n",
        "20. Top genre in United Kingdom are'British TV Shows', 'Dramas','International Movies'\n",
        "\n",
        "21. Top 5 Directors in Canada are\n",
        "                                1. 'Justin G. Dyck'\n",
        "                                2. 'Robert Vince'\n",
        "                                3. 'Mike Clattenburg'\n",
        "                                4. 'Barry Avrich'\n",
        "                                5. 'Mike Smith\n",
        "22. Top 5 cast in Canada are\n",
        "                            1. Robb Wells\n",
        "                            2. Vincent Tong\n",
        "                            3. John Paul Tremblay\n",
        "                            4. Andrea Libman\n",
        "                            5. John Dunsworth\n",
        "23. Top Genre in Canada are 'Comedies', 'Children & Family Movies', 'Dramas'\n",
        "24. Top 5 Directors in France\n",
        "                            1. 'Thierry Donard'\n",
        "                            2. 'Youssef Chahine'\n",
        "                            3. 'Julien Leclercq'\n",
        "                            4. 'Olivier Assayas'\n",
        "                            5. 'Jane Campion'  \n",
        "25. Top 5 cast in France are\n",
        "                          1. Wille Lindberg\n",
        "                          2. Benoît Magimel\n",
        "                          3. Blanche Gardin\n",
        "                          4. Kristin Scott Thomas\n",
        "                          5. Jesse Richman\n",
        "26. Top Genre in France are 'International Movies', 'Dramas', 'Independent Movies'\n",
        "\n",
        "27. It may be noted that American continent countries Like US, Canada do not consume International content unlike other non american countries.\n",
        "28. Number of uploads are significantly very high in US and India as compared to any other country.\n",
        "29. Number of uploads are steadly increasing in United States.\n",
        "30. In India, number of uploads made peak in 2018 and then almost halved.\n",
        "31. In United Kingdom, number of uploads made 2 peaks in 2017 & 2019\n",
        "32. In Canada, number of uploads made 2 peaks\n",
        "33. In France, number of uploads made 2 peaks\n",
        "\n",
        "\n",
        "---\n",
        "\n"
      ],
      "metadata": {
        "id": "DXB1al3TXru7"
      }
    },
    {
      "cell_type": "markdown",
      "metadata": {
        "id": "Uhv37TR8Vw5O"
      },
      "source": [
        "# ***Recommendations:***\n",
        "\n",
        "Note: All the recommendations are based on assumption that this OTT plateform had done good business and their strategies are already proven.\n",
        "\n",
        "1. Audience preffers to watch movies more than tv-shows. hence movies should be preffered over tv-shows for new content creation.\n",
        "2.  Most common rating are TV-MA,TV-14. Hence target audience for new content is mature audience above 14 year of age. they consume most of the content.\n",
        "3. number of movies uploads are continously increasing across the OTT which signifies that OTT market are not yet saturated and have potential for more oppurtunity.\n",
        "4. While making new movies, duration should be around 90-120 minutes.\n",
        "5. while making new shows, maximum seasons should not be more than 4.\n",
        "6. For making new content, Drama, comedy, action & Adventure and Documentries should be preffered genres. whereas content creator should be careful while dealing with Classic & cult tv,stand-up comedy genres.\n",
        "7. US, India are important countries for content creation followed by United kingdom, canada and France.\n",
        "8. American audience do not preffers International movies although they are preffered in India, Britain and France. Hence american movies can be distribited to such contries.\n",
        "\n",
        "\n",
        "\n",
        "\n"
      ]
    },
    {
      "cell_type": "code",
      "execution_count": null,
      "metadata": {
        "id": "2oZVKpiwkjl0"
      },
      "outputs": [],
      "source": []
    },
    {
      "cell_type": "code",
      "execution_count": null,
      "metadata": {
        "id": "u6ypCVxglT7C"
      },
      "outputs": [],
      "source": []
    }
  ],
  "metadata": {
    "colab": {
      "provenance": [],
      "collapsed_sections": [
        "Hbkuzmeti8EB",
        "yTVz2Y_dmsuA",
        "Sqnebe0n9y-A"
      ],
      "include_colab_link": true
    },
    "kernelspec": {
      "display_name": "Python 3 (ipykernel)",
      "language": "python",
      "name": "python3"
    },
    "language_info": {
      "codemirror_mode": {
        "name": "ipython",
        "version": 3
      },
      "file_extension": ".py",
      "mimetype": "text/x-python",
      "name": "python",
      "nbconvert_exporter": "python",
      "pygments_lexer": "ipython3",
      "version": "3.12.0"
    }
  },
  "nbformat": 4,
  "nbformat_minor": 0
}